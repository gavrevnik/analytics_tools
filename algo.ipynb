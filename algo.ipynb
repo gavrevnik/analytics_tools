{
 "cells": [
  {
   "cell_type": "code",
   "execution_count": null,
   "metadata": {},
   "outputs": [],
   "source": [
    "import numpy as np\n",
    "from copy import deepcopy, copy\n",
    "import string\n",
    "import random\n",
    "import itertools\n"
   ]
  },
  {
   "cell_type": "markdown",
   "metadata": {},
   "source": [
    "## LeetCode Learning"
   ]
  },
  {
   "cell_type": "markdown",
   "metadata": {},
   "source": [
    "### array"
   ]
  },
  {
   "cell_type": "code",
   "execution_count": null,
   "metadata": {},
   "outputs": [],
   "source": [
    "# Given an integer array nums sorted in non-decreasing order, return an \n",
    "# array of the squares of each number sorted in non-decreasing order\n",
    "# TWO POINTER TECHNIQUE\n",
    "nums = [-4,-1,0,3,10]\n",
    "def get_sq_sort(nums):\n",
    "    n = len(nums)\n",
    "    result = [0] * n\n",
    "    left = 0; right = n-1\n",
    "    for i in range(n-1, -1, -1):\n",
    "        if nums[left]**2 < nums[right]**2:\n",
    "            result[i] = nums[right]**2\n",
    "            right = right - 1\n",
    "        else:\n",
    "            result[i] = nums[left]**2\n",
    "            left = left + 1\n",
    "        print(i)\n",
    "    return result"
   ]
  },
  {
   "cell_type": "code",
   "execution_count": null,
   "metadata": {},
   "outputs": [],
   "source": [
    "def zero_dupl_inplace(arr):\n",
    "        idx = 0\n",
    "        while (idx < len(arr) - 1):\n",
    "            if arr[idx] == 0:\n",
    "                for idx2 in range(len(arr) - 1, idx,  -1):\n",
    "                    arr[idx2] = arr[idx2 - 1]\n",
    "                idx += 2\n",
    "            else:\n",
    "                idx += 1\n",
    "arr = [1, 0, 2, 3, 0, 5]\n",
    "zero_dupl_inplace(arr)\n",
    "arr"
   ]
  },
  {
   "cell_type": "code",
   "execution_count": null,
   "metadata": {},
   "outputs": [],
   "source": [
    "n"
   ]
  },
  {
   "cell_type": "markdown",
   "metadata": {},
   "source": [
    "### linked list"
   ]
  },
  {
   "cell_type": "code",
   "execution_count": null,
   "metadata": {},
   "outputs": [],
   "source": []
  },
  {
   "cell_type": "code",
   "execution_count": null,
   "metadata": {},
   "outputs": [],
   "source": []
  },
  {
   "cell_type": "code",
   "execution_count": null,
   "metadata": {},
   "outputs": [],
   "source": []
  },
  {
   "cell_type": "code",
   "execution_count": null,
   "metadata": {},
   "outputs": [],
   "source": []
  },
  {
   "cell_type": "code",
   "execution_count": null,
   "metadata": {},
   "outputs": [],
   "source": []
  },
  {
   "cell_type": "markdown",
   "metadata": {},
   "source": [
    "## CrackingCodingInterview"
   ]
  },
  {
   "cell_type": "markdown",
   "metadata": {},
   "source": [
    "### Chapter 1. Arrays and Strings"
   ]
  },
  {
   "cell_type": "code",
   "execution_count": null,
   "metadata": {},
   "outputs": [],
   "source": [
    "def str_gen(N, spaces=False):\n",
    "    seed = string.ascii_uppercase\n",
    "    if spaces:\n",
    "        seed = string.ascii_uppercase + ' '\n",
    "    return ''.join(random.choice(seed) for _ in range(N))"
   ]
  },
  {
   "cell_type": "code",
   "execution_count": null,
   "metadata": {},
   "outputs": [],
   "source": [
    "# Is Unique: Implement an algorithm to determine if a string has all unique characters. \n",
    "# What if you cannot use additional data structures?\n",
    "N = 100\n",
    "str_ = str_gen(N)\n",
    "def is_dubl(x):\n",
    "    dict_map = {}\n",
    "    for j in x: # N\n",
    "        if dict_map.get(j) is None:\n",
    "            dict_map[j]=1\n",
    "        else:\n",
    "            return 1\n",
    "    return 0\n",
    "\n",
    "def is_dubl2(x):\n",
    "    for idx1, val1 in enumerate(x):\n",
    "        for idx2, val2 in enumerate(x):\n",
    "            if (idx1 != idx2) and (val1 == val2):\n",
    "                return 1\n",
    "    return 0"
   ]
  },
  {
   "cell_type": "code",
   "execution_count": null,
   "metadata": {},
   "outputs": [],
   "source": [
    "# Check Permutation: Given two strings, write a method to decide if one is a permutation of the other\n",
    "\n",
    "# Q: lower/upper case; space's\n",
    "# ascii/unicode; instead of hash you can use array with idx = alphabet pos\n",
    "\n",
    "N = 7\n",
    "str_1 = str_gen(N)\n",
    "# str_2 = ''.join(list(itertools.permutations(str_1))[4])\n",
    "str_2 = str_gen(N)\n",
    "\n",
    "# BAD\n",
    "def dict_counter(str_):\n",
    "    dict_ = {}\n",
    "    for s in str_:\n",
    "        if dict_.get(s) is None:\n",
    "            dict_[s] = 1\n",
    "        else:\n",
    "            dict_[s] += 1\n",
    "    return dict_\n",
    "\n",
    "def is_perm(str1, str2):\n",
    "    if (len(str1) == 0) or (len(str2) == 0) or (len(str1) != len(str2)):\n",
    "        return 0\n",
    "    dict_1, dict_2 = dict_counter(str1), dict_counter(str2) # 2N\n",
    "    for k in dict_1.keys():\n",
    "        if dict_1[k] == dict_2.get(k):\n",
    "            dict_2.pop(k)\n",
    "        else:\n",
    "            return 0\n",
    "    if len(dict_2) > 0:\n",
    "        return 0\n",
    "    return 1\n",
    "\n",
    "# is_perm(str_1, str_2)   \n",
    "\n",
    "# BETTER\n",
    "def is_perm(str1, str2):\n",
    "    array = [0] * 128 # fix\n",
    "    for s in str1:\n",
    "        idx = ord(s) - ord('a')\n",
    "        array[idx] += 1\n",
    "    for s in str2:\n",
    "        idx = ord(s) - ord('a')\n",
    "        array[idx] -= 1\n",
    "        if array[idx] < 0:\n",
    "            return 0\n",
    "    return 1\n",
    "\n",
    "is_perm(str_1, str_2)  "
   ]
  },
  {
   "cell_type": "code",
   "execution_count": null,
   "metadata": {},
   "outputs": [],
   "source": [
    "str_ = str_gen(10, True)"
   ]
  },
  {
   "cell_type": "code",
   "execution_count": null,
   "metadata": {},
   "outputs": [],
   "source": [
    "# Given a string, write a function to check if it is a permutation of a palindrome\n",
    "# Q: ignore all non-letter symbols; upper/lower case\n",
    "def get_letter_number(ch):\n",
    "    idx = ord(ch) - ord('a')\n",
    "    if idx > ord('z') - ord('a'):\n",
    "        return -1\n",
    "    return idx\n",
    "    \n",
    "def is_perm_pal(str_):\n",
    "    array = [0] * (ord('z') - ord('a') + 1)\n",
    "    for ch in str_: # get array counter, O(N)\n",
    "        idx = get_letter_number(ch)\n",
    "        if idx > 0:\n",
    "            array[idx] += 1\n",
    "    res = 0\n",
    "    for val in array: # check if not even char's 0 or 1 (O(N))\n",
    "        if val%2 != 0:\n",
    "            res += 1\n",
    "    if res > 1:\n",
    "        return 0\n",
    "    return 1\n",
    "            \n",
    "        \n",
    "        \n",
    "is_perm_pal(str_)"
   ]
  },
  {
   "cell_type": "code",
   "execution_count": null,
   "metadata": {},
   "outputs": [],
   "source": [
    "def get_ch_num(ch):\n",
    "    idx = ord(ch) - ord('a')\n",
    "    if idx > ord('z') - ord('a'):\n",
    "        return -1\n",
    "    return idx\n",
    "def counter(str_):\n",
    "    array = 27 * [0]\n",
    "    for ch in str_:\n",
    "        idx = get_ch_num(ch)\n",
    "        array[idx] += 1\n",
    "    return array"
   ]
  },
  {
   "cell_type": "code",
   "execution_count": null,
   "metadata": {},
   "outputs": [],
   "source": [
    "# There are three types of edits that can be performed on strings: \n",
    "# ADD a character, REMOVE a character, or REPLACE a character. \n",
    "# Given two strings, write a function to check if they are one edit (or zero edits) away\n",
    "# pale, ple true \n",
    "# pales, pale -> true \n",
    "# pale, bale -> true  \n",
    "# pale, bae -> false\n",
    "\n",
    "# Q: ascii, upper/lower\n",
    "# is it any place we can ADD/REMOVE char?\n",
    "\n",
    "def check_if_01_edit(str1, str2):\n",
    "    # str2 is bigger than str1\n",
    "    if len(str2) < len(str1): \n",
    "        str1, str2 = str2, str1\n",
    "    len1, len2 = len(str1), len(str2)\n",
    "    delta = len2 - len1\n",
    "    \n",
    "    # diff more 1 symb\n",
    "    if delta > 1:\n",
    "        return 0\n",
    "        \n",
    "#     # delta=1=remove/add; delta=0=replace/none\n",
    "#     shift = 0\n",
    "#     for j in range(len1):\n",
    "#         if str1[j - shift * delta] != str2[j]:\n",
    "#             shift += 1\n",
    "#             if shift > 1:\n",
    "#                 return 0\n",
    "#     return 1\n",
    "    \n",
    "    # OR with two value loops\n",
    "    idx1, idx2, error = 0, 0, 0\n",
    "    while((idx1 < len1) and (idx2 < len2)):\n",
    "        if str1[idx1] != str2[idx2]:\n",
    "            error += 1\n",
    "            if error > 1:\n",
    "                return 0\n",
    "            if delta == 1:\n",
    "                idx1 += 1\n",
    "        idx1 += 1\n",
    "        idx2 +=1\n",
    "    return 1\n",
    "\n",
    "\n",
    "\n",
    "\n",
    "str1, str2 = 'pale', 'palde'\n",
    "check_if_01_edit(str1, str2)"
   ]
  },
  {
   "cell_type": "code",
   "execution_count": null,
   "metadata": {},
   "outputs": [],
   "source": [
    "# StringBuilder\n",
    "str_array = ['word1', 'word2']\n",
    "def str_builder_bad(str_array):\n",
    "    ans = ''\n",
    "    for w in str_array:\n",
    "        ans += w\n",
    "    return ans\n",
    "# bad = because O(n**2) - need to copy x + 2x + 3x + ... = n**2 * x; n strings\n",
    "str_builder_bad(str_array)\n",
    "# good = create "
   ]
  },
  {
   "cell_type": "code",
   "execution_count": null,
   "metadata": {},
   "outputs": [],
   "source": [
    "# String Compression: Implement a method to perform \n",
    "# basic string compression using the counts of repeated \n",
    "# characters. For example, the string aabcccccaaa would become a2blc5a3\n",
    "# only upper/lower cases ascii\n",
    "\n",
    "# Q: len>0\n",
    "# Q: dont forget to work with FINAL iteration\n",
    "\n",
    "# O(N**2) cause every str append has O(len_str) complexity\n",
    "def str_compress_BAD(strg): \n",
    "    tmp, cnt = strg[0], 1\n",
    "    res = ''\n",
    "    for ch in strg[1:]:\n",
    "        if ch == tmp:\n",
    "            cnt+=1\n",
    "        else:\n",
    "            res += tmp\n",
    "            res += str(cnt)\n",
    "            cnt = 1\n",
    "            tmp = ch\n",
    "    res += tmp; res += str(cnt)\n",
    "    if len(res) < len(strg):\n",
    "        return res\n",
    "    else:\n",
    "        return strg    \n",
    "    \n",
    "strg = 'aaaadddff'\n",
    "str_compress_BAD(strg)\n",
    "# better - use StrinBuilder (python-join) to create array and append them without x+2x+3x.. copying array"
   ]
  },
  {
   "cell_type": "code",
   "execution_count": null,
   "metadata": {},
   "outputs": [],
   "source": [
    "# TODO > ex1.7"
   ]
  },
  {
   "cell_type": "markdown",
   "metadata": {},
   "source": [
    "### Chapter 2. linked Lists"
   ]
  },
  {
   "cell_type": "code",
   "execution_count": null,
   "metadata": {},
   "outputs": [],
   "source": [
    "class LinkedList:\n",
    "    def __init__(self, value, next_child=None):\n",
    "        self.value=value\n",
    "        self.next = next_child\n",
    "        \n",
    "head_node = LinkedList(0) # header\n",
    "for j in [5,7,8,10]:\n",
    "    head_node = LinkedList(j, head_node)"
   ]
  },
  {
   "cell_type": "code",
   "execution_count": null,
   "metadata": {},
   "outputs": [],
   "source": [
    "def print_ll(ll):\n",
    "    str_array = [str(ll.value)]\n",
    "    while(ll.next):\n",
    "        str_array.append(f'->{ll.next.value}')\n",
    "        ll = ll.next\n",
    "    return ''.join(str_array) # stringBuilder\n",
    "print_ll(head_node)"
   ]
  },
  {
   "cell_type": "code",
   "execution_count": null,
   "metadata": {},
   "outputs": [],
   "source": [
    "# ???\n",
    "# ll = LinkedList(0) # header\n",
    "# for j in [5,7,8,10]:\n",
    "#     ll = LinkedList(j, ll)\n",
    "\n",
    "# def iterate(ll, idx=0, num=num)\n",
    "#     if idx == num:\n",
    "#         ll.next.next = ll.next\n",
    "#         return ll\n",
    "    \n",
    "#     iterate(ll.next, idx+=1, num)\n",
    "    \n"
   ]
  },
  {
   "cell_type": "code",
   "execution_count": null,
   "metadata": {},
   "outputs": [],
   "source": [
    "head_node.next.next.next"
   ]
  },
  {
   "cell_type": "code",
   "execution_count": null,
   "metadata": {},
   "outputs": [],
   "source": []
  },
  {
   "cell_type": "code",
   "execution_count": null,
   "metadata": {},
   "outputs": [],
   "source": []
  },
  {
   "cell_type": "code",
   "execution_count": null,
   "metadata": {},
   "outputs": [],
   "source": []
  },
  {
   "cell_type": "markdown",
   "metadata": {},
   "source": [
    "## OLD"
   ]
  },
  {
   "cell_type": "markdown",
   "metadata": {},
   "source": [
    "### leetcode"
   ]
  },
  {
   "cell_type": "code",
   "execution_count": null,
   "metadata": {},
   "outputs": [],
   "source": [
    "def subsets(nums):\n",
    "    res = [[]]\n",
    "    for elem in nums:\n",
    "        for sub in res:\n",
    "            res = res + [sub + [elem]]\n",
    "            # но не append! он изменяет последовательность in-place в цикле!\n",
    "    return res\n",
    "nums = [1,2,3]\n",
    "subsets(nums)"
   ]
  },
  {
   "cell_type": "code",
   "execution_count": null,
   "metadata": {},
   "outputs": [],
   "source": [
    "def print_ll(head_node):\n",
    "    tmp = deepcopy(head_node)\n",
    "    text=f'{tmp.val}'\n",
    "    while (tmp.next is not None):\n",
    "        text=f'{text}->{tmp.next.val}'\n",
    "        tmp = tmp.next\n",
    "    return text"
   ]
  },
  {
   "cell_type": "code",
   "execution_count": null,
   "metadata": {},
   "outputs": [],
   "source": [
    "[9,9,9,9,9,9,9][::-1]"
   ]
  },
  {
   "cell_type": "code",
   "execution_count": null,
   "metadata": {},
   "outputs": [],
   "source": [
    "#243,564\n",
    "l1, l2 = None, None\n",
    "# for j in [3,4,2]:\n",
    "for j in [9,9,9,9,9,9,9][::-1]:\n",
    "    l1 = ListNode(j, l1)\n",
    "# for j in [4,6,5]:\n",
    "for j in [9,9,9,9][::-1]:\n",
    "    l2 = ListNode(j, l2)"
   ]
  },
  {
   "cell_type": "code",
   "execution_count": null,
   "metadata": {},
   "outputs": [],
   "source": [
    "class ListNode:\n",
    "    def __init__(self, val=0, _next=None):\n",
    "        self.val = val\n",
    "        self.next = _next\n",
    "\n",
    "#1\n",
    "def sum_ll(l1, l2):\n",
    "    inc = 0\n",
    "    lr = None\n",
    "    lc1 = deepcopy(l1)\n",
    "    lc2 = deepcopy(l2)\n",
    "    d_list = []\n",
    "    while(not ((inc==0) & (lc1 is None) & (lc2 is None))):\n",
    "        if lc1 is None:\n",
    "            d1 = 0\n",
    "        else:\n",
    "            d1 = lc1.val\n",
    "        if lc2 is None:\n",
    "            d2 = 0\n",
    "        else:\n",
    "            d2 = lc2.val\n",
    "        d = d1 + d2 + inc\n",
    "        if (d - 10) >= 0:\n",
    "            d = d - 10\n",
    "            inc = 1\n",
    "        else:\n",
    "            inc = 0\n",
    "            \n",
    "        d_list.append(d)\n",
    "        \n",
    "        if lc1 is not None:\n",
    "            lc1 = lc1.next\n",
    "        if lc2 is not None:\n",
    "            lc2 = lc2.next\n",
    "            \n",
    "    for d_elem in d_list[::-1]:\n",
    "        lr = ListNode(d_elem, lr)\n",
    "    \n",
    "    return lr\n",
    "        \n",
    "lr = sum_ll(l1, l2)\n",
    "print_ll(lr)"
   ]
  },
  {
   "cell_type": "code",
   "execution_count": null,
   "metadata": {},
   "outputs": [],
   "source": [
    "l1, l2 = None, None\n",
    "for j in [3,4,2]:\n",
    "    l1 = ListNode(j, l1)\n",
    "for j in [4,6,5]:\n",
    "    l2 = ListNode(j, l2)\n",
    "print_ll(sum_ll(l1, l2))"
   ]
  },
  {
   "cell_type": "code",
   "execution_count": null,
   "metadata": {},
   "outputs": [],
   "source": [
    "# наиболее длинная подстрока в строке"
   ]
  },
  {
   "cell_type": "code",
   "execution_count": null,
   "metadata": {},
   "outputs": [],
   "source": [
    "def func(s):\n",
    "    substring = ''\n",
    "    max_ = 0\n",
    "    for char in s:\n",
    "        if char in substring:\n",
    "            substring = substring.split(char)[1]\n",
    "        substring += char\n",
    "        max_ = len(substring) if len(substring) > max_ else max_\n",
    "    return max_"
   ]
  },
  {
   "cell_type": "code",
   "execution_count": null,
   "metadata": {},
   "outputs": [],
   "source": [
    "def get_long_len_subs(seq):\n",
    "    # n**2 complexity\n",
    "    if len(seq) == 0:\n",
    "        return 0\n",
    "    \n",
    "    res = 1\n",
    "    for idx in range(len(seq)):\n",
    "        subseq = {seq[idx]} # bag init\n",
    "        \n",
    "        for el in seq[idx+1:]:\n",
    "            \n",
    "            if el in subseq:\n",
    "                if len(subseq) > res:\n",
    "                    res = len(subseq)\n",
    "                break\n",
    "            else:\n",
    "                subseq.update(el)\n",
    "\n",
    "                \n",
    "        # обработка финала для idx\n",
    "        if len(subseq) > res:\n",
    "            res = len(subseq) \n",
    "                \n",
    "    return res\n",
    "            "
   ]
  },
  {
   "cell_type": "code",
   "execution_count": null,
   "metadata": {},
   "outputs": [],
   "source": [
    "seq = 'abcabcvds'\n",
    "get_long_len_subs(seq), func(seq)"
   ]
  },
  {
   "cell_type": "code",
   "execution_count": null,
   "metadata": {},
   "outputs": [],
   "source": []
  },
  {
   "cell_type": "code",
   "execution_count": null,
   "metadata": {},
   "outputs": [],
   "source": []
  },
  {
   "cell_type": "code",
   "execution_count": null,
   "metadata": {},
   "outputs": [],
   "source": [
    "set_.update(' ')"
   ]
  },
  {
   "cell_type": "code",
   "execution_count": null,
   "metadata": {},
   "outputs": [],
   "source": [
    "set_"
   ]
  },
  {
   "cell_type": "code",
   "execution_count": null,
   "metadata": {},
   "outputs": [],
   "source": []
  },
  {
   "cell_type": "code",
   "execution_count": null,
   "metadata": {},
   "outputs": [],
   "source": []
  },
  {
   "cell_type": "markdown",
   "metadata": {},
   "source": [
    "### Яндекс-тренировки"
   ]
  },
  {
   "cell_type": "code",
   "execution_count": null,
   "metadata": {},
   "outputs": [],
   "source": [
    "# самый частый элемент случайно строки\n",
    "N = 100\n",
    "input_string = ''.join(np.random.choice(list(string.ascii_uppercase), N))\n",
    "def get_most_freq_char(input_string):\n",
    "    freq_dict = {}\n",
    "    for ch in input_string:\n",
    "        freq_dict[ch] = freq_dict.get(ch, 0) + 1\n",
    "    res = ''\n",
    "    max_cnt = 0\n",
    "    for k in freq_dict.keys():\n",
    "        if freq_dict[k] > max_cnt:\n",
    "            max_cnt = freq_dict[k]\n",
    "            res = k\n",
    "    return res, max_cnt, freq_dict\n",
    "# линейная скорость алгоритма, памяти как uniq(input_string) -> len(ascii_uppercase)\n",
    "res, max_cnt, freq_dict = get_most_freq_char(input_string)"
   ]
  },
  {
   "cell_type": "code",
   "execution_count": null,
   "metadata": {},
   "outputs": [],
   "source": [
    "seq = np.random.randint(2, size=20)\n",
    "def max_1_count(seq):\n",
    "    if len(seq) == 0:\n",
    "        return 0\n",
    "    tmp_cnt, max_cnt = 0, 0\n",
    "    for s in seq:\n",
    "        if s > 0:\n",
    "            tmp_cnt += 1\n",
    "        else:\n",
    "            max_cnt = max(max_cnt, tmp_cnt)\n",
    "            tmp_cnt = 0\n",
    "    return max(max_cnt, tmp_cnt)\n",
    "print(seq)\n",
    "max_1_count(seq)"
   ]
  },
  {
   "cell_type": "code",
   "execution_count": null,
   "metadata": {},
   "outputs": [],
   "source": [
    "from collections import Counter\n",
    "spec1 = Counter('abbc') # получаем спектр строки\n",
    "spec2 = Counter('babbc') # получаем спектр строки\n",
    "spec2 - spec1, spec1 - spec2"
   ]
  },
  {
   "cell_type": "code",
   "execution_count": null,
   "metadata": {},
   "outputs": [],
   "source": [
    "# для натурального N сгенерировать 2N верные скобочные последовательности\n",
    "def br_concat(seq, N):\n",
    "    if len(seq) < 2*N:\n",
    "        np.append(seq, 1)\n",
    "    "
   ]
  },
  {
   "cell_type": "code",
   "execution_count": null,
   "metadata": {},
   "outputs": [],
   "source": [
    "# find max and max2\n",
    "def find_m_m2(seq):\n",
    "    max1 = -np.inf\n",
    "    max2 = -np.inf\n",
    "    for el in seq:\n",
    "        if el > max1:\n",
    "            max1 = el\n",
    "    for el in seq:\n",
    "        if (el != max1) and (el > max2):\n",
    "            max2 = el\n",
    "    return max2, max1\n",
    "seq = [-1,-2,-3]\n",
    "find_m_m2(seq) # t ~ o(N)"
   ]
  },
  {
   "cell_type": "code",
   "execution_count": null,
   "metadata": {},
   "outputs": [],
   "source": []
  },
  {
   "cell_type": "code",
   "execution_count": null,
   "metadata": {},
   "outputs": [],
   "source": []
  },
  {
   "cell_type": "markdown",
   "metadata": {},
   "source": [
    "### Data Structures"
   ]
  },
  {
   "cell_type": "markdown",
   "metadata": {},
   "source": [
    "#### linked list"
   ]
  },
  {
   "cell_type": "code",
   "execution_count": null,
   "metadata": {},
   "outputs": [],
   "source": [
    "# https://www.youtube.com/playlist?list=PLBZBJbE_rGRV8D7XZ08LK6z-4zPoWzu5H # dojo\n",
    "class LinkedList:\n",
    "    def __init__(self, value, next_child=None):\n",
    "        self.value=value\n",
    "        self.next = next_child\n",
    "head_node = LinkedList(0) # header\n",
    "for j in [5,7,8,10]:\n",
    "    head_node = LinkedList(j, head_node)"
   ]
  },
  {
   "cell_type": "code",
   "execution_count": null,
   "metadata": {},
   "outputs": [],
   "source": [
    "# counter\n",
    "def countNode(head_node):\n",
    "    count = 0\n",
    "    tmp = deepcopy(head_node)\n",
    "    while(tmp is not None):\n",
    "        count+=1\n",
    "        tmp = tmp.next\n",
    "    return count\n",
    "countNode(head_node)"
   ]
  },
  {
   "cell_type": "code",
   "execution_count": null,
   "metadata": {},
   "outputs": [],
   "source": [
    "# printer\n",
    "def print_ll(head_node):\n",
    "    tmp = deepcopy(head_node)\n",
    "    text=f'{tmp.value}'\n",
    "    while (tmp.next is not None):\n",
    "        text=f'{text}->{tmp.next.value}'\n",
    "        tmp = tmp.next\n",
    "    return text\n",
    "# print_ll(head_node)"
   ]
  },
  {
   "cell_type": "code",
   "execution_count": null,
   "metadata": {},
   "outputs": [],
   "source": [
    "# inverse linked list\n",
    "def inverse_ll(node, prev=None):\n",
    "    tmp = deepcopy(node)\n",
    "    node_next = tmp.next\n",
    "    tmp.next = prev\n",
    "    if node_next is None:\n",
    "        return tmp\n",
    "    else:\n",
    "        return inverse(node_next, tmp)\n",
    "print_ll(inverse_ll(head_node))"
   ]
  },
  {
   "cell_type": "markdown",
   "metadata": {},
   "source": [
    "#### Tree"
   ]
  },
  {
   "cell_type": "code",
   "execution_count": null,
   "metadata": {},
   "outputs": [],
   "source": [
    "# binary tree\n",
    "class BTree:\n",
    "    def __init__(self, value, left=None, right=None):\n",
    "        self.value = value\n",
    "        self.right = right\n",
    "        self.left = left\n",
    "    \n",
    "# простое дерево\n",
    "c1_1 = BTree(5); c1_2 = BTree(6); c1_3 = BTree(4)\n",
    "c2_1 = BTree(3, c1_1, c1_2)\n",
    "root = BTree(2, c2_1, c1_3)"
   ]
  },
  {
   "cell_type": "code",
   "execution_count": null,
   "metadata": {},
   "outputs": [],
   "source": [
    "def find_sum(node, s=0):\n",
    "    if node == None:\n",
    "        return 0\n",
    "    return node.value + find_sum(node.right) + find_sum(node.left)\n",
    "find_sum(root)"
   ]
  },
  {
   "cell_type": "code",
   "execution_count": null,
   "metadata": {},
   "outputs": [],
   "source": []
  },
  {
   "cell_type": "markdown",
   "metadata": {},
   "source": [
    "### Algo"
   ]
  },
  {
   "cell_type": "markdown",
   "metadata": {},
   "source": [
    "#### recursion"
   ]
  },
  {
   "cell_type": "code",
   "execution_count": null,
   "metadata": {},
   "outputs": [],
   "source": [
    "def factorial(x):\n",
    "    if x == 0: # останов рекурсии\n",
    "        return 1\n",
    "    else: # петля\n",
    "        return factorial(x-1)*x"
   ]
  },
  {
   "cell_type": "code",
   "execution_count": null,
   "metadata": {},
   "outputs": [],
   "source": [
    "# without recursion\n",
    "def fib(n):\n",
    "    if n in (0, 1, 2):\n",
    "        return n * [1]\n",
    "    a, b = f_list = [1, 1]\n",
    "    count = 2\n",
    "    while(count < n):\n",
    "        a, b = b, a+b\n",
    "        f_list.append(b)\n",
    "        count +=1\n",
    "    return f_list\n",
    "fib(5)"
   ]
  },
  {
   "cell_type": "code",
   "execution_count": null,
   "metadata": {},
   "outputs": [],
   "source": [
    "# with recursion\n",
    "def fib(n):\n",
    "    if n >= 2:\n",
    "        return fib(n-2) + fib(n-1)\n",
    "    else:\n",
    "        return 1\n",
    "[fib(j) for j in range(5)]"
   ]
  },
  {
   "cell_type": "code",
   "execution_count": null,
   "metadata": {},
   "outputs": [],
   "source": [
    "# frog with 11 feet\n",
    "dist_from_start = 0 # max = 11\n",
    "global wc; wc = 0\n",
    "def get_way_count(N_feet, dist_from_start=0, way=[]):\n",
    "    global wc\n",
    "    if dist_from_start == N_feet-1: # last step\n",
    "        wc+=1\n",
    "        way.append(1)\n",
    "        print(way)\n",
    "        return\n",
    "    if dist_from_start == N_feet-2: # pre-last step\n",
    "        wc+=2\n",
    "        print(way + [1, 1])\n",
    "        print(way + [2])\n",
    "        return\n",
    "    # 1 step\n",
    "    dist_from_start += 1\n",
    "    # fork\n",
    "    way1, way2 = copy(way), copy(way)\n",
    "    way1.append(1)\n",
    "    get_way_count(N_feet, dist_from_start, way1)\n",
    "    # or 2 steps\n",
    "    dist_from_start += 1\n",
    "    way2.append(2)\n",
    "    get_way_count(N_feet, dist_from_start, way2)\n",
    "N_stones = 1\n",
    "get_way_count(N_stones+1) \n",
    "print(wc)"
   ]
  },
  {
   "cell_type": "markdown",
   "metadata": {},
   "source": [
    "#### sort"
   ]
  },
  {
   "cell_type": "code",
   "execution_count": null,
   "metadata": {},
   "outputs": [],
   "source": [
    "%%timeit -n 1\n",
    "# bubble sort O(n**2)\n",
    "def sort_bubble(arr):\n",
    "    for i in range(len(arr)):\n",
    "        for j in range(len(arr)):\n",
    "            if (i<j) and arr[i]>arr[j]:\n",
    "                arr[i], arr[j] = arr[j], arr[i]\n",
    "    return arr\n",
    "arr = np.random.randint(10, size=10000)\n",
    "_ = sort_bubble(arr)"
   ]
  },
  {
   "cell_type": "code",
   "execution_count": null,
   "metadata": {},
   "outputs": [],
   "source": [
    "%%timeit -n 1\n",
    "# quicksort O(log(n) * n)\n",
    "def qsort(arr):\n",
    "    if len(arr) < 2:\n",
    "        return arr\n",
    "    i_start = int(len(arr) / 2)\n",
    "    a_compare = arr[i_start]\n",
    "    arr_1, arr_2, arr_3 = [], [], []\n",
    "    for a in arr: # O(N)\n",
    "        if a < a_compare:\n",
    "            arr_1.append(a)\n",
    "        elif a > a_compare:\n",
    "            arr_3.append(a)\n",
    "        else:\n",
    "            arr_2.append(a)\n",
    "    return qsort(arr_1) + arr_2 + qsort(arr_3)\n",
    "# o(algo) = 2 * log(N) * N ~ Nlog(N)\n",
    "arr = np.random.randint(10, size=10000)\n",
    "_ = qsort(arr)"
   ]
  },
  {
   "cell_type": "code",
   "execution_count": null,
   "metadata": {},
   "outputs": [],
   "source": [
    "# mergesort\n",
    "def msort(arr, res_arr=[]):\n",
    "    if len(arr) == 2:\n",
    "        res_arr.append()\n",
    "    \n",
    "    "
   ]
  },
  {
   "cell_type": "code",
   "execution_count": null,
   "metadata": {},
   "outputs": [],
   "source": [
    "arr = sorted(np.random.randint(500, size=1000))\n",
    "elem = np.random.randint(500)"
   ]
  },
  {
   "cell_type": "code",
   "execution_count": null,
   "metadata": {},
   "outputs": [],
   "source": [
    "%%timeit -n 10\n",
    "# linear search = O(N)\n",
    "def lsearch(arr, elem):\n",
    "    for i in range(len(arr)):\n",
    "        if arr[i] == elem:\n",
    "            return i\n",
    "        elif arr[i] > elem: # pass the elem possibility\n",
    "            return\n",
    "    return    \n",
    "lsearch(arr, elem)           "
   ]
  },
  {
   "cell_type": "code",
   "execution_count": null,
   "metadata": {},
   "outputs": [],
   "source": [
    "%%timeit -n 10\n",
    "# binary search = log(N)\n",
    "def bsearch(arr, elem, i1=0, i2=len(arr)):\n",
    "    # array is already sorted\n",
    "    if len(arr[i1:i2]) == 0:\n",
    "        return\n",
    "    if (len(arr[i1:i2]) == 1):\n",
    "        if (arr[i1:i2][0] == elem):\n",
    "            return i1\n",
    "        else:\n",
    "            return\n",
    "        \n",
    "    di = len(arr[i1:i2])//2\n",
    "    if elem == arr[i1+di]:\n",
    "        return i1+di\n",
    "    elif elem > arr[i1+di]:\n",
    "        i1 = i1 + di + 1\n",
    "    else:\n",
    "        i2 = i1 + di\n",
    "    return bsearch(arr, elem, i1, i2)\n",
    "bsearch(arr, elem) "
   ]
  },
  {
   "cell_type": "markdown",
   "metadata": {},
   "source": [
    "#### задача комивояжера"
   ]
  },
  {
   "cell_type": "code",
   "execution_count": null,
   "metadata": {},
   "outputs": [],
   "source": [
    "# все перестановки набора input_list - n! значений\n",
    "def perm(input_list):\n",
    "    if len(input_list) in (0, 1):\n",
    "        return input_list\n",
    "    p_list = []\n",
    "    for i in range(len(input_list)):\n",
    "        input_list[0], input_list[i] = input_list[i], input_list[0] \n",
    "        if len(input_list[1:]) == 1: \n",
    "            p_list.append(input_list[:1] + input_list[1:])\n",
    "        else:\n",
    "            for sub in perm(input_list[1:]):\n",
    "                p_list.append([input_list[0]] + sub)\n",
    "    return p_list\n",
    "\n",
    "# Ищем кратчайший путь посещения всех заданных пунктов = рассматриваем все перестановки\n",
    "# и выбираем самую кратчайшую метрику суммарного расстояния"
   ]
  },
  {
   "cell_type": "code",
   "execution_count": null,
   "metadata": {},
   "outputs": [],
   "source": [
    "# Класс задач с поиском всех подмножеств заданного множества\n",
    "# Так как имея N элементов для выбора подмножеств мы стоим перед дилеммой\n",
    "# a, b, c.. = (NULL or a), (NULL or b) ... -> получаем 2**N вариантов\n",
    "def sub_set(arr):\n",
    "    p_list = []\n",
    "    if len(arr) == 1:\n",
    "        p_list.append(arr)\n",
    "        p_list.append([])\n",
    "    else:\n",
    "        for n_arr in sub_set(arr[1:]):\n",
    "            p_list.append([arr[0]] + n_arr)\n",
    "            p_list.append(n_arr)\n",
    "    return p_list\n",
    "len(sub_set([1,2,3,4])) # ==2**4"
   ]
  },
  {
   "cell_type": "code",
   "execution_count": null,
   "metadata": {},
   "outputs": [],
   "source": []
  }
 ],
 "metadata": {
  "kernelspec": {
   "display_name": "Python 3",
   "language": "python",
   "name": "python3"
  },
  "language_info": {
   "codemirror_mode": {
    "name": "ipython",
    "version": 3
   },
   "file_extension": ".py",
   "mimetype": "text/x-python",
   "name": "python",
   "nbconvert_exporter": "python",
   "pygments_lexer": "ipython3",
   "version": "3.7.3"
  },
  "toc": {
   "base_numbering": "",
   "nav_menu": {},
   "number_sections": false,
   "sideBar": true,
   "skip_h1_title": false,
   "title_cell": "Table of Contents",
   "title_sidebar": "Contents",
   "toc_cell": false,
   "toc_position": {},
   "toc_section_display": true,
   "toc_window_display": false
  },
  "varInspector": {
   "cols": {
    "lenName": 16,
    "lenType": 16,
    "lenVar": 40
   },
   "kernels_config": {
    "python": {
     "delete_cmd_postfix": "",
     "delete_cmd_prefix": "del ",
     "library": "var_list.py",
     "varRefreshCmd": "print(var_dic_list())"
    },
    "r": {
     "delete_cmd_postfix": ") ",
     "delete_cmd_prefix": "rm(",
     "library": "var_list.r",
     "varRefreshCmd": "cat(var_dic_list()) "
    }
   },
   "types_to_exclude": [
    "module",
    "function",
    "builtin_function_or_method",
    "instance",
    "_Feature"
   ],
   "window_display": false
  }
 },
 "nbformat": 4,
 "nbformat_minor": 4
}
