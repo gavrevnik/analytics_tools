{
 "cells": [
  {
   "cell_type": "code",
   "execution_count": 3,
   "metadata": {},
   "outputs": [
    {
     "data": {
      "text/html": [
       "<style>.container { width:90% !important; }</style>"
      ],
      "text/plain": [
       "<IPython.core.display.HTML object>"
      ]
     },
     "metadata": {},
     "output_type": "display_data"
    }
   ],
   "source": [
    "import warnings\n",
    "from IPython.core.display import display, HTML\n",
    "display(HTML(\"<style>.container { width:90% !important; }</style>\"))\n",
    "warnings.filterwarnings('ignore')  # Игнорировать все предупреждения (не рекомендуется в продакшн-коде)\n",
    "import pandas as pd\n",
    "import seaborn as sns\n",
    "from scipy import stats\n",
    "from sklearn.ensemble import HistGradientBoostingRegressor\n",
    "from sklearn.linear_model import LogisticRegression, LinearRegression, Lasso, Ridge\n",
    "from numpy import mean\n",
    "from numpy import var\n",
    "from math import sqrt\n",
    "import matplotlib.pyplot as plt\n",
    "import statsmodels.formula.api as smf\n",
    "from causalinference import CausalModel\n",
    "from scipy.stats import chisquare\n",
    "from statsmodels.stats.multitest import multipletests\n",
    "from statsmodels.stats.power import tt_ind_solve_power\n",
    "from sklearn.metrics import r2_score"
   ]
  },
  {
   "cell_type": "code",
   "execution_count": 6,
   "metadata": {},
   "outputs": [],
   "source": [
    "from dowhy import CausalModel"
   ]
  },
  {
   "cell_type": "code",
   "execution_count": 66,
   "metadata": {},
   "outputs": [
    {
     "name": "stdout",
     "output_type": "stream",
     "text": [
      "(20000, 5)\n"
     ]
    },
    {
     "data": {
      "text/html": [
       "<div>\n",
       "<style scoped>\n",
       "    .dataframe tbody tr th:only-of-type {\n",
       "        vertical-align: middle;\n",
       "    }\n",
       "\n",
       "    .dataframe tbody tr th {\n",
       "        vertical-align: top;\n",
       "    }\n",
       "\n",
       "    .dataframe thead th {\n",
       "        text-align: right;\n",
       "    }\n",
       "</style>\n",
       "<table border=\"1\" class=\"dataframe\">\n",
       "  <thead>\n",
       "    <tr style=\"text-align: right;\">\n",
       "      <th></th>\n",
       "      <th>sex</th>\n",
       "      <th>age</th>\n",
       "      <th>severity</th>\n",
       "      <th>treatment</th>\n",
       "      <th>y</th>\n",
       "    </tr>\n",
       "  </thead>\n",
       "  <tbody>\n",
       "    <tr>\n",
       "      <th>0</th>\n",
       "      <td>0</td>\n",
       "      <td>35.049134</td>\n",
       "      <td>0.887658</td>\n",
       "      <td>1</td>\n",
       "      <td>31</td>\n",
       "    </tr>\n",
       "    <tr>\n",
       "      <th>1</th>\n",
       "      <td>1</td>\n",
       "      <td>41.580323</td>\n",
       "      <td>0.899784</td>\n",
       "      <td>1</td>\n",
       "      <td>49</td>\n",
       "    </tr>\n",
       "  </tbody>\n",
       "</table>\n",
       "</div>"
      ],
      "text/plain": [
       "   sex        age  severity  treatment   y\n",
       "0    0  35.049134  0.887658          1  31\n",
       "1    1  41.580323  0.899784          1  49"
      ]
     },
     "execution_count": 66,
     "metadata": {},
     "output_type": "execute_result"
    }
   ],
   "source": [
    "# df = pd.read_csv('./data/groupon.csv')[['prom_length', 'price', 'discount_pct', 'coupon_duration', 'featured', 'treatment', 'revenue']].rename(columns={'revenue':'y'})\n",
    "df = pd.read_csv('./data/medicine_impact_recovery.csv').rename(columns={'medication':'treatment', 'recovery':'y'})\n",
    "# df = pd.read_csv('./data/medicine_impact_recovery.csv').rename(columns={'medication':'treatment', 'recovery':'y'}).drop(columns='severity')\n",
    "\n",
    "# df = pd.read_csv('./data/smoker.csv').rename(columns={'outcome':'y'})\n",
    "df.head(2)"
   ]
  },
  {
   "cell_type": "code",
   "execution_count": 92,
   "metadata": {},
   "outputs": [],
   "source": [
    "df_ = df[15000:].copy()\n",
    "dfs = df[:15000].copy()"
   ]
  },
  {
   "cell_type": "code",
   "execution_count": 93,
   "metadata": {},
   "outputs": [
    {
     "data": {
      "image/png": "[encoded data removed]",
      "text/latex": [
       "$\\displaystyle \\left( 15000, \\  5\\right)$"
      ],
      "text/plain": [
       "(15000, 5)"
      ]
     },
     "execution_count": 93,
     "metadata": {},
     "output_type": "execute_result"
    }
   ],
   "source": [
    "dfs.shape"
   ]
  },
  {
   "cell_type": "code",
   "execution_count": 94,
   "metadata": {},
   "outputs": [],
   "source": [
    "from sklearn.model_selection import train_test_split\n",
    "\n",
    "\n",
    "y = dfs['treatment']\n",
    "X = dfs.drop(columns='treatment')\n",
    "\n",
    "X_train, X_valid, y_train, y_valid = train_test_split(X, y, test_size=0.25, random_state=1)\n",
    "# cat_features = ['sex']"
   ]
  },
  {
   "cell_type": "code",
   "execution_count": 95,
   "metadata": {},
   "outputs": [
    {
     "data": {
      "application/vnd.jupyter.widget-view+json": {
       "model_id": "6a24b0a28d7344f2bfdab7bd1e535d6e",
       "version_major": 2,
       "version_minor": 0
      },
      "text/plain": [
       "MetricVisualizer(layout=Layout(align_self='stretch', height='500px'))"
      ]
     },
     "metadata": {},
     "output_type": "display_data"
    },
    {
     "name": "stdout",
     "output_type": "stream",
     "text": [
      "Learning rate set to 0.057616\n",
      "0:\ttest: 0.9926282\tbest: 0.9926282 (0)\ttotal: 6.07ms\tremaining: 6.07s\n",
      "200:\ttest: 0.9999994\tbest: 0.9999994 (159)\ttotal: 627ms\tremaining: 2.49s\n",
      "400:\ttest: 0.9999994\tbest: 0.9999994 (159)\ttotal: 1.16s\tremaining: 1.74s\n",
      "600:\ttest: 0.9999994\tbest: 0.9999994 (159)\ttotal: 1.66s\tremaining: 1.1s\n",
      "800:\ttest: 0.9999994\tbest: 0.9999994 (159)\ttotal: 2.12s\tremaining: 526ms\n",
      "999:\ttest: 0.9999994\tbest: 0.9999994 (159)\ttotal: 2.63s\tremaining: 0us\n",
      "\n",
      "bestTest = 0.9999993841\n",
      "bestIteration = 159\n",
      "\n",
      "Shrink model to first 160 iterations.\n"
     ]
    },
    {
     "data": {
      "text/plain": [
       "<catboost.core.CatBoostClassifier at 0x1250aa6d8>"
      ]
     },
     "execution_count": 95,
     "metadata": {},
     "output_type": "execute_result"
    }
   ],
   "source": [
    "from catboost import CatBoostClassifier\n",
    "params = {'loss_function':'Logloss', # objective function\n",
    "          'eval_metric': 'AUC', # metric\n",
    "          'verbose': 200, # output to stdout info about training process every 200 iterations\n",
    "          'random_seed': 1\n",
    "         }\n",
    "cbc_1 = CatBoostClassifier(**params)\n",
    "cbc_1.fit(X_train, \n",
    "          y_train, \n",
    "          eval_set=(X_valid, y_valid), \n",
    "          use_best_model=True, \n",
    "          plot=True ,\n",
    "          cat_features = cat_features\n",
    "         )"
   ]
  },
  {
   "cell_type": "code",
   "execution_count": 106,
   "metadata": {},
   "outputs": [],
   "source": [
    "from sklearn.tree import DecisionTreeClassifier\n",
    "model = DecisionTreeClassifier(random_state=42)\n",
    "model.fit(X_train, y_train)\n",
    "y_pred = model.predict(X_valid)"
   ]
  },
  {
   "cell_type": "code",
   "execution_count": 107,
   "metadata": {},
   "outputs": [
    {
     "data": {
      "image/png": "[encoded data removed]",
      "text/latex": [
       "$\\displaystyle 0.9944$"
      ],
      "text/plain": [
       "0.9944"
      ]
     },
     "execution_count": 107,
     "metadata": {},
     "output_type": "execute_result"
    }
   ],
   "source": [
    "accuracy_score(y_pred, y_valid)"
   ]
  },
  {
   "cell_type": "code",
   "execution_count": 103,
   "metadata": {},
   "outputs": [
    {
     "name": "stdout",
     "output_type": "stream",
     "text": [
      "              precision    recall  f1-score   support\n",
      "\n",
      "           0       1.00      1.00      1.00      3288\n",
      "           1       1.00      1.00      1.00      1712\n",
      "\n",
      "    accuracy                           1.00      5000\n",
      "   macro avg       1.00      1.00      1.00      5000\n",
      "weighted avg       1.00      1.00      1.00      5000\n",
      "\n"
     ]
    }
   ],
   "source": [
    "from sklearn.metrics import classification_report, accuracy_score\n",
    "print(classification_report(cbc_1.predict(df_.drop(columns='treatment')), df_['treatment']))"
   ]
  },
  {
   "cell_type": "code",
   "execution_count": null,
   "metadata": {},
   "outputs": [],
   "source": []
  },
  {
   "cell_type": "code",
   "execution_count": 1,
   "metadata": {},
   "outputs": [],
   "source": [
    "import warnings\n",
    "warnings.filterwarnings('ignore')\n",
    "import numpy as np\n",
    "import matplotlib.pyplot as plt\n",
    "import pandas as pd\n",
    "from IPython.display import display, HTML\n",
    "import matplotlib\n",
    "import imp\n",
    "import eda_tools as eda\n",
    "imp.reload(eda)\n",
    "import seaborn as sns\n",
    "import inspect"
   ]
  },
  {
   "cell_type": "code",
   "execution_count": 186,
   "metadata": {},
   "outputs": [
    {
     "data": {
      "text/plain": [
       "<module 'eda_tools' from '/Users/nikitagavrev/main/analytics_tools/eda_tools.py'>"
      ]
     },
     "execution_count": 186,
     "metadata": {},
     "output_type": "execute_result"
    }
   ],
   "source": [
    "import eda_tools as eda\n",
    "imp.reload(eda)"
   ]
  },
  {
   "cell_type": "code",
   "execution_count": 153,
   "metadata": {},
   "outputs": [],
   "source": [
    "x = np.arange(50) + 1\n",
    "z = ''\n",
    "y = x**2\n",
    "z = x**3\n",
    "df = pd.DataFrame({'x' : x, 'y' : y, 'z' : z})\n",
    "df['cat'] = np.random.choice(['a', 'b', 'c'], len(x))"
   ]
  },
  {
   "cell_type": "code",
   "execution_count": 163,
   "metadata": {},
   "outputs": [
    {
     "data": {
      "text/plain": [
       "cat\n",
       "a     613.888889\n",
       "b     816.200000\n",
       "c    1154.823529\n",
       "Name: y, dtype: float64"
      ]
     },
     "execution_count": 163,
     "metadata": {},
     "output_type": "execute_result"
    }
   ],
   "source": [
    "df.groupby('cat').y.mean()"
   ]
  },
  {
   "cell_type": "code",
   "execution_count": 187,
   "metadata": {
    "scrolled": false
   },
   "outputs": [
    {
     "name": "stdout",
     "output_type": "stream",
     "text": [
      "ИСПОЛЬЗУЕМ line ИЗ ВОЗМОЖНЫХ  {'line': 'lineplot', 'scatter': 'scatterplot', 'hist': 'histplot', 'joint': 'jointplot', 'pair': 'pairplot', 'heatmap': 'heatmap', 'box': 'boxplot', 'bar': 'barplot', 'violin': 'violinplot'}\n",
      "ПОЛЕЗНЫЕ ОПЦИИ ДЛЯ line: x,y; hue=цвет; marker=вид точки=o,s; linestyle=--,-.; label=str\n",
      "ДОП ПАРАМЕТРЫ ОТОБРАЖЕНИЯ ГРАФИКА: figsize, xlabel, ylabel, title, xlim, ylim=(a,b), xstep, ystep\n",
      "----------\n",
      "x, y : vectors or keys in ``data``\n",
      "    Variables that specify positions on the x and y axes.\n",
      "hue : vector or key in ``data``\n",
      "    Grouping variable that will produce lines with different colors.\n",
      "    Can be either categorical or numeric, although color mapping will\n",
      "    behave differently in latter case.\n",
      "size : vector or key in ``data``\n",
      "    Grouping variable that will produce lines with different widths.\n",
      "    Can be either categorical or numeric, although size mapping will\n",
      "    behave differently in latter case.\n",
      "style : vector or key in ``data``\n",
      "    Grouping variable that will produce lines with different dashes\n",
      "    and/or markers. Can have a numeric dtype but will always be treated\n",
      "    as categorical.\n",
      "data : :class:`pandas.DataFrame`, :class:`numpy.ndarray`, mapping, or sequence\n",
      "    Input data structure. Either a long-form collection of vectors that can be\n",
      "    assigned to named variables or a wide-form dataset that will be internally\n",
      "    reshaped.\n",
      "palette : string, list, dict, or :class:`matplotlib.colors.Colormap`\n",
      "    Method for choosing the colors to use when mapping the ``hue`` semantic.\n",
      "    String values are passed to :func:`color_palette`. List or dict values\n",
      "    imply categorical mapping, while a colormap object implies numeric mapping.\n",
      "hue_order : vector of strings\n",
      "    Specify the order of processing and plotting for categorical levels of the\n",
      "    ``hue`` semantic.\n",
      "hue_norm : tuple or :class:`matplotlib.colors.Normalize`\n",
      "    Either a pair of values that set the normalization range in data units\n",
      "    or an object that will map from data units into a [0, 1] interval. Usage\n",
      "    implies numeric mapping.\n",
      "sizes : list, dict, or tuple\n",
      "    An object that determines how sizes are chosen when ``size`` is used.\n",
      "    It can always be a list of size values or a dict mapping levels of the\n",
      "    ``size`` variable to sizes. When ``size``  is numeric, it can also be\n",
      "    a tuple specifying the minimum and maximum size to use such that other\n",
      "    values are normalized within this range.\n",
      "size_order : list\n",
      "    Specified order for appearance of the ``size`` variable levels,\n",
      "    otherwise they are determined from the data. Not relevant when the\n",
      "    ``size`` variable is numeric.\n",
      "size_norm : tuple or Normalize object\n",
      "    Normalization in data units for scaling plot objects when the\n",
      "    ``size`` variable is numeric.\n",
      "dashes : boolean, list, or dictionary\n",
      "    Object determining how to draw the lines for different levels of the\n",
      "    ``style`` variable. Setting to ``True`` will use default dash codes, or\n",
      "    you can pass a list of dash codes or a dictionary mapping levels of the\n",
      "    ``style`` variable to dash codes. Setting to ``False`` will use solid\n",
      "    lines for all subsets. Dashes are specified as in matplotlib: a tuple\n",
      "    of ``(segment, gap)`` lengths, or an empty string to draw a solid line.\n",
      "markers : boolean, list, or dictionary\n",
      "    Object determining how to draw the markers for different levels of the\n",
      "    ``style`` variable. Setting to ``True`` will use default markers, or\n",
      "    you can pass a list of markers or a dictionary mapping levels of the\n",
      "    ``style`` variable to markers. Setting to ``False`` will draw\n",
      "    marker-less lines.  Markers are specified as in matplotlib.\n",
      "style_order : list\n",
      "    Specified order for appearance of the ``style`` variable levels\n",
      "    otherwise they are determined from the data. Not relevant when the\n",
      "    ``style`` variable is numeric.\n",
      "units : vector or key in ``data``\n",
      "    Grouping variable identifying sampling units. When used, a separate\n",
      "    line will be drawn for each unit with appropriate semantics, but no\n",
      "    legend entry will be added. Useful for showing distribution of\n",
      "    experimental replicates when exact identities are not needed.\n",
      "estimator : name of pandas method or callable or None\n",
      "    Method for aggregating across multiple observations of the ``y``\n",
      "    variable at the same ``x`` level. If ``None``, all observations will\n",
      "    be drawn.\n",
      "ci : int or \"sd\" or None\n",
      "    Size of the confidence interval to draw when aggregating with an\n",
      "    estimator. \"sd\" means to draw the standard deviation of the data.\n",
      "    Setting to ``None`` will skip bootstrapping.\n",
      "n_boot : int\n",
      "    Number of bootstraps to use for computing the confidence interval.\n",
      "seed : int, numpy.random.Generator, or numpy.random.RandomState\n",
      "    Seed or random number generator for reproducible bootstrapping.\n",
      "sort : boolean\n",
      "    If True, the data will be sorted by the x and y variables, otherwise\n",
      "    lines will connect points in the order they appear in the dataset.\n",
      "err_style : \"band\" or \"bars\"\n",
      "    Whether to draw the confidence intervals with translucent error bands\n",
      "    or discrete error bars.\n",
      "err_kws : dict of keyword arguments\n",
      "    Additional paramters to control the aesthetics of the error bars. The\n",
      "    kwargs are passed either to :meth:`matplotlib.axes.Axes.fill_between`\n",
      "    or :meth:`matplotlib.axes.Axes.errorbar`, depending on ``err_style``.\n",
      "legend : \"auto\", \"brief\", \"full\", or False\n",
      "    How to draw the legend. If \"brief\", numeric ``hue`` and ``size``\n",
      "    variables will be represented with a sample of evenly spaced values.\n",
      "    If \"full\", every group will get an entry in the legend. If \"auto\",\n",
      "    choose between brief or full representation based on number of levels.\n",
      "    If ``False``, no legend data is added and no legend is drawn.\n",
      "ax : :class:`matplotlib.axes.Axes`\n",
      "    Pre-existing axes for the plot. Otherwise, call :func:`matplotlib.pyplot.gca`\n",
      "    internally.\n",
      "kwargs : key, value mappings\n",
      "    Other keyword arguments are passed down to\n",
      "    :meth:`matplotlib.axes.Axes.plot`.\n",
      "\n"
     ]
    },
    {
     "data": {
      "image/png": "[encoded data removed]",
      "text/plain": [
       "<Figure size 720x288 with 1 Axes>"
      ]
     },
     "metadata": {
      "needs_background": "light"
     },
     "output_type": "display_data"
    }
   ],
   "source": [
    "\n",
    "ax = eda.get_subplots((10, 4), 1, 1)\n",
    "# eda.make_plot('violin', {'x' : df.cat, 'y' : df.y, 'ax' : ax[0], 'label' : '1'}, docs=False)\n",
    "# eda.make_plot('box', {'x' : df.cat, 'y' : df.y, 'ax' : ax[1]}, docs=False)\n",
    "eda.make_plot('line', {'y' : y, 'xstep' : 5, 'ax' : ax, 'xlim' : (0, 100)}, docs=True)\n",
    "\n",
    "\n",
    "# eda.make_plot('hist', {'x' : x, 'y' : 2*y, 'ax' : ax[0], 'label' : '2'}, docs=False)"
   ]
  },
  {
   "cell_type": "code",
   "execution_count": 113,
   "metadata": {},
   "outputs": [
    {
     "data": {
      "image/png": "[encoded data removed]",
      "text/plain": [
       "<Figure size 576x288 with 3 Axes>"
      ]
     },
     "metadata": {
      "needs_background": "light"
     },
     "output_type": "display_data"
    }
   ],
   "source": [
    "ax = eda.get_subplots((8, 4), 1, 2)\n",
    "\n",
    "x = np.arange(50)\n",
    "y = x**2\n",
    "z = np.zeros(50) + 1\n",
    "q = np.arange(50)\n",
    "df = pd.DataFrame({'x' : x, 'y' : y, 'z' : z})\n",
    "# params = {'x' : x, 'y' : y, 'kind' : 'hex'}\n",
    "# params = {'x' : x, 'y' : y, 'kind' : 'resid'}\n",
    "params = {'data' : df.corr(), 'ax' : ax[0]}\n",
    "eda.make_plot(style='heatmap', params=params, docs=False)params = {'y' : y, 'ax' : ax[1]}\n",
    "eda.make_plot(style='line', params=params, docs=False)\n",
    "# make_plot(x, ax=ax, style='hist', params={'bins' : 50, 'stat' : 'frequency'}, docs=True)\n",
    "# make_plot(x, ax=ax, style='scatter', params={'bins' : 50, 'stat' : 'frequency'}, docs=True)\n",
    "# make_plot(style='hist', params=params2, ax=ax[0])\n",
    "\n",
    "# make_plot(x, y, ax[1], style='line')\n",
    "# ax[0].hist(y)\n",
    "\n",
    "# sns.pairplot(x, y, ax=ax, params)"
   ]
  },
  {
   "cell_type": "code",
   "execution_count": 102,
   "metadata": {},
   "outputs": [
    {
     "data": {
      "text/plain": [
       "array([[1.        , 0.96705085],\n",
       "       [0.96705085, 1.        ]])"
      ]
     },
     "execution_count": 102,
     "metadata": {},
     "output_type": "execute_result"
    }
   ],
   "source": [
    "np.corrcoef(x, y)"
   ]
  },
  {
   "cell_type": "code",
   "execution_count": 29,
   "metadata": {},
   "outputs": [
    {
     "data": {
      "text/plain": [
       "{'a': 1}"
      ]
     },
     "execution_count": 29,
     "metadata": {},
     "output_type": "execute_result"
    }
   ],
   "source": [
    "def params_flt(params, keys, keys_custom):\n",
    "        if keys_custom is not None:\n",
    "            flt = keys_custom\n",
    "        else:\n",
    "            flt = keys\n",
    "        return {j : params[j] for j in params.keys() if j in flt}\n",
    "params_flt({'a' : 1, 'c' : 2}, ['a', 'b'], None)"
   ]
  },
  {
   "cell_type": "code",
   "execution_count": 35,
   "metadata": {},
   "outputs": [
    {
     "name": "stdout",
     "output_type": "stream",
     "text": [
      "Help on function lineplot in module seaborn.relational:\n",
      "\n",
      "lineplot(*, x=None, y=None, hue=None, size=None, style=None, data=None, palette=None, hue_order=None, hue_norm=None, sizes=None, size_order=None, size_norm=None, dashes=True, markers=None, style_order=None, units=None, estimator='mean', ci=95, n_boot=1000, seed=None, sort=True, err_style='band', err_kws=None, legend='auto', ax=None, **kwargs)\n",
      "    Draw a line plot with possibility of several semantic groupings.\n",
      "    \n",
      "    The relationship between ``x`` and ``y`` can be shown for different subsets\n",
      "    of the data using the ``hue``, ``size``, and ``style`` parameters. These\n",
      "    parameters control what visual semantics are used to identify the different\n",
      "    subsets. It is possible to show up to three dimensions independently by\n",
      "    using all three semantic types, but this style of plot can be hard to\n",
      "    interpret and is often ineffective. Using redundant semantics (i.e. both\n",
      "    ``hue`` and ``style`` for the same variable) can be helpful for making\n",
      "    graphics more accessible.\n",
      "    \n",
      "    See the :ref:`tutorial <relational_tutorial>` for more information.\n",
      "    \n",
      "    The default treatment of the ``hue`` (and to a lesser extent, ``size``)\n",
      "    semantic, if present, depends on whether the variable is inferred to\n",
      "    represent \"numeric\" or \"categorical\" data. In particular, numeric variables\n",
      "    are represented with a sequential colormap by default, and the legend\n",
      "    entries show regular \"ticks\" with values that may or may not exist in the\n",
      "    data. This behavior can be controlled through various parameters, as\n",
      "    described and illustrated below.\n",
      "    \n",
      "    By default, the plot aggregates over multiple ``y`` values at each value of\n",
      "    ``x`` and shows an estimate of the central tendency and a confidence\n",
      "    interval for that estimate.\n",
      "    \n",
      "    Parameters\n",
      "    ----------\n",
      "    x, y : vectors or keys in ``data``\n",
      "        Variables that specify positions on the x and y axes.\n",
      "    hue : vector or key in ``data``\n",
      "        Grouping variable that will produce lines with different colors.\n",
      "        Can be either categorical or numeric, although color mapping will\n",
      "        behave differently in latter case.\n",
      "    size : vector or key in ``data``\n",
      "        Grouping variable that will produce lines with different widths.\n",
      "        Can be either categorical or numeric, although size mapping will\n",
      "        behave differently in latter case.\n",
      "    style : vector or key in ``data``\n",
      "        Grouping variable that will produce lines with different dashes\n",
      "        and/or markers. Can have a numeric dtype but will always be treated\n",
      "        as categorical.\n",
      "    data : :class:`pandas.DataFrame`, :class:`numpy.ndarray`, mapping, or sequence\n",
      "        Input data structure. Either a long-form collection of vectors that can be\n",
      "        assigned to named variables or a wide-form dataset that will be internally\n",
      "        reshaped.\n",
      "    palette : string, list, dict, or :class:`matplotlib.colors.Colormap`\n",
      "        Method for choosing the colors to use when mapping the ``hue`` semantic.\n",
      "        String values are passed to :func:`color_palette`. List or dict values\n",
      "        imply categorical mapping, while a colormap object implies numeric mapping.\n",
      "    hue_order : vector of strings\n",
      "        Specify the order of processing and plotting for categorical levels of the\n",
      "        ``hue`` semantic.\n",
      "    hue_norm : tuple or :class:`matplotlib.colors.Normalize`\n",
      "        Either a pair of values that set the normalization range in data units\n",
      "        or an object that will map from data units into a [0, 1] interval. Usage\n",
      "        implies numeric mapping.\n",
      "    sizes : list, dict, or tuple\n",
      "        An object that determines how sizes are chosen when ``size`` is used.\n",
      "        It can always be a list of size values or a dict mapping levels of the\n",
      "        ``size`` variable to sizes. When ``size``  is numeric, it can also be\n",
      "        a tuple specifying the minimum and maximum size to use such that other\n",
      "        values are normalized within this range.\n",
      "    size_order : list\n",
      "        Specified order for appearance of the ``size`` variable levels,\n",
      "        otherwise they are determined from the data. Not relevant when the\n",
      "        ``size`` variable is numeric.\n",
      "    size_norm : tuple or Normalize object\n",
      "        Normalization in data units for scaling plot objects when the\n",
      "        ``size`` variable is numeric.\n",
      "    dashes : boolean, list, or dictionary\n",
      "        Object determining how to draw the lines for different levels of the\n",
      "        ``style`` variable. Setting to ``True`` will use default dash codes, or\n",
      "        you can pass a list of dash codes or a dictionary mapping levels of the\n",
      "        ``style`` variable to dash codes. Setting to ``False`` will use solid\n",
      "        lines for all subsets. Dashes are specified as in matplotlib: a tuple\n",
      "        of ``(segment, gap)`` lengths, or an empty string to draw a solid line.\n",
      "    markers : boolean, list, or dictionary\n",
      "        Object determining how to draw the markers for different levels of the\n",
      "        ``style`` variable. Setting to ``True`` will use default markers, or\n",
      "        you can pass a list of markers or a dictionary mapping levels of the\n",
      "        ``style`` variable to markers. Setting to ``False`` will draw\n",
      "        marker-less lines.  Markers are specified as in matplotlib.\n",
      "    style_order : list\n",
      "        Specified order for appearance of the ``style`` variable levels\n",
      "        otherwise they are determined from the data. Not relevant when the\n",
      "        ``style`` variable is numeric.\n",
      "    units : vector or key in ``data``\n",
      "        Grouping variable identifying sampling units. When used, a separate\n",
      "        line will be drawn for each unit with appropriate semantics, but no\n",
      "        legend entry will be added. Useful for showing distribution of\n",
      "        experimental replicates when exact identities are not needed.\n",
      "    estimator : name of pandas method or callable or None\n",
      "        Method for aggregating across multiple observations of the ``y``\n",
      "        variable at the same ``x`` level. If ``None``, all observations will\n",
      "        be drawn.\n",
      "    ci : int or \"sd\" or None\n",
      "        Size of the confidence interval to draw when aggregating with an\n",
      "        estimator. \"sd\" means to draw the standard deviation of the data.\n",
      "        Setting to ``None`` will skip bootstrapping.\n",
      "    n_boot : int\n",
      "        Number of bootstraps to use for computing the confidence interval.\n",
      "    seed : int, numpy.random.Generator, or numpy.random.RandomState\n",
      "        Seed or random number generator for reproducible bootstrapping.\n",
      "    sort : boolean\n",
      "        If True, the data will be sorted by the x and y variables, otherwise\n",
      "        lines will connect points in the order they appear in the dataset.\n",
      "    err_style : \"band\" or \"bars\"\n",
      "        Whether to draw the confidence intervals with translucent error bands\n",
      "        or discrete error bars.\n",
      "    err_kws : dict of keyword arguments\n",
      "        Additional paramters to control the aesthetics of the error bars. The\n",
      "        kwargs are passed either to :meth:`matplotlib.axes.Axes.fill_between`\n",
      "        or :meth:`matplotlib.axes.Axes.errorbar`, depending on ``err_style``.\n",
      "    legend : \"auto\", \"brief\", \"full\", or False\n",
      "        How to draw the legend. If \"brief\", numeric ``hue`` and ``size``\n",
      "        variables will be represented with a sample of evenly spaced values.\n",
      "        If \"full\", every group will get an entry in the legend. If \"auto\",\n",
      "        choose between brief or full representation based on number of levels.\n",
      "        If ``False``, no legend data is added and no legend is drawn.\n",
      "    ax : :class:`matplotlib.axes.Axes`\n",
      "        Pre-existing axes for the plot. Otherwise, call :func:`matplotlib.pyplot.gca`\n",
      "        internally.\n",
      "    kwargs : key, value mappings\n",
      "        Other keyword arguments are passed down to\n",
      "        :meth:`matplotlib.axes.Axes.plot`.\n",
      "    \n",
      "    Returns\n",
      "    -------\n",
      "    :class:`matplotlib.axes.Axes`\n",
      "        The matplotlib axes containing the plot.\n",
      "    \n",
      "    See Also\n",
      "    --------\n",
      "    scatterplot : Plot data using points.\n",
      "    pointplot : Plot point estimates and CIs using markers and lines.\n",
      "    \n",
      "    Examples\n",
      "    --------\n",
      "    \n",
      "    .. include:: ../docstrings/lineplot.rst\n",
      "\n"
     ]
    }
   ],
   "source": [
    "help(sns.lineplot)"
   ]
  },
  {
   "cell_type": "code",
   "execution_count": 15,
   "metadata": {},
   "outputs": [
    {
     "data": {
      "text/plain": [
       "<AxesSubplot:ylabel='Count'>"
      ]
     },
     "execution_count": 15,
     "metadata": {},
     "output_type": "execute_result"
    },
    {
     "data": {
      "image/png": "[encoded data removed]",
      "text/plain": [
       "<Figure size 432x288 with 1 Axes>"
      ]
     },
     "metadata": {
      "needs_background": "light"
     },
     "output_type": "display_data"
    }
   ],
   "source": [
    "sns.histplot(y, bins=50, kde=True, palette = 'viridis')"
   ]
  },
  {
   "cell_type": "code",
   "execution_count": null,
   "metadata": {},
   "outputs": [],
   "source": []
  }
 ],
 "metadata": {
  "kernelspec": {
   "display_name": "Python 3",
   "language": "python",
   "name": "python3"
  },
  "language_info": {
   "codemirror_mode": {
    "name": "ipython",
    "version": 3
   },
   "file_extension": ".py",
   "mimetype": "text/x-python",
   "name": "python",
   "nbconvert_exporter": "python",
   "pygments_lexer": "ipython3",
   "version": "3.7.3"
  },
  "varInspector": {
   "cols": {
    "lenName": 16,
    "lenType": 16,
    "lenVar": 40
   },
   "kernels_config": {
    "python": {
     "delete_cmd_postfix": "",
     "delete_cmd_prefix": "del ",
     "library": "var_list.py",
     "varRefreshCmd": "print(var_dic_list())"
    },
    "r": {
     "delete_cmd_postfix": ") ",
     "delete_cmd_prefix": "rm(",
     "library": "var_list.r",
     "varRefreshCmd": "cat(var_dic_list()) "
    }
   },
   "types_to_exclude": [
    "module",
    "function",
    "builtin_function_or_method",
    "instance",
    "_Feature"
   ],
   "window_display": false
  }
 },
 "nbformat": 4,
 "nbformat_minor": 4
}
