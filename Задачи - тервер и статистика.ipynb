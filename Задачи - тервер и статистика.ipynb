{
 "cells": [
  {
   "cell_type": "code",
   "execution_count": 1,
   "metadata": {},
   "outputs": [],
   "source": [
    "import eda_tools as eda\n",
    "import numpy as np\n",
    "\n",
    "def c_n_m(n, m):\n",
    "    return np.math.factorial(n) / (np.math.factorial(n - m) * np.math.factorial(m))"
   ]
  },
  {
   "cell_type": "code",
   "execution_count": null,
   "metadata": {},
   "outputs": [],
   "source": []
  },
  {
   "cell_type": "markdown",
   "metadata": {},
   "source": [
    "#### Полезные ссылки"
   ]
  },
  {
   "cell_type": "markdown",
   "metadata": {},
   "source": [
    "- Ace of data interview - data science book\n",
    "- https://github.com/sinclam2/fifty-challenging-problems-in-probability/blob/master/01-Solution.ipynb\n",
    "- https://www.nicksingh.com/posts/40-probability-statistics-data-science-interview-questions-asked-by-fang-wall-street\n",
    "- примеры задач компаний из check-папки"
   ]
  },
  {
   "cell_type": "markdown",
   "metadata": {},
   "source": [
    "#### Полезные инсайты - tips"
   ]
  },
  {
   "cell_type": "markdown",
   "metadata": {},
   "source": [
    "<u>Вероятность какого события спрашивают?</u>  \n",
    "Часто ошибаюсь с вероятностью конкретного исхода которую запрашивают в задаче. Например есть два игрока,  \n",
    "спрашивают вероятность победы ПЕРВОГО игрока. После решения дополнительно синкать что найденное совпадает с запрошенным\n",
    "\n",
    "---\n",
    "<u>Биномиальные или др вариационные коэффициенты</u>  \n",
    "При расчете кол-ва конфигураций вероятностного пр-ва проверять могут ли варьироваться разные части дроби  \n",
    "Например в знаменателе может быть C_n_k если возможны много исходов  \n",
    "\n",
    "Вообще не забывать про потенциальное биномиальное распределение.  \n",
    "Так, если бы в задаче \"вероятность что из 10 бросков монеты выпало 2 орла\" считали бы p^2*(1-p)^8, то  \n",
    "такая вероятность была бы эквивалентна событию \"шанс что первые два броска орел, остальные решки, что неверно.  \n",
    "\n",
    "Если в задаче извлечение **с возвращением** - то часто возможны биномиальные тенденции.  \n",
    "Вероятности составных элементов событий независимы друг от друга.  \n",
    "\n",
    "А если без возвращения из конечной выборки - то разные условные распределения.\n",
    "Пример - гипергеометрическое распределение\n",
    "  \n",
    "PS. Допустим считаем кол-во конфигураций приводящих к X совпадениям и домножаем  \n",
    "на остаточную вариацию остальных элементов выборки. Учитывать что там также могут быть  \n",
    "экстра совпадения, а значит нельзя просто варьировать по всем перестановкам\n",
    "\n",
    "---\n",
    "<u>Симметрия</u>  \n",
    "Обращать внимание на возможность симметрии - мб это упростит решение задачи  \n",
    "\n",
    "Когда используется геометрический подход к определению вероятностей особенное внимание уделять  \n",
    "симметрии расширяемых на бесконечность фигур (например квадрата или круга) \n",
    "\n",
    "---\n",
    "<u>Формула полной вероятности</u>  \n",
    "В ряде задач в том числе с непрерывным континуумом конфигураций полезна формула  \n",
    "P(A) = P(A|B1)P(B1) + ... + P(A|Bn)P(Bn)  \n",
    "При n -> inf она переходит в интеграл с условной плотностью вероятности.  \n",
    "\n",
    "При оценке среднего СВ смотреть на возможность применить **теорему о среднем**. x_avg = sum(xi * pi),  \n",
    "где xi - реализация некоторого значения, pi - вероятность данного значения  \n",
    "в общем виде pi считается сложно - так как есть условная вероятность от конфигурации xj при i < j  \n",
    "но для среднего sum(xi * pi) = sum(xi * pi_full) по теореме о полной вероятности\n",
    "  \n",
    "PS. Теорема о среднем  \n",
    "пусть p(xi) - вероятность посадки на i-м месте (до этого люди как то уже сели)  \n",
    "xi_avg = xi * p(xi|prev1) * p(prev1) + ... xi * p(xi | prevk) * p(prevk)  \n",
    "ср значение xi - взвешено по всем вероятностям наступления xi при условии пред конфигураций посадки prev  \n",
    "Но тогда xi_avg = xi * sum(p(xi|prevk)p(prevk)) = xi * p(xi) по формуле полной вероятности  \n",
    "Пред. конфигурации складываются в независимую безусловную вероятность наступления xi\n",
    "  \n",
    "---\n",
    "<u>Рекурсия</u>  \n",
    "\n",
    "Возможность рекурсивного подхода, когда система через N шагов возвращается в исходное состояние.  \n",
    "Например, найти вероятность выигрыша в монетку в игре \"до первого орла\" двух игроков.  \n",
    "если первый проиграет, затем второй - то вернутся к начальному состоянию -> возможны рекурсивные соотношения  \n",
    "  \n",
    "Полезно в задачах с Марковскими цепями с поглощением и в задачах на эволюцию систем"
   ]
  },
  {
   "cell_type": "markdown",
   "metadata": {
    "heading_collapsed": true
   },
   "source": [
    "#### 50 prob challenging problems"
   ]
  },
  {
   "cell_type": "code",
   "execution_count": null,
   "metadata": {
    "hidden": true
   },
   "outputs": [],
   "source": [
    "# https://github.com/sinclam2/fifty-challenging-problems-in-probability/tree/master"
   ]
  },
  {
   "cell_type": "code",
   "execution_count": 23,
   "metadata": {
    "hidden": true
   },
   "outputs": [
    {
     "name": "stdout",
     "output_type": "stream",
     "text": [
      "dist sum  0.9998681382170593\n",
      "avg N untill success  5.9927476019382695\n"
     ]
    },
    {
     "data": {
      "image/png": "[encoded data removed]",
      "text/plain": [
       "<Figure size 432x288 with 1 Axes>"
      ]
     },
     "metadata": {
      "needs_background": "light"
     },
     "output_type": "display_data"
    }
   ],
   "source": [
    "# # Задача 3 \n",
    "# сколько в ср раз кинуть кубик пока не выпадет 6 - аналог распределения бернулли\n",
    "p, q = 1/6, 5/6\n",
    "x = list(range(1, 50))\n",
    "dist = []\n",
    "for j in x:\n",
    "    dist.append(p * q**(j-1))\n",
    "print('dist sum ', sum(dist))\n",
    "print('avg N untill success ', np.sum(np.array(x) * np.array(dist)))\n",
    "print('чтобы суммировать аналитичически достаточно вспомить что 1/(1-x) производная даст нужный ряд')\n",
    "eda.make_plot('bar', {'x' : x, 'y' : dist})"
   ]
  },
  {
   "cell_type": "code",
   "execution_count": 14,
   "metadata": {
    "hidden": true
   },
   "outputs": [
    {
     "name": "stdout",
     "output_type": "stream",
     "text": [
      "res 0.4995000000000076\n"
     ]
    }
   ],
   "source": [
    "# Задача 10\n",
    "# У вашего друга есть много чёрных и белых шаров, и он кладёт в урну чёрные и белые шары по своему усмотрению. \n",
    "# Вы выбираете «чёрный» или «белый». Из урны случайно вытаскивается один шар. \n",
    "# Запишите максимальную сумму, которую вы готовы заплатить за участие в этой игре. \n",
    "# Игра проводится только один раз.\n",
    "\n",
    "print(\n",
    "\"\"\"\n",
    "p(w) = 2 * p(белый) * p = p (из за симметрии, домножаем на 2 для кейса с черным выбором) \n",
    "p = sum(p(вытащить белый из N когда X белых) * p(друг запланировал X белых) * p(друг запланировал N шаров))  \n",
    "p = sum(x/N * 1/(N+1)) суммируем по N = 1, inf; x = 0, N (поэтому n+1 вариант для каждого N)\n",
    "\"\"\"\n",
    ")\n",
    "\n",
    "p = 0\n",
    "Max_N = 1000 # с ростом выходим на насыщение\n",
    "for N in range(1, Max_N): # число шаров в корзине\n",
    "    for x in range(0, N+1): # число белых шаров\n",
    "        p += x/N * 1/(N+1) * 1/Max_N # тотал шанс угадать белый шар\n",
    "print('res', p)\n",
    "\n",
    "# или еще проще - здесь полная симметрия, а значит нет преимуществ выбора белого/черного. p = 1/2\n",
    "# чуть сложнее - пусть СВ f_b - доля выбора черных шаров. тогда доля белых 1 - f_b\n",
    "# p(win) = p(black) * f_b + p(white) * (1-f_b) = 1/2, т к p(white) = p(black) = 1/2"
   ]
  },
  {
   "cell_type": "code",
   "execution_count": 9,
   "metadata": {
    "hidden": true
   },
   "outputs": [
    {
     "name": "stdout",
     "output_type": "stream",
     "text": [
      "5.499990981991038\n"
     ]
    }
   ],
   "source": [
    "# Задача 14\n",
    "# Купоны в коробках с хлопьями пронумерованы от 1 до 5, и для получения приза \n",
    "# нужно собрать по одному экземпляру каждого номера.В каждой коробке — один купон. \n",
    "# Сколько коробок в среднем нужно купить, чтобы собрать полный набор?\n",
    "\n",
    "# если я купил x коробок, то шанс что соберу 1-5 купонов: p = 1 * 1/(x-1) * ... 1/(x-4)\n",
    "# тогда <x> = sum(x * p), x = (5, inf)  \n",
    "x_max = 1000\n",
    "p = 0\n",
    "for x in range(5, x_max+1):\n",
    "    p += x / ((x-1) * (x-2) * (x-3) * (x-4))\n",
    "print(p / 0.05555555522021383)"
   ]
  },
  {
   "cell_type": "code",
   "execution_count": null,
   "metadata": {
    "hidden": true
   },
   "outputs": [],
   "source": [
    "# Задача 15\n",
    "# Восемь подходящих женихов и семь красивых моделей случайно купили одиночные билеты \n",
    "# в один и тот же 15-местный ряд театра. \n",
    "# В среднем, сколько пар соседних мест окажутся заняты \"брачными парами\"?\n",
    "\n",
    "Итак, у нас 15 мест, а значит 14 пар мест которые друг рядом с другом. Пусть хi - это состояние i-пары.  \n",
    "Если xi=1 то там есть матч, если xi=0 то нет.  Тогда cnt = x1 + ... + x14 - случайное число матчей.  \n",
    "(!) вероятность матча xi не зависит от других j!=i (у нас НЕТ условия на то как они распределены)  \n",
    "Поэтому для любого i: xi_avg = 1 * (7/14 * 8/15 + 8/14 * 7/15) = 8/15  \n",
    "Тогда cnt_avg = 14 * xi_avg = 8 * 14 / 15 ~ 7.4  \n",
    "См. TIPS - теорема о среднем"
   ]
  },
  {
   "cell_type": "code",
   "execution_count": 11,
   "metadata": {
    "hidden": true
   },
   "outputs": [
    {
     "data": {
      "text/plain": [
       "(0.6651020233196161, 0.618667373732309, 0.5973456859477233)"
      ]
     },
     "execution_count": 11,
     "metadata": {},
     "output_type": "execute_result"
    }
   ],
   "source": [
    "# Задача 19 \n",
    "# что более вероятно: >=одной 6 на 6 бросках кости, >=двух на 12, >=трех на 18\n",
    "# сумма биномиальных распределений\n",
    "def prob_calc(m, n):\n",
    "    # m - число шестерок, n - число бросков\n",
    "    prob = 0\n",
    "    for j in range(m, n+1):\n",
    "        p = 1/6\n",
    "        q = 1-p\n",
    "        c = np.math.factorial(n) / (np.math.factorial(n - j) * np.math.factorial(j))\n",
    "        prob += c * (p**j) * (q**(n-j))\n",
    "    return prob\n",
    "\n",
    "prob_calc(1, 6), prob_calc(2, 12), prob_calc(3, 18)"
   ]
  },
  {
   "cell_type": "code",
   "execution_count": 6,
   "metadata": {
    "hidden": true
   },
   "outputs": [
    {
     "data": {
      "text/plain": [
       "1.2"
      ]
     },
     "execution_count": 6,
     "metadata": {},
     "output_type": "execute_result"
    }
   ],
   "source": [
    "# Задача 22\n",
    "# Есть урна голосования, в ней a+b билютеней, a>b за некоторого кандидата\n",
    "# Начинаем последовательно доставать из нее билеты и считать - какова вероятность что в какой то момент они сравн?\n",
    "\n",
    "Решение хитрое:\n",
    "1) Если выборка началась с шара b - то в ней наступит такое равенство, так как рано или\n",
    "поздно шаров a должно стать больше (значит balance_cnt пройдет через ноль)  \n",
    "2) Кроме того у каждой выборки начатой с b - есть зеркальная выборка начатая с a, но где заменены a <-> b.  \n",
    "3) Больше видов выборок ведущих к равенству нет, так как если выборка ведет к равенству, значит в ней есть  \n",
    "равное число a и b элементов - и если не начинается с b, то для нее можно найти двойника-начинающегося с b.  \n",
    "А это значит что она в классе 2\n",
    "\n",
    "Доля выборок типа 1: b/(a+b)  \n",
    "Доля выборок типа 1 и 2 (все ведущие к равенству) - 2b/(a+b) "
   ]
  },
  {
   "cell_type": "code",
   "execution_count": null,
   "metadata": {
    "hidden": true
   },
   "outputs": [],
   "source": [
    "# Задача 34\n",
    "# Трудовые законы в Эревоне обязывают владельцев фабрик давать выходной всем работникам каждый раз, \n",
    "# когда у кого-то из них день рождения, и нанимать работников без учёта даты рождения. \n",
    "# За исключением этих выходных, они работают 365 дней в году.\n",
    "# Владельцы хотят максимизировать ожидаемое общее число человеко-дней работы в год. \n",
    "# Сколько работников нанимают фабрики в Эревоне?\n",
    "\n",
    "Решение:\n",
    "Всего у нас 365 дней, пусть вероятность что день 1 рабочий будет p1. Вероятность что рабочий день X:\n",
    "px = p(1|prev), где prev - предыдущая конфигурация дней (условая вероятность)  \n",
    "Ср число рабочих дней cnt_avg = sum(1 * p_i) = sum(p_i)  \n",
    "Из за свойства сумм + формулы полной вероятности все условные вероятности складываются и cnt_avg  \n",
    "становится суммой безусловных вероятностей всех дней -> cnt_avg = 365 * p1.  \n",
    "p1 = (1 - 1/365)**N - вероятность что день 1 (и любой другой - безусловно) рабочий  \n",
    "Получаем что общее число человеко-дней Q = N * 365 * (1 - 1/365)**N -> max  \n",
    "  \n",
    "Если продиф и найти экстремум - то dQ/dN = 0 -> N = 1 / ln(365/364) = 364"
   ]
  },
  {
   "cell_type": "code",
   "execution_count": 4,
   "metadata": {
    "hidden": true
   },
   "outputs": [],
   "source": [
    "# задача 45/46\n",
    "# Из перетасованной колоды карты выкладываются на стол по одной, лицом вверх, слева направо. \n",
    "# Затем вторая колода выкладывается так, что каждая её карта оказывается под соответствующей картой первой колоды. \n",
    "# Каково среднее число совпадений карты сверху и карты снизу при многократном повторении этого эксперимента?\n",
    "\n",
    "(!) Ошибочное решение:\n",
    "пусть выложили первую колоду (n=52). Теперь выкладываем вторую поверх - получаем k совпадений.  \n",
    "Кол-во случаев наблюдать k совпадений: C_n_k. Кол-во способов вообще выложить вторую колоду P(n) = n!  \n",
    "Кол-во способов выложить остальные не совпадающие карты на оставшиеся n-k позиций:  \n",
    "Это значение НЕ РАВНО P(n-k) - так как тогда учтем дополнительные совпадения.  \n",
    "Кол-во перестановок без совпадений D(n-k) < P(n-k) и считается сложнее. \n",
    "Итого вероятность получить k совпадений: prob(k) = C_n_k * D(n-k) / P(n)  \n",
    "    \n",
    "Корректное решение: \n",
    "Полная (она же безусловная) вероятность получить совпадение на i-й позиции равна 1/52.  \n",
    "По свойству матожидания: x_avg = sum(xi * pi) = sum(xi * pi_full), так как pi_full = sum(pi * p_other)  \n",
    "(теорема о полной вероятности) -> x_avg = 1/52 * 52 = 1  \n",
    "\n",
    "Вероятность же получить ровно k совпадений считается через:  \n",
    "prob(k) = C_n_k * D(n-k) / P(n)  \n",
    "D(n-k) = кол-во перестановок без совпадений = P(n-k) - Q(n-k)  \n",
    "Q = кол-во перестановок с совпадениями = Q1 + Q2 + ...\n",
    "Q = sum(C_n-k_i * D(n-k-i)) -> получаем рекурсивную формулу для D.  \n",
    "Она сойдется к знакопеременному ряду. Его же можно получить по принципу объединения N множеств."
   ]
  },
  {
   "cell_type": "code",
   "execution_count": null,
   "metadata": {
    "hidden": true
   },
   "outputs": [],
   "source": [
    "# Задача 48 \n",
    "# Игроку предлагается по очереди открывать карточки (всего их N = 100, значения на карточках уникальные, карточки  \n",
    "# лежат рандомно) и в какой то момент остановиться на самом большом значении. Какую надо использовать стратегию?  \n",
    "\n",
    "Присвоим карточкам ранги 1 ... 100. Если выбрать первую же карточку, шанс победы p = 1/100  \n",
    "Предположим что стратегия - пропустить k карточек (перевернуть их) и далее начать открывать следующие  \n",
    "и остановиться на той которая больше MAX(первые k карточек).  \n",
    "Шанс выиграть тогда:  \n",
    "sum(prob(max на позиции i>k, среди i-1 карточек локальный максимум в первых k))\n",
    "здесь суммирование идет по всем i позициям >k. это включает условие что тотал максимум не в первых k позициях. \n",
    "Для некоторой позиции i>k слагаемое равно:  \n",
    "prob_i = 1/N (шанс что на позиции i) * k/(i-1) (лок максимум в первых k из i-1)  \n",
    "Если это суммировать по i и затем найти k максимизирующий вероятность то получится k=int(N/e)"
   ]
  },
  {
   "cell_type": "markdown",
   "metadata": {},
   "source": [
    "#### Ace Data Science interview"
   ]
  },
  {
   "cell_type": "code",
   "execution_count": null,
   "metadata": {},
   "outputs": [],
   "source": [
    "# задача 5-3\n",
    "# кидается один за другим три раза игральные кости - найти вероятность что выпадут строго возрастающие номера\n",
    "Пусть при броске выпали номера a1, a2, a3  \n",
    "Всего вариантов выпадения N = 6 * 6 * 6 = 216\n",
    "Всего комбинаций когда выпали разные цифры (не одинаковые) = 6 * 5 * 4 = 120  \n",
    "Уникальный набор цифр создает 3! = 6 перестановок-комбинаций -> всего есть 120/6 = 20 уникальных наборов цифр  \n",
    "Из них только 1 комбнация - возврастающая, значит всего 20 возможных комбинаций -> P = 20/216"
   ]
  },
  {
   "cell_type": "code",
   "execution_count": null,
   "metadata": {},
   "outputs": [],
   "source": [
    "# задача 5-8\n",
    "# два игрока кидают монетку по очереди - шанс что выпадет орел = p (монетка смещенная)  \n",
    "# начинает игрок А, первый кто выкинет орла - выигрывает. Какой шанс что победит игрок А?  \n",
    "Решение через рекурсию, так как возвращаемся в исходное пространство  \n",
    "P(A_win) = p + (1-p)*(1-p) * P(A_win) -> первое слагаемое - шанс что первый выиграет сразу, второе -  \n",
    "сначала проиграет, потом проиграет второй и вернутся к начальному положению дел. \n",
    "Отсюда P(A_win) = 1/(2-p)"
   ]
  },
  {
   "cell_type": "code",
   "execution_count": null,
   "metadata": {},
   "outputs": [],
   "source": [
    "# задача 5-10\n",
    "# кидаются случайно две хорды на круг - какой шанс что пересекутся\n",
    "Вариант 1: пусть первую хорду случайно кинули - она отсекла меньший сектор alpha, второй соотв 2pi - alpha.  \n",
    "Шанс что вторая пересечет первую = шанс что две ее точки упадут в разные сегменты -> alpha/2pi * (2pi-alpha)/2pi  \n",
    "Вероятность что первая хорда отсекла данный угол p1 = d_alpha / 2pi - бесконечно малая  \n",
    "По формуле полной вероятности p_intersect = integral(alpha/2pi * (2pi-alpha)/2pi * d_alpha / 2pi) -> 1/3  \n",
    "  \n",
    "Вариант 2: давайте представим что края первой хорды это 0, а второй 1 в последовательности (1 1 0 0) на круге.  \n",
    "Чтобы пересеклись - необходимо чредование, то есть 1 0 1 0 и 0 1 0 1 - два варианта.  \n",
    "А всего способов разместить две единицы по 4 позициям = C_4_2 = 6 -> P_inersect = 2 / 6 = 1 / 3"
   ]
  },
  {
   "cell_type": "code",
   "execution_count": null,
   "metadata": {},
   "outputs": [],
   "source": [
    "# задача 5-14\n",
    "# у родителей два ребенка, один из них мальчик. Какая вероятность что второй - тоже мальчик  \n",
    "Варианты: BG, GB, BB, GG - первые три подходят под начальное условие. Из них только одна конфигурация BB целевая.  \n",
    "Значит вероятность P(BB) = 1/3"
   ]
  },
  {
   "cell_type": "code",
   "execution_count": 2,
   "metadata": {},
   "outputs": [],
   "source": [
    "# задача 5-18\n",
    "# кидают одновременно 10 кубиков - какая вероятность что полученная сумма делится на 6?\n",
    "Пусть кинули уже 9 кубиков и на них получилась какая то сумма X.  \n",
    "Для этой суммы очевино X%6 = 0, 1, 2, 3, 4, 5 (остаток от деления)  \n",
    "В любом из этих случаев существует только одно значение на кубике 10, чтобы итоговая сумма делилась на 6.  \n",
    "Например при X%6 = 1 - должно выпасть 5, 2 - 4 итд.  \n",
    "Таким образом при любом раскладе, вероятность того что сумма кратна 6: 1/6.  "
   ]
  },
  {
   "cell_type": "code",
   "execution_count": 10,
   "metadata": {},
   "outputs": [
    {
     "name": "stdout",
     "output_type": "stream",
     "text": [
      "0.0004536751257430268\n",
      "0.0004536751257430268\n"
     ]
    }
   ],
   "source": [
    "# задача 5-30\n",
    "# кидают одновременно n кубиков - какая вероятность что MAX(значений) = r?; r = 1, ... 6\n",
    "n = 7; r = 2\n",
    "\n",
    "# биномиальное решение \n",
    "# Prob = P(один кубик = r, другие < r) + P(два кубика = r, другие < r) + ...\n",
    "res = 0\n",
    "for j in range(1, n+1):\n",
    "    res += c_n_m(n, j) * ((1/6)**j) * (((r-1)/6)**(n - j))\n",
    "print(res)\n",
    "\n",
    "# более элегантное решение через рекурсию\n",
    "# Br = вероятность что все кубики <r; Ar = вероятность что максимум кубиков = r (искомая)\n",
    "# Br = Ar + B(r-1) -> Ar = Br - B(r-1) = (r/6)^n - ((r-1)/6)^n\n",
    "print((r/6)**(n) - (r-1)**n / (6**n))"
   ]
  },
  {
   "cell_type": "code",
   "execution_count": null,
   "metadata": {},
   "outputs": [],
   "source": []
  }
 ],
 "metadata": {
  "kernelspec": {
   "display_name": "Python 3",
   "language": "python",
   "name": "python3"
  },
  "language_info": {
   "codemirror_mode": {
    "name": "ipython",
    "version": 3
   },
   "file_extension": ".py",
   "mimetype": "text/x-python",
   "name": "python",
   "nbconvert_exporter": "python",
   "pygments_lexer": "ipython3",
   "version": "3.7.3"
  },
  "varInspector": {
   "cols": {
    "lenName": 16,
    "lenType": 16,
    "lenVar": 40
   },
   "kernels_config": {
    "python": {
     "delete_cmd_postfix": "",
     "delete_cmd_prefix": "del ",
     "library": "var_list.py",
     "varRefreshCmd": "print(var_dic_list())"
    },
    "r": {
     "delete_cmd_postfix": ") ",
     "delete_cmd_prefix": "rm(",
     "library": "var_list.r",
     "varRefreshCmd": "cat(var_dic_list()) "
    }
   },
   "types_to_exclude": [
    "module",
    "function",
    "builtin_function_or_method",
    "instance",
    "_Feature"
   ],
   "window_display": false
  }
 },
 "nbformat": 4,
 "nbformat_minor": 4
}
