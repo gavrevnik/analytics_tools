{
 "cells": [
  {
   "cell_type": "code",
   "execution_count": null,
   "metadata": {},
   "outputs": [],
   "source": [
    "import numpy as np\n",
    "from copy import deepcopy, copy\n",
    "import string\n",
    "import random\n",
    "import itertools\n",
    "\n",
    "# https://refactoring.guru/ru/design-patterns/singleton - шаблоны проектирования\n",
    "# https://peps.python.org/pep-0000/ - описание всех функций python"
   ]
  },
  {
   "cell_type": "markdown",
   "metadata": {},
   "source": [
    "### Теория"
   ]
  },
  {
   "cell_type": "code",
   "execution_count": null,
   "metadata": {},
   "outputs": [],
   "source": [
    "# TODO\n",
    "\n",
    "# итераторы, генераторы (yield), itertools - готовые генераторные функции\n",
    "# наследование, классы, абстрактные классы (мета?)\n",
    "# атрибуты, обращение по атрибутам; методы; property, classmethod\n",
    "# декораторы, вообще немного по паттернам программирования\n",
    "\n",
    "# основы работы с regex, как разбирать регулярки нормально"
   ]
  },
  {
   "cell_type": "markdown",
   "metadata": {
    "heading_collapsed": true
   },
   "source": [
    "#### Параллельность"
   ]
  },
  {
   "cell_type": "markdown",
   "metadata": {
    "hidden": true
   },
   "source": [
    "**TODO:**\n",
    "IPC, взаимодействие процессов, сокеты, каналы\n",
    "\n",
    "CPU часто простаивает, так как приложения прерываются на ожидание. В этот момент можно решать параллельные задачи (например, ждать обновление от сервера и параллельно обслуживать интерфейс).\n",
    "Два варианта параллельности - **ветвление** **процессов** и **многопоточность**.\n",
    "\n",
    "**Потоки выполнения (threads)**\n",
    "\n",
    "Потоки выполняются внутри одного и того же процесса - разделяют между собой память и адресное пространство. Удобно использовать, когда алгоритм разбивается на независимые задания, которые в конце можно редуцировать. Потоки проще взаимодействуют друг с другом, легче создаются (не требуют копирования контекста).\n",
    "\n",
    "Потоки предполагаются для запуска параллельных функций внутри программы, но не для запуска параллельных программ (как в случае с os.fork/os.exec)\n",
    "\n",
    "Чтобы избежать проблем борьбы за ресурсы используют модель consumer/queue/producer - часть потоков производит эффект и кладет результаты в очередь, откуда его потребляют последовательно другие потоки.\n",
    "\n",
    "**GIL** - в каждый момент времени выполняется только один поток (ограничение Python). То есть потоки не могут выполняться одновременно на нескольких процессорах. Здесь уже потребуется ветвление процессов. \n",
    "\n",
    "Потоки зависимы от главного потока - когда он завершается, все child-потоки немедленно завершаются тоже. При ветвлении передается выполняемая функция с аргументами _start_thread(func, args).\n",
    "\n",
    "В потоках необходимо следить за синхронизацией доступа к общим между потоками данных. \n",
    "Это могут быть дескрипторы файлов, консольные выводы, переменные и.т.д\n",
    "\n",
    "Механизм блокировок **-** позволяет потокам резервировать работу над объектом до завершения. Конструкция вида with mutex: action не позволяет другим потокам взаимодействовать с замьюченными данными пока блокировка не снята.\n",
    "\n",
    "Механизм очередей - можно организовать структуру данных, которая сама синхронизирует к себе доступ в режиме производитель/потребитель. Структура Queue реализует механизм доступа типа FIFO + инкапсулирует блокировку на момент работы потребителя с очередью\n",
    "\n",
    "**Ветвление процессов (fork)**\n",
    "\n",
    "ОС **копирует** процесс (его ресурсы и код) и выполняет его параллельно. Копирование - дорогостоящая процедура (технически child-процесс получает копию глобальной памяти, включая дескрипторы файлов, переменные и.т.д). При этом копии независимы друг от друга.\n",
    "\n",
    "В процессе исполнения кода команды вроде newpid=os.fork() создают параллельно работающий дочерний процесс - его логика может ответвляться от родительского os.getpid() по условию newpid==0.\n",
    "\n",
    "Передача информации между процессами менее тривиальна, чем в случае с потоками, разделяющими глобальную область видимости процесса - **IPC (inter-process communication)**\n",
    "В основе лежат использование сетевых сокетов, разделяемой памяти, простые файлы, каналы."
   ]
  },
  {
   "cell_type": "code",
   "execution_count": null,
   "metadata": {
    "hidden": true
   },
   "outputs": [],
   "source": []
  },
  {
   "cell_type": "markdown",
   "metadata": {
    "heading_collapsed": true
   },
   "source": [
    "### Алгоритмы"
   ]
  },
  {
   "cell_type": "markdown",
   "metadata": {
    "hidden": true
   },
   "source": [
    "#### Tips"
   ]
  },
  {
   "cell_type": "markdown",
   "metadata": {
    "hidden": true
   },
   "source": [
    "#### Exercises"
   ]
  }
 ],
 "metadata": {
  "kernelspec": {
   "display_name": "Python 3",
   "language": "python",
   "name": "python3"
  },
  "language_info": {
   "codemirror_mode": {
    "name": "ipython",
    "version": 3
   },
   "file_extension": ".py",
   "mimetype": "text/x-python",
   "name": "python",
   "nbconvert_exporter": "python",
   "pygments_lexer": "ipython3",
   "version": "3.7.3"
  },
  "toc": {
   "base_numbering": "",
   "nav_menu": {},
   "number_sections": false,
   "sideBar": true,
   "skip_h1_title": false,
   "title_cell": "Table of Contents",
   "title_sidebar": "Contents",
   "toc_cell": false,
   "toc_position": {},
   "toc_section_display": true,
   "toc_window_display": false
  },
  "varInspector": {
   "cols": {
    "lenName": 16,
    "lenType": 16,
    "lenVar": 40
   },
   "kernels_config": {
    "python": {
     "delete_cmd_postfix": "",
     "delete_cmd_prefix": "del ",
     "library": "var_list.py",
     "varRefreshCmd": "print(var_dic_list())"
    },
    "r": {
     "delete_cmd_postfix": ") ",
     "delete_cmd_prefix": "rm(",
     "library": "var_list.r",
     "varRefreshCmd": "cat(var_dic_list()) "
    }
   },
   "types_to_exclude": [
    "module",
    "function",
    "builtin_function_or_method",
    "instance",
    "_Feature"
   ],
   "window_display": false
  }
 },
 "nbformat": 4,
 "nbformat_minor": 4
}
