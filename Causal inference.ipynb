{
 "cells": [
  {
   "cell_type": "code",
   "execution_count": 1,
   "metadata": {},
   "outputs": [
    {
     "data": {
      "text/html": [
       "<style>.container { width:90% !important; }</style>"
      ],
      "text/plain": [
       "<IPython.core.display.HTML object>"
      ]
     },
     "metadata": {},
     "output_type": "display_data"
    }
   ],
   "source": [
    "import warnings\n",
    "from IPython.core.display import display, HTML\n",
    "display(HTML(\"<style>.container { width:90% !important; }</style>\"))\n",
    "warnings.filterwarnings('ignore')  # Игнорировать все предупреждения (не рекомендуется в продакшн-коде)\n",
    "import pandas as pd\n",
    "import seaborn as sns\n",
    "from scipy import stats\n",
    "from sklearn.ensemble import HistGradientBoostingRegressor\n",
    "from sklearn.linear_model import LogisticRegression, LinearRegression, Lasso, Ridge\n",
    "from numpy import mean\n",
    "from numpy import var\n",
    "from math import sqrt\n",
    "import matplotlib.pyplot as plt\n",
    "import statsmodels.formula.api as smf\n",
    "from causalinference import CausalModel\n",
    "from scipy.stats import chisquare\n",
    "from statsmodels.stats.multitest import multipletests\n",
    "from statsmodels.stats.power import tt_ind_solve_power\n",
    "from sklearn.metrics import r2_score\n",
    "from sklearn.neighbors import KNeighborsRegressor\n",
    "from causalinference import CausalModel\n",
    "import imp\n",
    "import help_tools as ht\n",
    "import ci_tools as ci"
   ]
  },
  {
   "cell_type": "markdown",
   "metadata": {
    "heading_collapsed": true
   },
   "source": [
    "#### TODO"
   ]
  },
  {
   "cell_type": "markdown",
   "metadata": {
    "hidden": true
   },
   "source": [
    "изучить функционал библиотек  \n",
    "https://github.com/pyro-ppl/pyro  \n",
    "https://github.com/py-why/dowhy  \n",
    "https://github.com/uber/causalml  \n",
    "\n",
    "Ключевая книга  по causal inference\n",
    "https://matheusfacure.github.io/python-causality-handbook/01-Introduction-To-Causality.html  \n",
    "\n",
    "Ссылки на датасеты  \n",
    "https://github.com/matheusfacure/python-causality-handbook/blob/master/causal-inference-for-the-brave-and-true/data/collections_email.csv  \n",
    "\n",
    "Чекнуть книгу:  \n",
    "Inference and Intervention Causal Models for Business Analysis  \n",
    "    \n",
    "https://www.kaggle.com/code/harrywang/simple-matching-in-python  \n",
    "https://habr.com/ru/companies/ods/articles/544208/   \n",
    "https://harrywang.me/psm-did  \n",
    "Цикл статей о казуальности: https://towardsdatascience.com/why-do-we-need-causality-in-data-science-aec710da021e  \n",
    "Методы используемые в Uber: https://www.uber.com/en-RS/blog/causal-inference-at-uber/  \n",
    "Книга по Causal Inference - https://matheusfacure.github.io/python-causality-handbook/landing-page.html\n",
    "\n",
    " \n",
    "методы изучить:      \n",
    "Bayesian structural time series  \n",
    "Bayesian Statistics  "
   ]
  },
  {
   "cell_type": "markdown",
   "metadata": {
    "heading_collapsed": true
   },
   "source": [
    "#### Разбор статей"
   ]
  },
  {
   "cell_type": "markdown",
   "metadata": {
    "hidden": true
   },
   "source": [
    "https://habr.com/ru/companies/X5Tech/articles/768008/  \n",
    "\n",
    "---\n",
    "Статья от X5 по проведению оффлайн квази-АВ тестов в условиях, когда выборки не сбалансированы.  \n",
    "Пример: пилотный тест на магазинах с самой высокой выручкой. control|T=0 != experiment|T=0.  \n",
    "Пайплайн по балансировке данных (подробнее о методах см в разделах ниже)  \n",
    "1. Сбор характерных фичей для каждого магазина X (интересное: дискретизация временных рядов, x_i = dt - dt_i)  \n",
    "Признаки X отобраны до момента T=1 -> исключается сценарий T -> X.\n",
    "2. Признаки могут быть коррелированы X -> PCA(X) -> x1, x2, ... -> некоррелированный базис\n",
    "3. Отбираем X->Y (ковариаты точности); X->Y & X->T (конфаундеры смещения). Выкидываем бесполезные X -> T и не корр.\n",
    "4. Обогащаем X др важными бизнесовыми фичами для которых к примеру нет смысла в преобразованиях PCA\n",
    "5. X -> propensity_score(X) = ps. Оценщик ps = Calibrated Classifier CV\n",
    "6. Тримминг ps: выкидываем семплы с X: ps-test(X) no overlap ps-control(X) -> экстремальные\n",
    "7. Взвешивание семплов исходя из ps -> IPTW метод -> выборка A/B сбалансирована по фичам X\n",
    "8. Статистическая оценка эффекта через OLS: Y ~ T + X ... ; валидация alpha; power на разных группах A/B\n",
    "9. При необходимости дизайна: комбинация групп магазинов A1/B1, ... и статистическая оценка MDE + контроль alpha.\n",
    "  \n",
    "При переборе групп магазинов для поиска схожих групп для пилотного A/B:\n",
    "1. Семплы -> фичи X (абсолюты, тренды) -> kNN -> поисх схожих кластеров\n",
    "2. Перебираем классификации (кластера-фичи-группировки) -> проверяем ошибки 1/2 рода на них.  \n",
    "Т.е сначала находим группы на которых валидация дает alpha~5%, далее генерим effect -> оценка power."
   ]
  },
  {
   "cell_type": "markdown",
   "metadata": {
    "heading_collapsed": true
   },
   "source": [
    "#### Базовая теория"
   ]
  },
  {
   "cell_type": "markdown",
   "metadata": {
    "hidden": true
   },
   "source": [
    "<u>ОБЩАЯ ЗАДАЧА</u>  \n",
    "Оцениваем зависимость Y(T), где Y - целевая метрика, T=treatment - метрика влияния на выборку.  \n",
    "Выборка - возможные клиенты или др. сущности у которой есть набор признаков X.  \n",
    "**Пример**: оценка влияния типа лекарства T=0;1 на вероятность излечения пациента Y.  \n",
    "Распределение T - по сути то, как мы собираем сравниваемые (control;test) группы (их может быть много).  \n",
    "  \n",
    "ATE = avg. treatment eff = avg(Y_e - Y_c) в группах (control;test)  \n",
    "ATE = avg(Y_e|exp) - avg(Y_c|con) = avg(Y_e|exp) - avg(Y_c|exp) + avg(Y_c|exp) - avg(Y_c|con) =  \n",
    "avg(Y_e - Y_c|exp) - Y_c_exp_con_diff = ATT - BIAS  \n",
    "ATT = avg eff on treatment = насколько изменим Y если окажем влияние на тестовую группу (до/после).  \n",
    "BIAS = различие сравниваемых контрольной и тестовой выборок без реального тестового изменения Y=Y_c\n",
    "  \n",
    "BIAS>0 когда сравниваемые группы не эквивалетны по сути (выборки не сбалансированы).  \n",
    "BIAS>0 возникает когда в X присутствуют переменные C - <u>конфаундеры</u>.  \n",
    "C->T; C->Y => у семплов выборки есть разная вероятность попасть в control;test и разные Y зависящие от C.   \n",
    "**Пример**: Y=вероятность излечения; T=тип лекарства; С=кол-во денег пациента. Богатые пациенты более вероятно  \n",
    "получат лучшее лекарство T, а также могут позволить хорошее питание итд. также влияющее на Y. В результате,  \n",
    "посчитанный ATT будет завышен - не будет предсказывать корректно как реально изменится Y в более бедной группе.  \n",
    "  \n",
    "Рандомизированный AB тест - лучшее решение, тогда control; test без влияния симметричны по Y -> BIAS = 0  \n",
    "Тогда ATE = ATT + 0 = ATT. В этом случае отсутствуют C, т.к рандом разрушает влияние C->T.  \n",
    "Но это часто невозможно - дорого, исторические данные, неэтично и.т.д  \n",
    "Тогда работаем не с тестовыми данными, а с наблюдаемыми без искуственного теста (observation data)  \n",
    "\n",
    "Итак, в тестовых данных - работа больше над чувствительностью критериев детектирования ATE  \n",
    "В наблюдаемых данных - проблема балансировки (выборки симметричны по переменным, которые влияют на Y)  \n",
    "Иными словами, ослабление конфаундеров C (если С->Y, то стремимся убрать влияние C->T).  \n",
    "  \n",
    "---\n",
    "<u>ВЕРОЯТНОСТНЫЕ ГРАФЫ</u>  \n",
    "A->B = событие А влияет на событие В, т.е каждое dA порождает соответствующее dB.  \n",
    "A->B не значит что B->A (чем холоднее - чаще кашляешь, но если часто кашлять - не станет холоднее)  \n",
    "  \n",
    "Основные связи на вероятностных графах:\n",
    "1. A->B->C = **blocker**. В среднем, A влияет на C (например, больше А -> больше B -> больше С)  \n",
    "Но при B=const A и C независимы (B - является блокером связи)  \n",
    "Пример: знаешь статистику -> решаешь задачи интервью -> получаешь хороший оффер.  \n",
    "2. A->B; A->C = **fork**. В среднем B связан с С (например, больше B -> больше A -> больше С)  \n",
    "Но при A=const, B и C - независимы.  \n",
    "Пример: A - знания статистики; B,C - знания эконометрики и ML. В среднем, чем лучше знаешь ML -  \n",
    "тем больше шансов что знаешь эконометрику через статистику. Но при фиксированном уровне знаний статистики   \n",
    "рост знаний в ортогональных дисциплинах независим\n",
    "3. B->C; A->C = **collider**. В общем, В и А - независимы. Но при C=const A и B зависимые  \n",
    "Пример: C - оффер; B - хард скиллы; С - софт скиллы. Если хороший оффер, но низкие харды -> софты итд.\n"
   ]
  },
  {
   "cell_type": "markdown",
   "metadata": {
    "hidden": true
   },
   "source": [
    "ДОПОЛНИТЕЛЬНО  \n",
    "**CACE** = Complier Average Causal Effect  \n",
    "Пример методики, когда мы проверяем эффект воздействия, которое может быть применено не ко всем в группе.  \n",
    "Пример: в группе А люди лечатся лекарством 1, при этом достаточно часто его принимают.  \n",
    "В группе В мы выписываем им новое лекарство - оно сильно более эффективное, но дорогое -> сильно  \n",
    "реже люди его покупают после рецепта и используют для лечения.  \n",
    "По итогу, может оказаться, что невыгодно выписывать лекарство В, но если просто сравнивать эффект на  \n",
    "тех кто его принял - результат будет обратным (конфаундер здесь - цена).  \n",
    "CACE = (result_B - result_A) / (p_B - p_A), где p - вероятность принять лекарство (изменение)."
   ]
  },
  {
   "cell_type": "markdown",
   "metadata": {
    "heading_collapsed": true
   },
   "source": [
    "#### Линейная регрессия"
   ]
  },
  {
   "cell_type": "markdown",
   "metadata": {
    "hidden": true
   },
   "source": [
    "Линейная регрессия позволяет оценивать зависимости для моделей Y = a1 * x1 + a2 * x2 + ... an  \n",
    "По набору данных Y;X мы оцениваем коэффициенты A (вкл. доверительные интервалы и.т.д)  \n",
    "a1 - коэф. который отражает как будет X1->Y при фиксированных X2, ... \n",
    "  \n",
    "Построим регрессию Y = a1 * T + a2 * C1 + a3 * C2 + ...; T=treatment, C=confounders  \n",
    "Тогда мы получим T->Y при С=const - то есть в условиях когда нет фактора C->T.  \n",
    "Таким образом, если удастся собрать полный набор C - конфаундеров, можно получить честную Y(T)  \n",
    "\n",
    "<u>Что стоит и не стоит включать в модель X регрессии</u>  \n",
    "Стоит включать в модель:\n",
    "1. Все присутствующие конфаундеры C: C->T; C->Y.  \n",
    "Их учет сделает менее смещенным полученный предикт Y(T).  \n",
    "2. Предикторы X: X->Y, но при этом X не влияет на T. Они еще называются ковариатами.   \n",
    "Эти предикторы снижают дисперсию предсказаний Y -> улучшают качество предикта Y(T)  \n",
    "  \n",
    "Нельзя включать в модель:\n",
    "1. Предикторы, которые не влияют на Y\n",
    "Модель пытается найти фиктивную зависимость, что увеличивает шум оценки  \n",
    "2. Предикторы-коллайдеры CL: T->CL; Y->CL  \n",
    "См. графы в разделе \"Теория\": при CL=const между T;Y индуцируется фиктивная связь -> bias\n",
    "3. Предикторы-блокеры BL: T->BL->Y\n",
    "См графы: при BL=const между T;Y искусственно нарушается связь -> bias  \n",
    "4. Признаки \"из будущего\" P: Y->P (переобучение)\n",
    "  \n",
    "Пункты 2, 3 относятся к проблеме common effect - когда включается несколько переменных оказывающих  \n",
    "связь на целевую -> возникает неопределенность в атрибуцировании этой связи.  \n",
    "Проблема корреляции сюда же, так как при corr(T,X)~1 следует в том числе T->X; X->Y. \n",
    "  \n",
    "Итого: нельзя включать в модель X все признаки подряд, необходимо отбирать только  \n",
    "уточняющие модель признаки, а также конфаундеры. Проблема отбора качественных признаков - \n",
    "исключительно в доменных знаниях о проблеме.  \n",
    "До конца нельзя быть уверенными что X собран оптимально -> всегда есть шанс получить BIAS оценки Y(T).  \n",
    "Единственный способ проверить качество оценки честно - рандомизированный AB.  \n",
    "\n",
    "--- \n",
    "**Пример коллайдера CL**: Y = доход; T = уровень образования; CL = активность инвестирования.  \n",
    "Y->CL (больше денег - актуальнее проблема инвестирования); T->CL (образование -> изучение инвестирования).  \n",
    "Если в модели сделать CL=Const, то мы индуцируем зависимость T->Y даже если ее нет в среднем.  \n",
    "Люди с высокой инвест-активностью: если не имеют денег то с большкей вероятностью имеют высокое образование  \n",
    "(иначе они бы не инвестировали) и.т.д"
   ]
  },
  {
   "cell_type": "code",
   "execution_count": null,
   "metadata": {
    "hidden": true
   },
   "outputs": [],
   "source": [
    "# влияние факта отправки письма T=email=0;1 на погашение задолженности payments\n",
    "df = pd.read_csv(\"./data/collections_email.csv\"); print(df.shape[0])\n",
    "df.head(1)"
   ]
  },
  {
   "cell_type": "code",
   "execution_count": null,
   "metadata": {
    "hidden": true
   },
   "outputs": [],
   "source": [
    "# сплит email=0;1 рандомный. Оценка T-тестом говорит, что недостаточно \n",
    "# мощности для того чтобы увидеть значимый прокрас в payments\n",
    "ht.ttest_calc(df[df.email == 1].payments, df[df.email == 0].payments)[0]"
   ]
  },
  {
   "cell_type": "code",
   "execution_count": null,
   "metadata": {
    "hidden": true
   },
   "outputs": [],
   "source": [
    "# аналогично видим что p_value > 0.05 при оценке зависимости payments = f(email)\n",
    "ht.ols_calc(df, smf_formula='payments ~ email')[0]"
   ]
  },
  {
   "cell_type": "code",
   "execution_count": null,
   "metadata": {
    "hidden": true
   },
   "outputs": [],
   "source": [
    "# однако проблема в том числе в том, что email - оч мало влияет на погашение с сравнение с др. факторами\n",
    "# в частности credit_limit - сколько было взято в долг; risk_score\n",
    "# мы не можем из за этого \"рассмотреть\" влияние email; но если зафиксировать эти факторы X->Y, \n",
    "# то влияние email получится оценить (получается метод улучшения чувствительности)\n",
    "ht.ols_calc(df, smf_formula='payments ~ email + credit_limit + risk_score')[0]"
   ]
  },
  {
   "cell_type": "code",
   "execution_count": null,
   "metadata": {
    "hidden": true
   },
   "outputs": [],
   "source": [
    "# посмотрим что будет, если включить в систему блокер BL = переменную opened - \n",
    "# открытие письма. Оно возможно только когда email=1 т.е email -> opened -> payments.  \n",
    "# при opened=const (что делает регрессия) => связь email -> payments ослабляется, что приводит к bias\n",
    "ht.ols_calc(df, smf_formula='payments ~ email + credit_limit + risk_score + opened')[0]"
   ]
  },
  {
   "cell_type": "code",
   "execution_count": null,
   "metadata": {
    "hidden": true
   },
   "outputs": [],
   "source": [
    "df = pd.read_csv('./data/medicine_impact_recovery.csv').rename(columns={'medication':'treatment',\n",
    "                                                                        'recovery':'y'})#.drop(columns='severity')\n",
    "ht.ols_calc(df, smf_formula='y ~ sex + age + treatment + severity')[0]"
   ]
  },
  {
   "cell_type": "markdown",
   "metadata": {
    "hidden": true
   },
   "source": [
    "<u>ПРИЛОЖЕНИЕ</u>  \n",
    "Если в регрессии имеется дисбаланс в переменной X -> можно ослаблять влияние значения в  \n",
    "зависимости от частоты его встречаемости. Для этого есть метод sample_weighted = freq.  \n",
    "Хорошо подходит для корректировки гетероскедастичности - когда дисперсия переменной Y  \n",
    "сильно зависит от величины X.  \n",
    "  \n",
    "Регуляризация в регрессии - когда полученные веса a1, a2, ... штрафуются за очень высокие значения.  \n",
    "Так - один признак не будет иметь тенденции перетянуть на себя все объяснение -> снижается риск  \n",
    "переобучения модели. Типы регуляризации:\n",
    "1. Lasso = L1 = |a1| + |a2| + ...  \n",
    "Приводит к занулению некотрых весов - полезная для отбора признаков x1, x2 ... - разреженные модели.  \n",
    "2. Ridge-регуляризация = L2 = a1^2 + a2^2 + ...   \n",
    "учитывает все веса с более плавным штрафом. Полезно когда хотим сохранить все признаки в оптимизации,  \n",
    "вычислительно более дорогая штука."
   ]
  },
  {
   "cell_type": "markdown",
   "metadata": {
    "heading_collapsed": true
   },
   "source": [
    "#### Базовый матчинг"
   ]
  },
  {
   "cell_type": "markdown",
   "metadata": {
    "hidden": true
   },
   "source": [
    "Необходимо оценить зависимость Y(T) в условиях наличия конфаундеров C: C->T;C->Y.  \n",
    "Помимо прочего учитываем ковариаты X=C+Cv: Cv->Y для снижения дисперсии оценки и роста точности.  \n",
    "Регрессия решает это оценкой Y(T|X=const). Минус, что полагается линейная зависимость Y = Y(T, X)  \n",
    "  \n",
    "Идея матчинга - подбирать схожие по распределению X семплы выборки в разных T, чтобы  \n",
    "сравниваемые T=0;1 выборки были сбалансированны по признакам. \n",
    "  \n",
    "Один из способов - использовать метод kNN для поиска для каждого семпла из T=1 наиболее близкого из T=0 в  \n",
    "пространстве признаков X. Здесь нет ограничения на линейность и как следствие близкое (через экстраполяццию)  \n",
    "сходство признаков семплов в группах T=0;1  \n",
    "\n",
    "Проблема: проклятие размерности. Чем больше X.columns, тем сложнее найти близкого соседа. Возникает BIAS  \n",
    "обусловленный тем что X0 не идеально совпадает с X1 (сматченные семплы из групп T=0;1)  \n",
    "То есть Y0 - Y1 = (разница из за влияния T=1) + (разница из за расхождения dX).  \n",
    "  \n",
    "Можно скорректировать влияние dX через регрессию: вместо Y0 строим Yo_forecast(X1) чтобы \"пересадить\"  \n",
    "сравниваемую точку X0 в X1 (по значениям но при этом с T=0).  "
   ]
  },
  {
   "cell_type": "code",
   "execution_count": null,
   "metadata": {
    "hidden": true
   },
   "outputs": [],
   "source": [
    "# df = pd.read_csv('./data/groupon.csv')[['prom_length', 'price', 'discount_pct', 'coupon_duration', \n",
    "#          'featured','limited_supply', 'treatment', 'revenue']].rename(columns={'revenue':'y'})\n",
    "# df = pd.read_csv('./data/groupon.csv')[['prom_length', 'price', 'discount_pct', 'coupon_duration', \n",
    "#          'featured', 'treatment', 'revenue']].rename(columns={'revenue':'y'})\n",
    "# df = pd.read_csv('./data/smoker.csv').rename(columns={'outcome':'y'})\n",
    "df = pd.read_csv('./data/medicine_impact_recovery.csv').rename(columns={'medication':'treatment', 'recovery':'y'})\n",
    "df.head(1)"
   ]
  },
  {
   "cell_type": "code",
   "execution_count": null,
   "metadata": {
    "hidden": true
   },
   "outputs": [],
   "source": [
    "# смещенный ATE (не корректен, так как выборки не сбалансированы из за конфаундеров) \n",
    "df[df.treatment == 1]['y'].mean() - df[df.treatment == 0]['y'].mean()"
   ]
  },
  {
   "cell_type": "code",
   "execution_count": null,
   "metadata": {
    "hidden": true
   },
   "outputs": [],
   "source": [
    "# берет точку x; находит n_neigb ее ближайших соседей в пространстве X; \n",
    "# вычисляет и возвращает усредненное Y для этих соседей\n",
    "col = 'y'\n",
    "treated = df[df.treatment == 1]\n",
    "untreated = df[df.treatment == 0]\n",
    "\n",
    "X_treated = treated.drop(columns=col)\n",
    "X_untreated = untreated.drop(columns=col)\n",
    "y_treated = treated[col].values\n",
    "y_untreated = untreated[col].values\n",
    "\n",
    "# просто запомнили координаты всех точек в двух массивах\n",
    "mt0 = KNeighborsRegressor(n_neighbors=1).fit(X_untreated, y_untreated)\n",
    "mt1 = KNeighborsRegressor(n_neighbors=1).fit(X_treated, y_treated)\n",
    "\n",
    "# для каждой точки ищем Y соседа (т.к он 1 то значение точное)\n",
    "treated['match'] = mt0.predict(X_treated)\n",
    "untreated['match'] = mt1.predict(X_untreated)\n",
    "\n",
    "# Корректировка неточного матчинга по X через лин регрессию\n",
    "treated_match_index = mt0.kneighbors(X_treated, n_neighbors=1)[1].ravel()\n",
    "untreated_match_index = mt1.kneighbors(X_untreated, n_neighbors=1)[1].ravel()\n",
    "ols0 = LinearRegression().fit(X_untreated, y_untreated)\n",
    "ols1 = LinearRegression().fit(X_treated, y_treated)\n",
    "untreated['bias_correct']=ols1.predict(X_untreated) - ols1.predict(treated.iloc[untreated_match_index].drop(columns=[col, 'match']))\n",
    "treated['bias_correct']=ols0.predict(X_treated) - ols0.predict(untreated.iloc[treated_match_index].drop(columns=[col, 'match', 'bias_correct']))\n",
    "\n",
    "# ATE оценка эффекта - берем все пары x-x_match и сравниваем. k = 2*T-1 = 1 if treatment else -1. Чтобы не занулять пары.\n",
    "df_s = pd.concat([treated, untreated])\n",
    "\n",
    "# np.mean((2*df_s[\"treatment\"] - 1)*(df_s[col] - df_s[\"match\"])) # оценка без учета bias\n",
    "np.mean((2*df_s[\"treatment\"] - 1)*(df_s[col] - df_s[\"match\"] - df_s['bias_correct'])) # коррекция dx через регрессию"
   ]
  },
  {
   "cell_type": "code",
   "execution_count": null,
   "metadata": {
    "hidden": true
   },
   "outputs": [],
   "source": [
    "# Аналогичный kNN матчинг по X через библиотеку\n",
    "cm = CausalModel(\n",
    "    Y=df[col].values, \n",
    "    D=df[\"treatment\"].values,  #T\n",
    "    X=df.drop(columns=[col, 'treatment']).values\n",
    ")\n",
    "\n",
    "cm.est_via_matching(matches=1, bias_adj=True)\n",
    "print(cm.estimates)"
   ]
  },
  {
   "cell_type": "code",
   "execution_count": null,
   "metadata": {
    "hidden": true
   },
   "outputs": [],
   "source": [
    "# РЕГРЕССИЯ ДАЕТ СМЕЩЕННЫЕ ОЦЕНКИ, ТАК КАК НЕ ВЫПОЛНЯЮТСЯ ТРЕБОВАНИЯ ЛИНЕЙНОСТИ\n",
    "# model = smf.ols('y ~ treatment + smoker', data=df).fit()\n",
    "model = smf.ols('y ~ treatment + sex + age + severity', data=df).fit()\n",
    "# model = smf.ols('y ~ treatment + prom_length + price + discount_pct + coupon_duration + featured', data=df).fit()\n",
    "model.summary().tables[1]"
   ]
  },
  {
   "cell_type": "markdown",
   "metadata": {
    "hidden": true
   },
   "source": [
    "Приложение.  \n",
    "<u>Парадокс Симпсона</u>  \n",
    "Частный случай несбалансированных выборок.    \n",
    "Смотрим эффект от лекарства в разбивке по молодым и пожилым. Допустим, в обеих группах лекарство помогает.  \n",
    "Но если объединить пожилых и молодых и их процентный состав разный в A/B -> может произойти инверсия.  \n",
    "Причина - вылечиваемость зависит не только от лекарства, но и от возраста. Смещение выборок по возрасту ->  \n",
    "искажение реального эффекта с контролем на возраст.  \n",
    "https://towardsdatascience.com/solving-simpsons-paradox-e85433c68d03  \n",
    "  \n",
    "Возраст влияет не только на излечиваемость, но и на формирование T=тест/контроль выборки (к примеру,  \n",
    "более пожилым людям априори дают более проверенное лекарство B, что вносит асимметрию).  \n",
    "Разрешение парадокса как раз возможно через методы матчинга или контроль X регрессией итд.   "
   ]
  },
  {
   "cell_type": "markdown",
   "metadata": {
    "heading_collapsed": true
   },
   "source": [
    "#### PSM"
   ]
  },
  {
   "cell_type": "markdown",
   "metadata": {
    "hidden": true
   },
   "source": [
    "Основной источник - https://matheusfacure.github.io/python-causality-handbook/11-Propensity-Score.html  \n",
    "Дополнительные статьи:  \n",
    "https://harrywang.me/psm-did  \n",
    "https://towardsdatascience.com/a-hands-on-introduction-to-propensity-score-use-for-beginners-856302b632ac  \n",
    "https://www.kaggle.com/code/harrywang/propensity-score-matching-in-python/notebook\n",
    "\n",
    "---\n",
    "\n",
    "В случае с регрессией мы контролируем Y=Y(T|X=const)  \n",
    "Можно контролировать avg(T|X) - то есть чтобы для каждого набора семплов из dX был одинаковый шанс попасть в T=0;1  \n",
    "В базовом матчинге говорим что для каждой группы семплов с близкими X - половина присутствуем в T=0 и в T=1  \n",
    "Проклятие размерности - при большом X.columns сложно работать с dX где оч мало семплов.  \n",
    "Регрессия по сути X->Y_forecast сводит многомерный массив в одну переменную (но с ограничением линейности)  \n",
    "  \n",
    "Propensity score method: X -> propensity score = вероятность попасть в группу T=1 = Logistic_regression_prob_T(X)  \n",
    "Оказывается, Y = Y(T|X=const) = Y(T|ps = const), где ps = ps(X).  \n",
    "Т.е редуцируем многоразмерный X в одноразмерную вероятность без ограничения общности, как в линейных моделях.  \n",
    "\n",
    "**Ограничение**: распределения ps(группы T=1) и ps(группы T=0) должны пересекаться, т.е overlap(ps1, ps2)>0.  \n",
    "Это значит, что для большинства семплов X имеется ненулевая вероятность попасть в любой из классов T=0; 1.  \n",
    "А значит, найдется похожий зеркальный семпл из другой группы для матчинга.  \n",
    "Если у семпла ps_i=0, то алгоритм выбрасывает такие точки из рассмотрения.\n",
    "  \n",
    "<u>Пример</u> - сравниваем эффективность вакансий Стандарт и Стандарт+. Если Ст+ публикуют только частные компании,  \n",
    "а Ст - только гос. компании, то ни у одной гос-вакансии нет условной вероятности стать Ст+ (ps=0).  \n",
    "Значит нельзя подобрать \"похожие\" вакансии с точки зрения шанса стать Ст/Ст+ для честного сравнения эффективности.  \n",
    "Нельзя экстраполировать свойства из группы Ст+ на совершенно иные свойства группы Ст.  \n",
    "  \n",
    "Приложение:  \n",
    "Оценка погрешности вычисляемого ATE должна базироваться на точности вычисления ps.  \n",
    "Здесь есть множество проблем, так как бутстрап работает для матчинга нестабильно.  \n",
    "Возможно использование регрессии для поиска доверительных интервалов эффекта, но есть ограничения линейности y(ps).  \n",
    "\n",
    "Приложение 2:  \n",
    "не стоит включать в систему X при расчете ps ковариаты, которые прямо коррелируют с T  \n",
    "Это приведет к полной разделимости семплов, то есть к тому что overlap -> 0 и нельзя применять матчинг."
   ]
  },
  {
   "cell_type": "code",
   "execution_count": 274,
   "metadata": {
    "hidden": true
   },
   "outputs": [
    {
     "data": {
      "text/html": [
       "<div>\n",
       "<style scoped>\n",
       "    .dataframe tbody tr th:only-of-type {\n",
       "        vertical-align: middle;\n",
       "    }\n",
       "\n",
       "    .dataframe tbody tr th {\n",
       "        vertical-align: top;\n",
       "    }\n",
       "\n",
       "    .dataframe thead th {\n",
       "        text-align: right;\n",
       "    }\n",
       "</style>\n",
       "<table border=\"1\" class=\"dataframe\">\n",
       "  <thead>\n",
       "    <tr style=\"text-align: right;\">\n",
       "      <th></th>\n",
       "      <th>sex</th>\n",
       "      <th>age</th>\n",
       "      <th>treatment</th>\n",
       "      <th>y</th>\n",
       "    </tr>\n",
       "  </thead>\n",
       "  <tbody>\n",
       "    <tr>\n",
       "      <th>0</th>\n",
       "      <td>0</td>\n",
       "      <td>35.049134</td>\n",
       "      <td>1</td>\n",
       "      <td>31</td>\n",
       "    </tr>\n",
       "    <tr>\n",
       "      <th>1</th>\n",
       "      <td>1</td>\n",
       "      <td>41.580323</td>\n",
       "      <td>1</td>\n",
       "      <td>49</td>\n",
       "    </tr>\n",
       "  </tbody>\n",
       "</table>\n",
       "</div>"
      ],
      "text/plain": [
       "   sex        age  treatment   y\n",
       "0    0  35.049134          1  31\n",
       "1    1  41.580323          1  49"
      ]
     },
     "execution_count": 274,
     "metadata": {},
     "output_type": "execute_result"
    }
   ],
   "source": [
    "# df = pd.read_csv('./data/groupon.csv')[['prom_length', 'price', 'discount_pct', 'coupon_duration', 'featured', 'treatment', 'revenue']].rename(columns={'revenue':'y'})\n",
    "# df = pd.read_csv('./data/medicine_impact_recovery.csv').rename(columns={'medication':'treatment', 'recovery':'y'})\n",
    "df = pd.read_csv('./data/medicine_impact_recovery.csv').rename(columns={'medication':'treatment', 'recovery':'y'}).drop(columns='severity')\n",
    "\n",
    "# df = pd.read_csv('./data/smoker.csv').rename(columns={'outcome':'y'})\n",
    "df.head(2)"
   ]
  },
  {
   "cell_type": "code",
   "execution_count": 275,
   "metadata": {
    "hidden": true
   },
   "outputs": [
    {
     "name": "stdout",
     "output_type": "stream",
     "text": [
      "ATE_PSM = 7.33045\n"
     ]
    },
    {
     "data": {
      "image/png": "[encoded data removed]",
      "text/plain": [
       "<Figure size 432x288 with 1 Axes>"
      ]
     },
     "metadata": {
      "needs_background": "light"
     },
     "output_type": "display_data"
    }
   ],
   "source": [
    "# propensity score calc \n",
    "ps_model = LogisticRegression(C=1e6).fit(df.drop(columns=['y', 'treatment']), df.treatment)\n",
    "df['ps'] = ps_model.predict_proba(df.drop(columns=['y', 'treatment']))[:, 1] # вероятность принадлежности к классу T=1\n",
    "\n",
    "# overlap check\n",
    "plt.grid()\n",
    "plt.title('OVERLAP CHECK')\n",
    "sns.histplot(data=df, x='ps', hue='treatment')\n",
    "\n",
    "# теперь можно перейти y(T, X) = y(T, ps)\n",
    "# матчинг на основе kNN (ищем ближайшего по ps оппонента - сравниваем)\n",
    "treated = df[df.treatment == 1]\n",
    "untreated = df[df.treatment == 0]\n",
    "\n",
    "mt_tr = KNeighborsRegressor(n_neighbors=1).fit(treated[['ps']], treated.y)\n",
    "mt_untr = KNeighborsRegressor(n_neighbors=1).fit(untreated[['ps']], untreated.y)\n",
    "untreated['y_match'] = mt_tr.predict(untreated[['ps']])\n",
    "treated['y_match'] = mt_untr.predict(treated[['ps']])\n",
    "dfs = pd.concat([treated, untreated])\n",
    "\n",
    "# ATE = какой был бы эффект если б каждый элемент всей выборки сконвертился T=0 -> T=1\n",
    "print(f\"\"\"ATE_PSM = {np.mean((2*dfs[\"treatment\"] - 1)*(dfs['y'] - dfs[\"y_match\"]))}\"\"\")"
   ]
  },
  {
   "cell_type": "code",
   "execution_count": 281,
   "metadata": {
    "hidden": true
   },
   "outputs": [
    {
     "data": {
      "text/plain": [
       "0    13076\n",
       "1     6924\n",
       "Name: treatment, dtype: int64"
      ]
     },
     "execution_count": 281,
     "metadata": {},
     "output_type": "execute_result"
    }
   ],
   "source": [
    "dfs.treatment.value_counts()"
   ]
  },
  {
   "cell_type": "code",
   "execution_count": 276,
   "metadata": {
    "hidden": true
   },
   "outputs": [
    {
     "data": {
      "text/plain": [
       "16.895799546498726"
      ]
     },
     "execution_count": 276,
     "metadata": {},
     "output_type": "execute_result"
    }
   ],
   "source": [
    "df[df.treatment == 1].y.mean() - df[df.treatment == 0].y.mean()"
   ]
  },
  {
   "cell_type": "code",
   "execution_count": 277,
   "metadata": {
    "hidden": true
   },
   "outputs": [
    {
     "name": "stdout",
     "output_type": "stream",
     "text": [
      "\n",
      "Treatment Effect Estimates: Matching\n",
      "\n",
      "                     Est.       S.e.          z      P>|z|      [95% Conf. int.]\n",
      "--------------------------------------------------------------------------------\n",
      "           ATE      7.330      0.288     25.490      0.000      6.767      7.894\n",
      "           ATC      9.109      0.371     24.535      0.000      8.381      9.836\n",
      "           ATT      3.972      0.306     12.972      0.000      3.372      4.572\n",
      "\n"
     ]
    }
   ],
   "source": [
    "# Аналогичный kNN матчинг по ps через библиотеку\n",
    "from causalinference import CausalModel\n",
    "cm = CausalModel(\n",
    "    Y=df.y.values,\n",
    "    D=df[\"treatment\"].values, # T\n",
    "    X=df.ps.values\n",
    ")\n",
    "# cm.est_via_matching(matches=1, bias_adj=True)\n",
    "cm.est_via_matching(matches=1, bias_adj=False)\n",
    "\n",
    "print(cm.estimates)"
   ]
  },
  {
   "cell_type": "code",
   "execution_count": 284,
   "metadata": {
    "hidden": true
   },
   "outputs": [],
   "source": [
    "df = pd.read_csv('./data/medicine_impact_recovery.csv').rename(columns={'medication':'treatment', 'recovery':'y'}).drop(columns='severity')\n",
    "\n",
    "# используем функцию из help_tools\n",
    "df2m = ci.get_psm_df(df[df.treatment == 0], df[df.treatment == 1], \n",
    "                  features_excl=['y', 'treatment'], ps_model = LogisticRegression(C=1e6))\n",
    "\n",
    "df1m = ci.get_psm_df(df[df.treatment == 1], df[df.treatment == 0], \n",
    "                  features_excl=['y', 'treatment'], ps_model = LogisticRegression(C=1e6))\n",
    "\n",
    "# ATE = усредненный эффект по выборкам group2_matched - group1 + group1_matched-group2\n",
    "np.mean(np.append(df2m.y.values - df[df.treatment == 0].y.values, df[df.treatment == 1].y.values - df1m.y.values))"
   ]
  },
  {
   "cell_type": "code",
   "execution_count": null,
   "metadata": {
    "hidden": true
   },
   "outputs": [],
   "source": []
  },
  {
   "cell_type": "code",
   "execution_count": null,
   "metadata": {
    "hidden": true
   },
   "outputs": [],
   "source": []
  },
  {
   "cell_type": "markdown",
   "metadata": {
    "heading_collapsed": true
   },
   "source": [
    "#### IPTW"
   ]
  },
  {
   "cell_type": "markdown",
   "metadata": {
    "hidden": true
   },
   "source": [
    "IPTW = Inverse probability of treatment weighting  \n",
    "У нас есть две группы control и test, которые не сбалансированы, т.е распределение X в них разное.  \n",
    "Это значит что есть такие слои значений dX семлпы с которыми чаще представлены в control и наоборот.  \n",
    "Можно это рассмотреть так: клиенты со свойствами X~dX с меньшей вероятностью получают T=1.  \n",
    "Пример: половине пациентов даем лекарство, но из них есть молодые которые меньше его принимают итд.  \n",
    "  \n",
    "Оценим ps(X) - шанс получить T=1 когда у семпла вектор признаков X.  \n",
    "Два подхода к балансировке.  \n",
    "1. PSM. Для каждого семпла X и T=1 подбираем зеркальный семпл X2: ps(X2)~ps(X) у которого T=0,   \n",
    "если ps->0 или 1 значит у этого семпла нет пары, выкидываем семплы с экстремальными ps  \n",
    "2. IPTW. Вес каждого семпла с ps(X) при расчете вклада в метрику Y рассчитываем как w=1/ps|T=0 или 1/(1-ps)|T=0  \n",
    "То есть чем меньше был шанс оказаться в той группе, где оказался семпл - тем больше его вес.  \n",
    "Это позволяет выровнять случаи когда для какого то интервала dX почти все семлпы в тесте или контроле.  \n",
    "При этом мы не выбрасываем данные.  \n",
    "  \n",
    "ATE = avg(Y|X,T=1) - avg(Y|X,T=0) = avg(Y * T / ps) - avg(Y * (1 - T) / (1 - ps)) = avg(Y * (T - ps) / ps (1 - ps))  \n",
    "Напомним, что ATE = эффект от влияния T=1 если бы оно коснулось всех элементов выборки.  \n",
    "  \n",
    "Приложение:  \n",
    "Как и для PSM критично условие overplap>0. Если у семпла ps=0 и он не представлен в выборке T=0, то нельзя его отмасштабировать  \n",
    "  \n",
    "Приложение 2:  \n",
    "PSM работает неплохо на малых выборках, тогда как для IPTW необходимы большие выборки.  \n",
    "В противном случае, т.к мы учитываем вклад семплов с экстремальными ps ~ 0, будут искажения в результатах.  \n",
    "  \n",
    "Реализацию iptw в python см в разделе \"Сравнение моделей\""
   ]
  },
  {
   "cell_type": "code",
   "execution_count": null,
   "metadata": {
    "hidden": true
   },
   "outputs": [],
   "source": [
    "# df = pd.read_csv('./data/smoker.csv').rename(columns={'outcome':'y'})\n",
    "df = pd.read_csv('./data/groupon.csv')[['prom_length', 'price', 'discount_pct', 'coupon_duration', 'featured', 'treatment', 'revenue']].rename(columns={'revenue':'y'})\n",
    "# df = pd.read_csv('./data/medicine_impact_recovery.csv').rename(columns={'medication':'treatment', 'recovery':'y'})\n",
    "df.head(1)"
   ]
  },
  {
   "cell_type": "code",
   "execution_count": null,
   "metadata": {
    "hidden": true
   },
   "outputs": [],
   "source": [
    "# ps calc\n",
    "ps_model = LogisticRegression(C=1e6).fit(df.drop(columns=['y', 'treatment']), df.treatment)\n",
    "df['ps'] = ps_model.predict_proba(df.drop(columns=['y', 'treatment']))[:, 1] \n",
    "plt.grid()\n",
    "plt.title('OVERLAP CHECK')\n",
    "sns.histplot(data=df, x='ps', hue='treatment')\n",
    "# IPTW calc\n",
    "weight = ((df.treatment - df.ps) / (df.ps * (1 - df.ps)))\n",
    "# ATE calc\n",
    "print(f'ATE_IPTW = {np.mean(weight * df.y)}')"
   ]
  },
  {
   "cell_type": "markdown",
   "metadata": {
    "heading_collapsed": true
   },
   "source": [
    "#### Сравнение PSM, IPTW, DOUBLY ROBUST"
   ]
  },
  {
   "cell_type": "code",
   "execution_count": 305,
   "metadata": {
    "hidden": true
   },
   "outputs": [],
   "source": [
    "# Bootstrap позволяет оценить доверительные интервалы для ATE для нерегрессионных моделей.  \n",
    "# При этом довольно проблематично оценить качество построения ps, здесь еще много открытых вопросов\n",
    "\n",
    "# ДАННЫЕ\n",
    "# df = pd.read_csv('./data/smoker.csv').rename(columns={'outcome':'y'})\n",
    "# df = pd.read_csv('./data/groupon.csv')[['prom_length', 'price', 'discount_pct', \n",
    "#                                         'coupon_duration', 'featured', \n",
    "#                                         'treatment', 'revenue']].rename(columns={'revenue':'y'})\n",
    "df = pd.read_csv('./data/learning_mindset.csv').rename(columns={'intervention' : 'treatment',\n",
    "                                                                'achievement_score' : 'y'})\n",
    "X = df.drop(columns=['treatment', 'y']).columns.values\n",
    "Y = 'y'\n",
    "T = 'treatment'\n",
    "# todo - категориальные пременные"
   ]
  },
  {
   "cell_type": "code",
   "execution_count": null,
   "metadata": {
    "hidden": true
   },
   "outputs": [],
   "source": [
    "# линейная регрессия\n",
    "s = 'treatment'\n",
    "for j in range(0, len(df[X].columns)):\n",
    "    s = s + f' + {df[X].columns[j]}'\n",
    "model = smf.ols(f'y ~ {s}', data=df).fit() # OLS в R-нотации\n",
    "pd.DataFrame((model.summary().tables[1]))[:4]"
   ]
  },
  {
   "cell_type": "code",
   "execution_count": null,
   "metadata": {
    "hidden": true
   },
   "outputs": [],
   "source": [
    "# базовый матчинг\n",
    "def based_mathing(df, X, T='treatment', Y='y'):\n",
    "    cm = CausalModel(\n",
    "        Y=df[Y].values, \n",
    "        D=df[T].values,  #T\n",
    "        X=df[X].values\n",
    "    )\n",
    "    cm.est_via_matching(matches=1, bias_adj=True)\n",
    "    return cm.estimates['matching']['ate']\n",
    "\n",
    "def psm(df, X, T='treatment', Y='y'):\n",
    "    df['ps'] = LogisticRegression(C=1e6).fit(df[X], df[T]).predict_proba(df[X])[:, 1] \n",
    "    cm = CausalModel(\n",
    "            Y=df[Y].values, \n",
    "            D=df[T].values,  #T\n",
    "            X=df.ps.values\n",
    "        )\n",
    "    cm.est_via_matching(matches=1, bias_adj=True)\n",
    "    return cm.estimates['matching']['ate']\n",
    "\n",
    "def iptw(df, X, T='treatment', Y='y'):\n",
    "    df['ps'] = LogisticRegression(C=1e6).fit(df[X], df[T]).predict_proba(df[X])[:, 1] \n",
    "    # IPTW calc\n",
    "    weight = ((df.treatment - df.ps) / (df.ps * (1 - df.ps)))\n",
    "    return np.mean(weight * df.y)\n",
    "\n",
    "# Комбинация регрессионной и IPTW модели. Дает верный прогноз если верна хотя бы одна из моделей\n",
    "# часть формулы с неверной модели зануляется исходя из возникающего bias оценки (например когда OLS дает плохой предикт Y)\n",
    "def doubly_robust(df, X, T='treatment', Y='y'):\n",
    "    # PSM\n",
    "    ps = LogisticRegression(C=1e6, max_iter=1000).fit(df[X], df[T]).predict_proba(df[X])[:, 1]\n",
    "    \n",
    "    # OLS estimator\n",
    "    mu0 = LinearRegression().fit(df.query(f\"{T}==0\")[X], df.query(f\"{T}==0\")[Y]).predict(df[X])\n",
    "    mu1 = LinearRegression().fit(df.query(f\"{T}==1\")[X], df.query(f\"{T}==1\")[Y]).predict(df[X])\n",
    "    \n",
    "    # ATE по комбинации двух моделей\n",
    "    return (\n",
    "        np.mean(df[T]*(df[Y] - mu1)/ps + mu1) -\n",
    "        np.mean((1-df[T])*(df[Y] - mu0)/(1-ps) + mu0)\n",
    "    )"
   ]
  },
  {
   "cell_type": "code",
   "execution_count": null,
   "metadata": {
    "hidden": true
   },
   "outputs": [],
   "source": [
    "# psm - достаточно долгая процедура, лучше работает для небольших выборок\n",
    "np.random.seed(88)\n",
    "# ates = [psm(df.sample(frac=1, replace=True), X) for j in range(500)]\n",
    "np.percentile(ates, 2.5), np.percentile(ates, 97.5)"
   ]
  },
  {
   "cell_type": "code",
   "execution_count": null,
   "metadata": {
    "hidden": true
   },
   "outputs": [],
   "source": [
    "# микс IPTW + regression; работает быстро\n",
    "np.random.seed(88)\n",
    "ates = [doubly_robust(df.sample(frac=1, replace=True), X) for j in range(500)]\n",
    "np.percentile(ates, 2.5), np.percentile(ates, 97.5)"
   ]
  },
  {
   "cell_type": "code",
   "execution_count": null,
   "metadata": {
    "hidden": true
   },
   "outputs": [],
   "source": [
    "# IPTW работает относительно быстро\n",
    "np.random.seed(88)\n",
    "ates = [iptw(df.sample(frac=1, replace=True), X) for j in range(500)]\n",
    "np.percentile(ates, 2.5), np.percentile(ates, 97.5)"
   ]
  },
  {
   "cell_type": "code",
   "execution_count": 307,
   "metadata": {
    "hidden": true
   },
   "outputs": [
    {
     "data": {
      "text/html": [
       "<div>\n",
       "<style scoped>\n",
       "    .dataframe tbody tr th:only-of-type {\n",
       "        vertical-align: middle;\n",
       "    }\n",
       "\n",
       "    .dataframe tbody tr th {\n",
       "        vertical-align: top;\n",
       "    }\n",
       "\n",
       "    .dataframe thead th {\n",
       "        text-align: right;\n",
       "    }\n",
       "</style>\n",
       "<table border=\"1\" class=\"dataframe\">\n",
       "  <thead>\n",
       "    <tr style=\"text-align: right;\">\n",
       "      <th></th>\n",
       "      <th>feature</th>\n",
       "      <th>avg1</th>\n",
       "      <th>avg2</th>\n",
       "      <th>cohen_d_percent</th>\n",
       "    </tr>\n",
       "  </thead>\n",
       "  <tbody>\n",
       "    <tr>\n",
       "      <th>0</th>\n",
       "      <td>schoolid</td>\n",
       "      <td>39.9586</td>\n",
       "      <td>39.7444</td>\n",
       "      <td>0.89</td>\n",
       "    </tr>\n",
       "    <tr>\n",
       "      <th>1</th>\n",
       "      <td>success_expect</td>\n",
       "      <td>5.2223</td>\n",
       "      <td>5.3629</td>\n",
       "      <td>-12.56</td>\n",
       "    </tr>\n",
       "    <tr>\n",
       "      <th>2</th>\n",
       "      <td>ethnicity</td>\n",
       "      <td>5.241</td>\n",
       "      <td>5.1859</td>\n",
       "      <td>1.39</td>\n",
       "    </tr>\n",
       "    <tr>\n",
       "      <th>3</th>\n",
       "      <td>gender</td>\n",
       "      <td>1.4988</td>\n",
       "      <td>1.4716</td>\n",
       "      <td>5.43</td>\n",
       "    </tr>\n",
       "    <tr>\n",
       "      <th>4</th>\n",
       "      <td>frst_in_family</td>\n",
       "      <td>0.6461</td>\n",
       "      <td>0.5996</td>\n",
       "      <td>9.64</td>\n",
       "    </tr>\n",
       "    <tr>\n",
       "      <th>5</th>\n",
       "      <td>school_urbanicity</td>\n",
       "      <td>2.4423</td>\n",
       "      <td>2.4592</td>\n",
       "      <td>-1.23</td>\n",
       "    </tr>\n",
       "    <tr>\n",
       "      <th>6</th>\n",
       "      <td>school_mindset</td>\n",
       "      <td>-0.0094</td>\n",
       "      <td>-0.1048</td>\n",
       "      <td>9.85</td>\n",
       "    </tr>\n",
       "    <tr>\n",
       "      <th>7</th>\n",
       "      <td>school_achievement</td>\n",
       "      <td>0.0367</td>\n",
       "      <td>0.0924</td>\n",
       "      <td>-5.96</td>\n",
       "    </tr>\n",
       "    <tr>\n",
       "      <th>8</th>\n",
       "      <td>school_ethnic_minority</td>\n",
       "      <td>-0.0878</td>\n",
       "      <td>-0.0925</td>\n",
       "      <td>0.48</td>\n",
       "    </tr>\n",
       "    <tr>\n",
       "      <th>9</th>\n",
       "      <td>school_poverty</td>\n",
       "      <td>-0.0381</td>\n",
       "      <td>-0.0622</td>\n",
       "      <td>2.49</td>\n",
       "    </tr>\n",
       "    <tr>\n",
       "      <th>10</th>\n",
       "      <td>school_size</td>\n",
       "      <td>-0.0502</td>\n",
       "      <td>0.0236</td>\n",
       "      <td>-7.31</td>\n",
       "    </tr>\n",
       "    <tr>\n",
       "      <th>11</th>\n",
       "      <td>total</td>\n",
       "      <td></td>\n",
       "      <td></td>\n",
       "      <td>21.8361</td>\n",
       "    </tr>\n",
       "  </tbody>\n",
       "</table>\n",
       "</div>"
      ],
      "text/plain": [
       "                   feature     avg1     avg2 cohen_d_percent\n",
       "0                 schoolid  39.9586  39.7444            0.89\n",
       "1           success_expect   5.2223   5.3629          -12.56\n",
       "2                ethnicity    5.241   5.1859            1.39\n",
       "3                   gender   1.4988   1.4716            5.43\n",
       "4           frst_in_family   0.6461   0.5996            9.64\n",
       "5        school_urbanicity   2.4423   2.4592           -1.23\n",
       "6           school_mindset  -0.0094  -0.1048            9.85\n",
       "7       school_achievement   0.0367   0.0924           -5.96\n",
       "8   school_ethnic_minority  -0.0878  -0.0925            0.48\n",
       "9           school_poverty  -0.0381  -0.0622            2.49\n",
       "10             school_size  -0.0502   0.0236           -7.31\n",
       "11                   total                           21.8361"
      ]
     },
     "execution_count": 307,
     "metadata": {},
     "output_type": "execute_result"
    }
   ],
   "source": [
    "# изначальное \"расстояние\" между фичами датасетов\n",
    "df1 = df[df.treatment == 0]; df2 = df[df.treatment == 1]\n",
    "ci.check_cohen_stat(df1, df2, features_excl=['y', 'treatment'])[0]"
   ]
  },
  {
   "cell_type": "code",
   "execution_count": 308,
   "metadata": {
    "hidden": true
   },
   "outputs": [
    {
     "data": {
      "text/html": [
       "<div>\n",
       "<style scoped>\n",
       "    .dataframe tbody tr th:only-of-type {\n",
       "        vertical-align: middle;\n",
       "    }\n",
       "\n",
       "    .dataframe tbody tr th {\n",
       "        vertical-align: top;\n",
       "    }\n",
       "\n",
       "    .dataframe thead th {\n",
       "        text-align: right;\n",
       "    }\n",
       "</style>\n",
       "<table border=\"1\" class=\"dataframe\">\n",
       "  <thead>\n",
       "    <tr style=\"text-align: right;\">\n",
       "      <th></th>\n",
       "      <th>feature</th>\n",
       "      <th>avg1</th>\n",
       "      <th>avg2</th>\n",
       "      <th>cohen_d_percent</th>\n",
       "    </tr>\n",
       "  </thead>\n",
       "  <tbody>\n",
       "    <tr>\n",
       "      <th>0</th>\n",
       "      <td>schoolid</td>\n",
       "      <td>39.9586</td>\n",
       "      <td>40.251</td>\n",
       "      <td>-1.22</td>\n",
       "    </tr>\n",
       "    <tr>\n",
       "      <th>1</th>\n",
       "      <td>success_expect</td>\n",
       "      <td>5.2223</td>\n",
       "      <td>5.2405</td>\n",
       "      <td>-1.61</td>\n",
       "    </tr>\n",
       "    <tr>\n",
       "      <th>2</th>\n",
       "      <td>ethnicity</td>\n",
       "      <td>5.241</td>\n",
       "      <td>4.8647</td>\n",
       "      <td>9.74</td>\n",
       "    </tr>\n",
       "    <tr>\n",
       "      <th>3</th>\n",
       "      <td>gender</td>\n",
       "      <td>1.4988</td>\n",
       "      <td>1.5145</td>\n",
       "      <td>-3.14</td>\n",
       "    </tr>\n",
       "    <tr>\n",
       "      <th>4</th>\n",
       "      <td>frst_in_family</td>\n",
       "      <td>0.6461</td>\n",
       "      <td>0.6566</td>\n",
       "      <td>-2.22</td>\n",
       "    </tr>\n",
       "    <tr>\n",
       "      <th>5</th>\n",
       "      <td>school_urbanicity</td>\n",
       "      <td>2.4423</td>\n",
       "      <td>2.4404</td>\n",
       "      <td>0.13</td>\n",
       "    </tr>\n",
       "    <tr>\n",
       "      <th>6</th>\n",
       "      <td>school_mindset</td>\n",
       "      <td>-0.0094</td>\n",
       "      <td>-0.0078</td>\n",
       "      <td>-0.16</td>\n",
       "    </tr>\n",
       "    <tr>\n",
       "      <th>7</th>\n",
       "      <td>school_achievement</td>\n",
       "      <td>0.0367</td>\n",
       "      <td>0.0477</td>\n",
       "      <td>-1.18</td>\n",
       "    </tr>\n",
       "    <tr>\n",
       "      <th>8</th>\n",
       "      <td>school_ethnic_minority</td>\n",
       "      <td>-0.0878</td>\n",
       "      <td>-0.0801</td>\n",
       "      <td>-0.8</td>\n",
       "    </tr>\n",
       "    <tr>\n",
       "      <th>9</th>\n",
       "      <td>school_poverty</td>\n",
       "      <td>-0.0381</td>\n",
       "      <td>-0.0459</td>\n",
       "      <td>0.8</td>\n",
       "    </tr>\n",
       "    <tr>\n",
       "      <th>10</th>\n",
       "      <td>school_size</td>\n",
       "      <td>-0.0502</td>\n",
       "      <td>-0.0289</td>\n",
       "      <td>-2.11</td>\n",
       "    </tr>\n",
       "    <tr>\n",
       "      <th>11</th>\n",
       "      <td>total</td>\n",
       "      <td></td>\n",
       "      <td></td>\n",
       "      <td>10.9956</td>\n",
       "    </tr>\n",
       "  </tbody>\n",
       "</table>\n",
       "</div>"
      ],
      "text/plain": [
       "                   feature     avg1    avg2 cohen_d_percent\n",
       "0                 schoolid  39.9586  40.251           -1.22\n",
       "1           success_expect   5.2223  5.2405           -1.61\n",
       "2                ethnicity    5.241  4.8647            9.74\n",
       "3                   gender   1.4988  1.5145           -3.14\n",
       "4           frst_in_family   0.6461  0.6566           -2.22\n",
       "5        school_urbanicity   2.4423  2.4404            0.13\n",
       "6           school_mindset  -0.0094 -0.0078           -0.16\n",
       "7       school_achievement   0.0367  0.0477           -1.18\n",
       "8   school_ethnic_minority  -0.0878 -0.0801            -0.8\n",
       "9           school_poverty  -0.0381 -0.0459             0.8\n",
       "10             school_size  -0.0502 -0.0289           -2.11\n",
       "11                   total                          10.9956"
      ]
     },
     "execution_count": 308,
     "metadata": {},
     "output_type": "execute_result"
    },
    {
     "data": {
      "image/png": "[encoded data removed]",
      "text/plain": [
       "<Figure size 432x288 with 1 Axes>"
      ]
     },
     "metadata": {
      "needs_background": "light"
     },
     "output_type": "display_data"
    }
   ],
   "source": [
    "df2m = get_psm_df(df1, df2, features_excl=['rand', 'y', 'treatment'], plot_overlap=True)\n",
    "# проверяем насколько хорошо сбалансировались датасеты\n",
    "# cohen_d < 20% хороший результат; более того каждая отдельная фича сбалансирована по cohen<10%\n",
    "ci.check_cohen_stat(df1, df2m, features_excl=['y', 'treatment'])[0]"
   ]
  },
  {
   "cell_type": "code",
   "execution_count": null,
   "metadata": {
    "hidden": true
   },
   "outputs": [],
   "source": []
  },
  {
   "cell_type": "markdown",
   "metadata": {
    "heading_collapsed": true
   },
   "source": [
    "#### DID (Diff-in-Diff)"
   ]
  },
  {
   "cell_type": "markdown",
   "metadata": {
    "hidden": true
   },
   "source": [
    "https://www.kaggle.com/code/harrywang/difference-in-differences-in-python/notebook  \n",
    "https://stats.stackexchange.com/questions/160359/difference-in-difference-method-how-to-test-for-assumption-of-common-trend-betw  \n",
    "Метод, который используется для оценки влияния изменения на метрику в парадигме до/после.  \n",
    "Мы ищем параллельный данной метрике тренд (мб из соседнего сегмента) на предыстории -  \n",
    "и затем в предположении что на параллельный тренд изменение не распространяется, используем  \n",
    "его в качестве сравнительного контроля (а точнее разницу между трендами до/после)\n",
    "\n",
    "diff_in_diff = did = (y_exp_avg_after - y_exp_avg_before) - (y_control_avg_after - y_control_avg_before)  \n",
    "\n",
    "<u> linear regression: </u>  \n",
    "y = b0 + b1 * exp_group + b2 * dt + b3 * exg_group * dt  \n",
    "(или y ~ exp_group + dt + exp_group * dt)  \n",
    "exp_group = 1 if exp else 0  \n",
    "dt = 1 if after else 0\n",
    "\n",
    "y_control_avg_before = b0 ; y_control_avg_after = b0 + b2  \n",
    "y_exp_avg_before = b0 + b1 ; y_exp_avg_after = b0 + b1 + b2 + b3  \n",
    "did = (y_exp_after - y_exp_before) - (y_control_after - y_control_before) = b3  \n",
    "  \n",
    "В парадигме ATE: exp_group * dt = Treatment; Т.е Treatment = 1 -> exp_after; Treatment = 0 -> con_before.  \n",
    "  \n",
    "Приложение:  \n",
    "Оценку дов. интервалов для did можно провести через бутстрап либо F-критерий коэф. b3 в рамках линейной регрессии.  \n",
    "did = отклонение от параллельности тренда; если тренды остались параллельны (T не подействовал) -> p_val(b3>0) > 0.05  \n",
    "  \n",
    "Условия применимости:  \n",
    "Работает только когда, тренды метрик групп con, exp были параллельны ДО целевого воздействия  \n",
    "Это можно проверить, если брать интервалы time = x;y до time_T и убеждаясь, что b3 ~ 0\n",
    "\n",
    "\n",
    "<img src=\"images/diff_n_diff.png\" width=\"400\" align=\"left\">  "
   ]
  },
  {
   "cell_type": "code",
   "execution_count": 3,
   "metadata": {
    "hidden": true
   },
   "outputs": [
    {
     "data": {
      "image/png": "[encoded data removed]",
      "text/plain": [
       "<Figure size 432x288 with 1 Axes>"
      ]
     },
     "metadata": {
      "needs_background": "light"
     },
     "output_type": "display_data"
    }
   ],
   "source": [
    "# генерим тестовый датасет формата df = exp_group(0,1); val(metric); dt(after,before->1,0)\n",
    "df1 = pd.DataFrame({'dt' : np.repeat(list(range(6)), 6*[10])})\n",
    "df1['val'] = df1['dt'].apply(lambda x: x + np.random.uniform(-0.3, 0.3))\n",
    "df1['exp_group'] = 0\n",
    "\n",
    "df2 = df1.copy()\n",
    "df2['val'] = df2['dt'].apply(lambda x: x + 2 + np.random.uniform(-0.3, 0.3))\n",
    "df2.loc[df2.dt == 5, 'val'] = df2['val'] + 1\n",
    "df2['exp_group'] = 1\n",
    "\n",
    "df = pd.concat([df1, df2], ignore_index=True)\n",
    "tm1 = df1.groupby('dt').val.mean().reset_index()\n",
    "tm2 = df2.groupby('dt').val.mean().reset_index()\n",
    "\n",
    "# как ведут себя средние выборки для двух групп con,exp с течением времени\n",
    "plt.plot(tm1.dt, tm1.val); plt.plot(tm2.dt, tm2.val); plt.grid()"
   ]
  },
  {
   "cell_type": "code",
   "execution_count": 21,
   "metadata": {
    "hidden": true
   },
   "outputs": [
    {
     "name": "stdout",
     "output_type": "stream",
     "text": [
      "расчет DID на интервалах dt=0 , dt=1 - нет значимого относительного изменения тренда\n",
      "{'did': -0.0828103334103748, 'did_confint': (-0.3035965623237821, 0.13797589550303252), 'pval_did>0': 0.45180343778779164}\n",
      " \n",
      "расчет DID на интервалах dt=3 , dt=5 - видим относительный рост\n",
      "{'did': 0.8193870817156168, 'did_confint': (0.5793716387471851, 1.0594025246840486), 'pval_did>0': 4.13454900314786e-08}\n"
     ]
    }
   ],
   "source": [
    "dt_0, dt_1 = 0, 1\n",
    "print(f'расчет DID на интервалах dt={dt_0} , dt={dt_1} - нет значимого относительного изменения тренда')\n",
    "print(ci.calc_did(df[(df.exp_group==0) & (df.dt==dt_0)].val.values, df[(df.exp_group==0) & (df.dt==dt_1)].val.values,\n",
    "        df[(df.exp_group==1) & (df.dt==dt_0)].val.values, df[(df.exp_group==1) & (df.dt==dt_1)].val.values))\n",
    "print(' ')\n",
    "dt_0, dt_1 = 3, 5\n",
    "print(f'расчет DID на интервалах dt={dt_0} , dt={dt_1} - видим относительный рост')\n",
    "print(ci.calc_did(df[(df.exp_group==0) & (df.dt==dt_0)].val.values, df[(df.exp_group==0) & (df.dt==dt_1)].val.values,\n",
    "        df[(df.exp_group==1) & (df.dt==dt_0)].val.values, df[(df.exp_group==1) & (df.dt==dt_1)].val.values))"
   ]
  },
  {
   "cell_type": "code",
   "execution_count": null,
   "metadata": {
    "hidden": true
   },
   "outputs": [],
   "source": [
    "# выбираем сравниваемые два интервала\n",
    "def get_slice(df, dt1, dt2):\n",
    "    tmp = df[df.dt.isin([dt1, dt2])]\n",
    "    tmp.loc[tmp.dt == dt1, 'dt'] = 0; tmp.loc[tmp.dt == dt2, 'dt'] = 1\n",
    "    return tmp\n",
    "\n",
    "# расчет Dif-in-Dif аналитически\n",
    "def did_calc(df):\n",
    "    return (df.loc[(df.dt == 1) & (df.exp_group == 1)].val.mean() - df.loc[(df.dt == 0) & (df.exp_group == 1)].val.mean()) - \\\n",
    "            (df.loc[(df.dt == 1) & (df.exp_group == 0)].val.mean() - df.loc[(df.dt == 0) & (df.exp_group == 0)].val.mean())\n",
    "\n",
    "# оценка эффекта через лин регрессию\n",
    "def model_calc(df, dt_int=(0,1)):\n",
    "    model = smf.ols('val ~ exp_group + dt + exp_group * dt', data=df).fit()\n",
    "    return dt_int, model.params.loc['exp_group:dt'], model.pvalues.loc['exp_group:dt'], (model.conf_int().loc['exp_group:dt'][0], model.conf_int().loc['exp_group:dt'][1])\n",
    "\n",
    "tmp = get_slice(df, 0 ,1)\n",
    "print('did = ', did_calc(tmp))\n",
    "print('b3_ols = ', model_calc(tmp)[1], '; p_val(b3>0) = ', model_calc(tmp)[2])"
   ]
  },
  {
   "cell_type": "code",
   "execution_count": null,
   "metadata": {
    "hidden": true
   },
   "outputs": [],
   "source": [
    "df_stat = pd.DataFrame(None, columns=['dt_1_2', 'coef', 'pval', 'confint']); j=0\n",
    "for dt_int in ([0,1], [1,2], [2,3], [3,4], [4,5]):\n",
    "    tmp = get_slice(df, dt_int[0], dt_int[1])\n",
    "    res = model_calc(tmp, dt_int)\n",
    "    df_stat.loc[j,:] = res; j+=1\n",
    "print('Видим что до момента 4-5 тренды были параллельными; далее произошло отклонение от тренда (см график выше)')\n",
    "df_stat"
   ]
  },
  {
   "cell_type": "code",
   "execution_count": null,
   "metadata": {
    "hidden": true
   },
   "outputs": [],
   "source": [
    "# покажем что бутстрап did дает тоже самое что регрессия (больше данных - ближе точность)\n",
    "tmp = get_slice(df, 4, 5) # берем пример сравниваемых интервалов\n",
    "print('OLS conf = ', np.round(model_calc(tmp)[3], 4))\n",
    "\n",
    "did_list = []\n",
    "for j in range(700):\n",
    "    tmp_boot = tmp.sample(frac=1, replace=True) # генерим датасет с аналогичным распределением\n",
    "    did_list.append(did_calc(tmp_boot))\n",
    "print('BOOT conf = ', np.round(np.percentile(did_list, 2.5), 4), np.round(np.percentile(did_list, 97.5), 4))"
   ]
  },
  {
   "cell_type": "markdown",
   "metadata": {
    "heading_collapsed": true
   },
   "source": [
    "#### SYNTHETIC CONTROL"
   ]
  },
  {
   "cell_type": "markdown",
   "metadata": {
    "hidden": true
   },
   "source": [
    "https://matheusfacure.github.io/python-causality-handbook/15-Synthetic-Control.html - основная глава в книге  \n",
    "https://medium.com/towards-data-science/causal-inference-with-synthetic-control-in-python-4a79ee636325 - доп статья"
   ]
  },
  {
   "cell_type": "code",
   "execution_count": 1,
   "metadata": {
    "hidden": true
   },
   "outputs": [
    {
     "ename": "NameError",
     "evalue": "name 'pd' is not defined",
     "output_type": "error",
     "traceback": [
      "\u001b[0;31m---------------------------------------------------------------------------\u001b[0m",
      "\u001b[0;31mNameError\u001b[0m                                 Traceback (most recent call last)",
      "\u001b[0;32m<ipython-input-1-9b57b2b1d2ad>\u001b[0m in \u001b[0;36m<module>\u001b[0;34m\u001b[0m\n\u001b[1;32m      1\u001b[0m \u001b[0;31m# с 1980х в Калифорнии резко увеличили цену (retail price) за пачку сигарет - стремясь минимизировать курение\u001b[0m\u001b[0;34m\u001b[0m\u001b[0;34m\u001b[0m\u001b[0;34m\u001b[0m\u001b[0m\n\u001b[0;32m----> 2\u001b[0;31m \u001b[0mcigar\u001b[0m \u001b[0;34m=\u001b[0m \u001b[0mpd\u001b[0m\u001b[0;34m.\u001b[0m\u001b[0mread_csv\u001b[0m\u001b[0;34m(\u001b[0m\u001b[0;34m'./data/synth_control_smoking.csv'\u001b[0m\u001b[0;34m)\u001b[0m\u001b[0;34m\u001b[0m\u001b[0;34m\u001b[0m\u001b[0m\n\u001b[0m\u001b[1;32m      3\u001b[0m \u001b[0mcigar\u001b[0m\u001b[0;34m[\u001b[0m\u001b[0mcigar\u001b[0m\u001b[0;34m.\u001b[0m\u001b[0mstate\u001b[0m \u001b[0;34m==\u001b[0m \u001b[0;34m'California'\u001b[0m\u001b[0;34m]\u001b[0m\u001b[0;34m[\u001b[0m\u001b[0;34m[\u001b[0m\u001b[0;34m'year'\u001b[0m\u001b[0;34m,\u001b[0m \u001b[0;34m'retprice'\u001b[0m\u001b[0;34m]\u001b[0m\u001b[0;34m]\u001b[0m\u001b[0;34m.\u001b[0m\u001b[0mplot\u001b[0m\u001b[0;34m(\u001b[0m\u001b[0mx\u001b[0m\u001b[0;34m=\u001b[0m\u001b[0;34m'year'\u001b[0m\u001b[0;34m,\u001b[0m \u001b[0my\u001b[0m\u001b[0;34m=\u001b[0m\u001b[0;34m'retprice'\u001b[0m\u001b[0;34m)\u001b[0m\u001b[0;34m\u001b[0m\u001b[0;34m\u001b[0m\u001b[0m\n\u001b[1;32m      4\u001b[0m \u001b[0mcigar\u001b[0m\u001b[0;34m[\u001b[0m\u001b[0;34m'after_treatment'\u001b[0m\u001b[0;34m]\u001b[0m \u001b[0;34m=\u001b[0m \u001b[0mcigar\u001b[0m\u001b[0;34m.\u001b[0m\u001b[0myear\u001b[0m \u001b[0;34m<\u001b[0m \u001b[0;36m1988\u001b[0m\u001b[0;34m\u001b[0m\u001b[0;34m\u001b[0m\u001b[0m\n\u001b[1;32m      5\u001b[0m \u001b[0mcigar\u001b[0m\u001b[0;34m.\u001b[0m\u001b[0mdrop\u001b[0m\u001b[0;34m(\u001b[0m\u001b[0mcolumns\u001b[0m\u001b[0;34m=\u001b[0m\u001b[0;34m[\u001b[0m\u001b[0;34m'beer'\u001b[0m\u001b[0;34m,\u001b[0m \u001b[0;34m'lnincome'\u001b[0m\u001b[0;34m,\u001b[0m \u001b[0;34m'age15to24'\u001b[0m\u001b[0;34m]\u001b[0m\u001b[0;34m,\u001b[0m \u001b[0minplace\u001b[0m\u001b[0;34m=\u001b[0m\u001b[0;32mTrue\u001b[0m\u001b[0;34m)\u001b[0m\u001b[0;34m\u001b[0m\u001b[0;34m\u001b[0m\u001b[0m\n",
      "\u001b[0;31mNameError\u001b[0m: name 'pd' is not defined"
     ]
    }
   ],
   "source": [
    "# с 1980х в Калифорнии резко увеличили цену (retail price) за пачку сигарет - стремясь минимизировать курение\n",
    "cigar = pd.read_csv('./data/synth_control_smoking.csv')\n",
    "cigar[cigar.state == 'California'][['year', 'retprice']].plot(x='year', y='retprice')\n",
    "cigar['after_treatment'] = cigar.year < 1988\n",
    "cigar.drop(columns=['beer', 'lnincome', 'age15to24'], inplace=True)\n",
    "# cigar[cigar.state == 'California'][['year', 'cigsale']].plot(x='year', y='cigsale')\n",
    "plt.grid()"
   ]
  },
  {
   "cell_type": "code",
   "execution_count": 3,
   "metadata": {
    "hidden": true
   },
   "outputs": [
    {
     "data": {
      "text/plain": [
       "<matplotlib.legend.Legend at 0x12e2b5358>"
      ]
     },
     "execution_count": 3,
     "metadata": {},
     "output_type": "execute_result"
    },
    {
     "data": {
      "image/png": "[encoded data removed]",
      "text/plain": [
       "<Figure size 432x288 with 1 Axes>"
      ]
     },
     "metadata": {
      "needs_background": "light"
     },
     "output_type": "display_data"
    }
   ],
   "source": [
    "plt.plot(cigar[cigar.state == 'California'].year, cigar[cigar.state == 'California'].cigsale)\n",
    "tmp = cigar[cigar.state != 'California'].groupby('year').cigsale.mean().reset_index()\n",
    "cigar['state'] = cigar.state.tolist()\n",
    "plt.plot(tmp.year, tmp.cigsale)\n",
    "plt.grid()\n",
    "\n",
    "plt.vlines(x=1988, ymin=40, ymax=140, linestyle=\":\", lw=2, label=\"Proposition 99\")\n",
    "plt.title('Динамика продаж на человека до/после закона запрета в Калифорнии')\n",
    "plt.legend(['california', 'not california_avg'])"
   ]
  },
  {
   "cell_type": "markdown",
   "metadata": {
    "hidden": true
   },
   "source": [
    "По графику мы видим примерно, что в наблюдается ускорение расхождения в потреблении  \n",
    "в Калифорнии и других штатах после принятия закона, однако нельзя оценить точно.  \n",
    "Synthetic control - метод построения искуственного контроля (в данном случае штата),   \n",
    "который ведет себя очень похоже на Калифорнию до изменений - и с большой вероятностью  \n",
    "моделирует поведение после изменений как если бы их не было.\n",
    "\n",
    "---\n",
    "Ключевая идея - мы считаем, что метрику по целевому штату (Калифорния) можно разложить в базис  \n",
    "вспомогательных штатов (units) на разных временных отрезках. Т.е до внесения изменения,  \n",
    "можно сделать искуственный штат = комбинация вспомогательных, который будет очень близок Калифорнии.  \n",
    "\n",
    "Матрица X - по колонкам моменты времени dt, по строкам - штаты (юниты разложения).  \n",
    "Вектор Y - целевая метрика = продажи в Калифорнии во времени. \n",
    "Подбираем веса в тренировке X * w = Y.  \n",
    "Добиваемся чтобы до интервенции предикт был хороший - используем экстраполяцию на период после.  \n",
    "\n",
    "PS. Для двух переменных регрессия по векторам x1; x2 ищет коэф. чтобы y = k1 * x1 + k2 * x2  \n",
    "Каждый вектор x1 = (a1 a2 a3 ... an) - можно рассматривать как набор координат во времени.  \n",
    "Тогда для каждого \"момента времени\" y_t = k1 * x1_t + k2 * x2_t и.т.д  \n",
    "Найдем k1; k2 - можем экстраполировать y_t_next по имеющимся x1_t_next; x2_t_next в будущем.  \n",
    "Мы через регрессию ищем k1; k2; ... kn для n юнитов разложения (т. е n штатов)  \n",
    "\n",
    "Важно также помнить о том что при большом кол-ве юнитов (aka предикторов)  \n",
    "линейная регрессия легко переобучается -> нужна регуляризация."
   ]
  },
  {
   "cell_type": "code",
   "execution_count": 13,
   "metadata": {
    "hidden": true
   },
   "outputs": [
    {
     "data": {
      "text/plain": [
       "<matplotlib.legend.Legend at 0x1127a9828>"
      ]
     },
     "execution_count": 13,
     "metadata": {},
     "output_type": "execute_result"
    },
    {
     "data": {
      "image/png": "[encoded data removed]",
      "text/plain": [
       "<Figure size 432x288 with 1 Axes>"
      ]
     },
     "metadata": {
      "needs_background": "light"
     },
     "output_type": "display_data"
    }
   ],
   "source": [
    "dfs = pd.pivot_table(cigar, \n",
    "                    index='year', \n",
    "                    columns='state', \n",
    "                    values=['cigsale'], \n",
    "                    aggfunc=np.mean)['cigsale'].reset_index()\n",
    "\n",
    "df = dfs[dfs.year <= 1985].copy() # train\n",
    "# df = dfs[dfs.year <= 1988].copy() # train\n",
    "\n",
    "y = df['California'].values\n",
    "X = df.drop(columns='California').values\n",
    "\n",
    "# обучаем регрессию - получаем коэффициенты k1;k2... для каждого штата\n",
    "# model_ = LinearRegression(fit_intercept=False).fit(X, y) # без регуляризации - переобучение\n",
    "model_ =  Lasso(fit_intercept=False, alpha=1.0).fit(X, y) # регуляризация по дефолту\n",
    "\n",
    "# экстраполируем данные на весь период времени\n",
    "synth = model_.predict(dfs.drop(columns=['California']).values)\n",
    "real = dfs.California.values\n",
    "plt.plot(dfs.year.values, real)\n",
    "plt.plot(dfs.year.values, synth)\n",
    "plt.grid()\n",
    "plt.vlines(x=1988, ymin=40, ymax=140, linestyle=\":\", lw=2, label=\"Proposition 99\")\n",
    "plt.title('Построение синтетического контроля \\n через линейную регрессию с регуляризацией')\n",
    "plt.legend(['Калифорния real', 'Калифорния synth'])"
   ]
  },
  {
   "cell_type": "markdown",
   "metadata": {
    "hidden": true
   },
   "source": [
    "Проблема регрессии - она экстраполирует, не учитывая \"схожесть\" регионов друг с другом.  \n",
    "Например, один из весов модели может быть -100 и уносить показатели одного из штатов в несущ. область.  \n",
    "Чтобы это избежать - можно находить оптимальные веса оптимизацией (метод взвешенных средних),  \n",
    "накладывая смысловые ограничения вроде - **сумма всех весов равна 1, веса положительные**.  \n",
    "Это будет лучше учитывать общую специфику и <u>изначальную схожесть</u> данных в используемом базисе.  \n",
    "Теперь физический смысл весов - нечто схожее с вероятностью."
   ]
  },
  {
   "cell_type": "code",
   "execution_count": 14,
   "metadata": {
    "hidden": true
   },
   "outputs": [
    {
     "data": {
      "text/plain": [
       "<matplotlib.legend.Legend at 0x12e8c5ac8>"
      ]
     },
     "execution_count": 14,
     "metadata": {},
     "output_type": "execute_result"
    },
    {
     "data": {
      "image/png": "[encoded data removed]",
      "text/plain": [
       "<Figure size 432x288 with 1 Axes>"
      ]
     },
     "metadata": {
      "needs_background": "light"
     },
     "output_type": "display_data"
    }
   ],
   "source": [
    "# Реализация метода взвешенных средних через scipy оптимизацию\n",
    "from typing import List\n",
    "from operator import add\n",
    "from toolz import reduce, partial\n",
    "from scipy.optimize import fmin_slsqp\n",
    "def loss_w(W, X, y) -> float:\n",
    "    return np.sqrt(np.mean((y - X.dot(W))**2))\n",
    "def get_w(X, y):\n",
    "    w_start = [1/X.shape[1]]*X.shape[1]\n",
    "    weights = fmin_slsqp(partial(loss_w, X=X, y=y),\n",
    "                         np.array(w_start),\n",
    "                         f_eqcons=lambda x: np.sum(x) - 1,\n",
    "                         bounds=[(0.0, 1.0)]*len(w_start),\n",
    "                         disp=False)\n",
    "    return weights\n",
    "calif_weights = get_w(X, y)\n",
    "# строим\n",
    "synth = dfs.drop(columns=['California']).values.dot(calif_weights)\n",
    "real = dfs.California.values\n",
    "plt.plot(dfs.year.values, real)\n",
    "plt.plot(dfs.year.values, synth)\n",
    "plt.grid()\n",
    "plt.vlines(x=1988, ymin=40, ymax=140, linestyle=\":\", lw=2, label=\"Proposition 99\")\n",
    "plt.title('Построение синтетического контроля \\n через метод взвешенных средних')\n",
    "plt.legend(['Калифорния real', 'Калифорния synth'])"
   ]
  },
  {
   "cell_type": "markdown",
   "metadata": {
    "heading_collapsed": true
   },
   "source": [
    "#### REGRESSION DISCONTINUITY DESIGN (RDD)"
   ]
  },
  {
   "cell_type": "markdown",
   "metadata": {
    "hidden": true
   },
   "source": [
    "RDD - метод оценки эффекта от влияния в режиме до/после по изменению поведения метрики Y на границе влияния.  \n",
    "Исследуем зависимость Y(X); при этом считаем что начиная с X>X_thr возникает оцениваемое влияние.  \n",
    "Пример: зависимость смертности Y от возраста X до/после возраста легализации алкоголя X_thr  \n",
    "Если на границе X_thr происходит незапланированный скачок -> мера скачка = влияние переменной Z (алкоголь).  \n",
    "Приближение: считаем, что без наличия влияние нет резкого разрыва -> Y(X) зависит в окрестности X_thr гладко.  \n",
    "  \n",
    "Тогда сместим нашу переменную X_ = X - X_thr в точку 0 для удобства.  \n",
    "Если бы влияния не было -> Y(X_ - alpha) ~ Y(X_ + alpha); alpha -> 0  \n",
    "D = 1, когда X_>0; 0 когда X_<0 (пороговая функция)\n",
    "Тогда Y ~ X_ + D + D * X_ (линейная регрессия для близких к порогу значений X_).  \n",
    "ATE = Y_after - Y_before = (a1 * X_ + a2 * D + a3 * D * X_)_after - (a1 * X_ + a2 * D + a3 * D * X_)_before  \n",
    "ATE = a2 * (D_after - D_before) = a2.  \n",
    "  \n",
    "Сама методика работы с линейной регрессией схожа с методом оценки DID. Только DID = a3.  \n",
    "DID - оценивает эффект вмешательства a3 повлиявший на темп роста Y после влияния.  \n",
    "RDD - эффект разрыва a2, который произошел в момент thr начала действия влияния.  \n",
    "\n",
    "---\n",
    "<u>Регрессия с весами</u>  \n",
    "Т.к мы задаем значения на границе до/после порога - регрессия может много влияния уделить подгонке  \n",
    "под линию точек которые дальше от порога и меньше внимания уделить оценке точности разрыва на пороге влияния.  \n",
    "Идея - ввести веса, которые снижаются по мере удаления от границы threshold.  \n",
    "\n",
    "---\n",
    "<u>Нечеткая граница</u>  \n",
    "В примере выше предполагали что пороговая функция выглядит как D = 1 if X > thr 0 if X < thr  \n",
    "Однако, возможно такое, что при X > thr функция D будет иметь вероятностную природу  \n",
    "Например: не все после выпуска из университета получили диплом (чекаем влияет ли диплом на заработок).  \n",
    "В этом случае надо использовать техники из IV (instrumental variables) и для оценки использовать Wald Estimator.  \n",
    "\n",
    "---\n",
    "<u>Фрод на границе</u>  \n",
    "Иногда на граничных участках могут наблюдаться аномалии, когда например юзерам выгодно оказываться по одну  \n",
    "или по другую сторону границы (хотя без дополнительных действий они оказывались бы на противоположной стороне).  \n",
    "К примеру, занижение доходов выше/ниже уровня повышения налога итд.  \n",
    "Это можно проверить на графике на наличие всплесков, сгустков плотности клиентов вблизи границы.  \n",
    "Если данной аномалии не наблюдается - то RDD можно применять."
   ]
  },
  {
   "cell_type": "code",
   "execution_count": 22,
   "metadata": {
    "hidden": true
   },
   "outputs": [
    {
     "data": {
      "text/html": [
       "<table class=\"simpletable\">\n",
       "<tr>\n",
       "      <td></td>         <th>coef</th>     <th>std err</th>      <th>t</th>      <th>P>|t|</th>  <th>[0.025</th>    <th>0.975]</th>  \n",
       "</tr>\n",
       "<tr>\n",
       "  <th>Intercept</th> <td>   93.6184</td> <td>    0.932</td> <td>  100.399</td> <td> 0.000</td> <td>   91.739</td> <td>   95.498</td>\n",
       "</tr>\n",
       "<tr>\n",
       "  <th>agecell</th>   <td>    0.8270</td> <td>    0.819</td> <td>    1.010</td> <td> 0.318</td> <td>   -0.823</td> <td>    2.477</td>\n",
       "</tr>\n",
       "<tr>\n",
       "  <th>D</th>         <td>    7.6627</td> <td>    1.319</td> <td>    5.811</td> <td> 0.000</td> <td>    5.005</td> <td>   10.320</td>\n",
       "</tr>\n",
       "<tr>\n",
       "  <th>agecell:D</th> <td>   -3.6034</td> <td>    1.158</td> <td>   -3.111</td> <td> 0.003</td> <td>   -5.937</td> <td>   -1.269</td>\n",
       "</tr>\n",
       "</table>"
      ],
      "text/plain": [
       "<class 'statsmodels.iolib.table.SimpleTable'>"
      ]
     },
     "execution_count": 22,
     "metadata": {},
     "output_type": "execute_result"
    }
   ],
   "source": [
    "# датасет - влияние алкоголя на уровень смертности на границе \"до/после\" возраста легализации алкоголя\n",
    "# agecell - возраст человека; all - смертность от всех зафиксированных причин\n",
    "df = pd.read_csv('./data/drinking.csv')\n",
    "df[\"agecell\"] -= 21 # thr = 21 -> приводим переменную к виду X_\n",
    "df['D'] = (df[\"agecell\"] > 0).astype(int) # D\n",
    "model = smf.wls(\"all ~ agecell * D + D + agecell\", df).fit()\n",
    "model.summary().tables[1] # a2 = coef(D) = 7.66; p_val < 0.05"
   ]
  },
  {
   "cell_type": "code",
   "execution_count": 50,
   "metadata": {
    "hidden": true
   },
   "outputs": [
    {
     "name": "stdout",
     "output_type": "stream",
     "text": [
      "Видим что до/после 20 лет смертность значимо не росла\n",
      "{'rdd': 0.7146303938942893, 'rdd_confint': (-1.6566844171970239, 3.0859452049856024), 'pval_rdd>0': 0.5467335675976899}\n",
      " \n",
      "До/после 21 года смертность значимо выросла rdd~7пп! влияние отмены запрета на алкоголь\n",
      "{'rdd': 9.700359216270861, 'rdd_confint': (7.615776390622676, 11.784942041919047), 'pval_rdd>0': 4.656183586700828e-12}\n"
     ]
    }
   ],
   "source": [
    "print('Видим что до/после 20 лет смертность значимо не росла')\n",
    "print(ci.calc_rdd(df['all'].values, df.agecell.values, 20))\n",
    "print(' ')\n",
    "print('До/после 21 года смертность значимо выросла rdd~7пп! влияние отмены запрета на алкоголь')\n",
    "print(ci.calc_rdd(df['all'].values, df.agecell.values, 21))"
   ]
  }
 ],
 "metadata": {
  "kernelspec": {
   "display_name": "Python 3",
   "language": "python",
   "name": "python3"
  },
  "language_info": {
   "codemirror_mode": {
    "name": "ipython",
    "version": 3
   },
   "file_extension": ".py",
   "mimetype": "text/x-python",
   "name": "python",
   "nbconvert_exporter": "python",
   "pygments_lexer": "ipython3",
   "version": "3.7.3"
  },
  "varInspector": {
   "cols": {
    "lenName": 16,
    "lenType": 16,
    "lenVar": 40
   },
   "kernels_config": {
    "python": {
     "delete_cmd_postfix": "",
     "delete_cmd_prefix": "del ",
     "library": "var_list.py",
     "varRefreshCmd": "print(var_dic_list())"
    },
    "r": {
     "delete_cmd_postfix": ") ",
     "delete_cmd_prefix": "rm(",
     "library": "var_list.r",
     "varRefreshCmd": "cat(var_dic_list()) "
    }
   },
   "types_to_exclude": [
    "module",
    "function",
    "builtin_function_or_method",
    "instance",
    "_Feature"
   ],
   "window_display": false
  }
 },
 "nbformat": 4,
 "nbformat_minor": 4
}
