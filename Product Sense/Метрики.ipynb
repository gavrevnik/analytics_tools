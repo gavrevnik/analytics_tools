{
 "cells": [
  {
   "cell_type": "markdown",
   "metadata": {},
   "source": [
    "#### Фреймворк AARRR"
   ]
  },
  {
   "cell_type": "markdown",
   "metadata": {},
   "source": [
    "Growth (AARRR)\n",
    "\n",
    "- **Acquisition**: sign up for a website or product (often known as “top of funnel”).\n",
    "- **Activation**: understanding and appreciating the basic product value.\n",
    "- **Retention**: come back to the product on a regular basis\n",
    "- **Referral**: share the product with others, growing the user base.\n",
    "- **Revenue**: adopt paid features that generate revenue for the company (monetisation)\n",
    "\n",
    "Some aspects:\n",
    "- trade-off between acquisition and revenue\n",
    "- different layers of engagement (with activation as base-level)"
   ]
  },
  {
   "cell_type": "markdown",
   "metadata": {},
   "source": [
    "#### North Star Metric"
   ]
  },
  {
   "cell_type": "markdown",
   "metadata": {},
   "source": [
    "небольшая вводная статья - https://amplitude.com/blog/product-north-star-metric\n",
    "\n",
    "---\n",
    "NSM - ключевая метрика роста компании - отражает, какую ключевую ценность  \n",
    "компания приносит своим продуктом пользователям и как объем этой ценности масштабируется.  \n",
    "\n",
    "Так как цель продукта - решать задачи пользователей, то рост объема кейсов решения этих задач  \n",
    "зависит от многих факторов включая каналы дистрибуции, эффективности продукта, размеров рынка итд.   \n",
    "\n",
    "Важные особенности метрики:\n",
    "1. ее измеримость бизнесом (нельзя измерить = нельзя улучшить)  \n",
    "2. является **опережающим** индикатором успеха (напр, выручки)  \n",
    "3. ее сложно \"обмануть\". К примеру конверсионные метрик часто можно обмануть  \n",
    "работой с базой - поэтому их использовать в качестве NSM редко хорошо\n",
    "4. имеет понятный практический смысл (просто доносить до широкой команды)  \n",
    "\n",
    "\n",
    "Примеры:  \n",
    "1. Тиндер - ценность в создании \"качественных\" свиданий между людьми -> NSM = кол-во чатов с более чем  \n",
    "N сообщениями (прокся на возможную встречу)  \n",
    "2. Facebook - ценность в передачи качественной коммуникаций между людьми в онлайн мире  \n",
    "Прокся здесь - DAU - какой объем людей регулярно посещает платформу для этих коммункаций. \n",
    "3. Youtube - кол-во минут просмотренных видео за период \n",
    "4. eBay (и многие маркетплейсы) - GMV = общая сумма сделок за период. Отражает ценность  \n",
    "сервиса как для покупателей, так и для продавцой + для самой компании (так как  \n",
    "от GMV напрямую зависит комиссия от сделок -> revenue)  \n",
    "\n",
    "При этом NSM является опережающей метрикой к выручке и дает более понятную расшифровку,  \n",
    "как эту выручку можно растить.  \n",
    "\n",
    "---\n",
    "Разложение NSM на различные драйверы (метрики более низкого уровня) возможно разными способами.  \n",
    "По сути, это разные системы координат - того, как мы смотрим на NSM.  \n",
    "\n",
    "Например выручку маркета можно представить как Кол-во клиентов * Кол-во продукции * Ср чек продукции  \n",
    "Но также ее можно представить как сумму выручек новых и старых клиентов  \n",
    "Либо добавить какие-то драйверы связанные с взаимодействием клиентов друг с другом итд.\n",
    "\n",
    "\n",
    "\n",
    "Подходящий способ разложения удовлетворяет требованиям:\n",
    "\n",
    "1. драйверы понятны команде и их изменение также возможно силами команды (action метрики)\n",
    "2. изменение этих драйверов эффективнее всего решает задачу роста NSM \n",
    "\n",
    "Поиск правильного разложения - основан на стратегическом понимании проблем и точек роста продукта"
   ]
  },
  {
   "cell_type": "markdown",
   "metadata": {},
   "source": [
    "#### LTV"
   ]
  },
  {
   "cell_type": "markdown",
   "metadata": {},
   "source": [
    "LTV (Life time value) - how many value we can get from average user from cohort.  \n",
    "https://habr.com/ru/post/292312/ ; https://gopractice.ru/how-to-calculate-ltv/  \n",
    "Ex. LTV = ARPU * Lifetime  \n",
    "Lifetime = Square under Retention curve  \n",
    "\n",
    "CAC (Customer acquisition cost) - the cost of winning a customer to purchase a product or service. With CAC, any  company can gauge how much they're spending on acquiring each customer.  \n",
    "\n",
    "LTV/CAC - koef. using in marketing to estimate channel efficiency. We need LTV>CAC to earn money from average   customer from channel.  \n",
    "\n",
    "Retention is a value that shows how much customers returning to target action after they did initial action (ex.  purchase or enter to network)  \n",
    "\n",
    "ARPPU (Average revenue per paying users) - describe loyal payment auditory condition.  \n",
    "Depends on monetisation efficiency.  \n",
    "\n",
    "ARPU (Average revenue per all users). Describe all auditory condition. Ex. when price rising  \n",
    "ARPPU may rise too, but number of payment users could decrease.  \n",
    "\n",
    "Stickiness = DAU / MAU - common metric of engagement users.  \n",
    "If product is sticky - users wanna return in app and  feels more involved in product.   \n",
    "In contrast of Retention - stickiness doesn’t depend on push and email activity and so on.\n",
    "Its interface and value property.  \n",
    "\n",
    "Engagement - set of metrics which describe how many attention user pays to the product.  \n",
    "It can be measured from spent time, action’s frequency and so on.  \n",
    "Increasing relevance of suggestion also could increase engagement metrics.  "
   ]
  },
  {
   "cell_type": "markdown",
   "metadata": {},
   "source": [
    "#### Retention"
   ]
  },
  {
   "cell_type": "markdown",
   "metadata": {},
   "source": [
    "Retention N - percent of users which make action after N steps (days/weeks..)  \n",
    "Rolling Retention - percent of users which make action >=N steps after init.  \n",
    "Rolling retention could changes after future actions will appear. Retention N is a fix metric.  \n",
    "\n",
    "Retention rate depend’s on customer lifetime, geo, free/paid segment etc. Use segments!  \n",
    "\n",
    "Retention surrogate metric = relevant value that customer get from service  \n",
    "Because retention is a long term metric, but value metric’s can be shorter for testing.  \n",
    "PLOT: Customer getting value VS Retention (getting value rise and retention goes to 1)  \n",
    "  \n",
    "Engagement drives retention  \n",
    "Look at the users with most frequency and search what past factors drives this  \n",
    "(search aha-moment for passion users). Scale this moment to other users.  \n",
    "\n",
    "Product retention is a function of two parameters:   \n",
    "how often the problem the product solves occurs in the user's  life,  \n",
    "and how well the product solves this problem (is it better than alternatives?)  \n",
    "\n",
    "Some retention benchmarks:  \n",
    "https://www.lennysnewsletter.com/p/what-is-good-retention-issue-29?s=r  \n",
    "\n",
    "Retention determines by timeframe (week, month etc) and event.  \n",
    "There are product- and feature-level retention types.   \n",
    "  \n",
    "Active users = new users + retention users  \n",
    "New users = marketing + viral effect  \n",
    "\n",
    "---\n",
    "<u> Gopractise update </u>  \n",
    "Ретеншн возможен по разным метрикам-активным действиям пользователя.  \n",
    "Например, ретеншн в посещение сайта или ретеншн в повторную покупку на сайте (разные показатели). \n",
    "\n",
    "Для оценки временного шага при расчете Retention полезно посмотреть сколько в среднем  \n",
    "раз за месяц/год пользователь использует продукт (ср. частота определит масштаб для ретеншн).  \n",
    "\n",
    "Метрика ретеншн обычно сложнее, чем базовые метрики вроде объема покупок или кол-ва клиентов.  \n",
    "Если мы понимаем, что у продукта есть проблема в ретеншн, то важно найти правильную гранулярность:  \n",
    "недельный, дневной ретеншн; ретеншн какого дня и. т. д  \n",
    "Это будет зависеть от того какого рода проблемы/причины влияющие на изменение retention в продукте.  \n",
    "\n",
    "Ретеншн тесно связан с качеством продукта (качеством решения задач пользователей из ЦА) - подробнее об этом  \n",
    "см в разделе \"Unit экономика\"\n",
    "\n",
    "---\n",
    "При оценке ретеншн продукта через когортный анализ надо внимательно отбирать когорты, учитывая специфику:\n",
    "1. на ранних когортах продукт мог отличаться от текущего состояния (надо брать поправочные коэффициенты)\n",
    "2. некоторые когорты могут быть искажены с учетом сезонности, праздников итд\n",
    "3. в когорте должно быть достаточное кол-во данных\n",
    "4. достаточная длительность когорты для того, чтобы делать качественный прогноз"
   ]
  },
  {
   "cell_type": "code",
   "execution_count": null,
   "metadata": {},
   "outputs": [],
   "source": []
  }
 ],
 "metadata": {
  "kernelspec": {
   "display_name": "Python 3",
   "language": "python",
   "name": "python3"
  },
  "language_info": {
   "codemirror_mode": {
    "name": "ipython",
    "version": 3
   },
   "file_extension": ".py",
   "mimetype": "text/x-python",
   "name": "python",
   "nbconvert_exporter": "python",
   "pygments_lexer": "ipython3",
   "version": "3.7.3"
  },
  "varInspector": {
   "cols": {
    "lenName": 16,
    "lenType": 16,
    "lenVar": 40
   },
   "kernels_config": {
    "python": {
     "delete_cmd_postfix": "",
     "delete_cmd_prefix": "del ",
     "library": "var_list.py",
     "varRefreshCmd": "print(var_dic_list())"
    },
    "r": {
     "delete_cmd_postfix": ") ",
     "delete_cmd_prefix": "rm(",
     "library": "var_list.r",
     "varRefreshCmd": "cat(var_dic_list()) "
    }
   },
   "types_to_exclude": [
    "module",
    "function",
    "builtin_function_or_method",
    "instance",
    "_Feature"
   ],
   "window_display": false
  }
 },
 "nbformat": 4,
 "nbformat_minor": 4
}
