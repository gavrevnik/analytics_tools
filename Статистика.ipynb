{
 "cells": [
  {
   "cell_type": "code",
   "execution_count": 1,
   "metadata": {},
   "outputs": [
    {
     "data": {
      "text/html": [
       "<style>.container { width:100% !important; }</style>"
      ],
      "text/plain": [
       "<IPython.core.display.HTML object>"
      ]
     },
     "metadata": {},
     "output_type": "display_data"
    }
   ],
   "source": [
    "import pandas as pd; import sys\n",
    "import matplotlib.pyplot as plt\n",
    "import numpy as np\n",
    "import datetime\n",
    "from IPython.display import display\n",
    "pd.options.display.max_columns = None\n",
    "pd.options.display.max_rows = 1000\n",
    "pd.options.display.max_colwidth = 100\n",
    "from IPython.core.display import display, HTML\n",
    "import warnings\n",
    "warnings.filterwarnings('ignore')\n",
    "from statsmodels.stats.weightstats import ztest, ttest_ind\n",
    "from scipy.stats import spearmanr, pearsonr, kendalltau\n",
    "from scipy import stats\n",
    "from scipy.stats import ttest_ind as ttest_ind_from_scipy,  boxcox\n",
    "import seaborn as sns\n",
    "from statsmodels.stats.power import tt_ind_solve_power\n",
    "from scipy.stats import kstest\n",
    "import sklearn\n",
    "import eda_tools as eda\n",
    "import imp\n",
    "import help_tools as ht\n",
    "display(HTML(\"<style>.container { width:100% !important; }</style>\"))"
   ]
  },
  {
   "cell_type": "markdown",
   "metadata": {},
   "source": [
    "<u>Полезные ссылки</u>  \n",
    "  \n",
    "https://www.youtube.com/@Прикладнаястатистика  \n",
    "https://github.com/FUlyankin/matstat-AB/tree/main/week01_intro (репозиторий к урокам выше)\n",
    "  \n",
    "https://habr.com/ru/articles/351400/ - статья по основам вероятностей"
   ]
  },
  {
   "cell_type": "markdown",
   "metadata": {
    "heading_collapsed": true
   },
   "source": [
    "#### Случайные величины"
   ]
  },
  {
   "cell_type": "markdown",
   "metadata": {
    "hidden": true
   },
   "source": [
    "<u>Основные термины анализа случайных величин</u>  \n",
    "Генеральная совокупность - полная изучаемая совокупность объектов, в пределе бесконечная (например, клиенты магазина при t -> inf)  \n",
    "Метрики - числовые значения приписываемые объектам обладающие бизнесовым смыслом (например, выручка от клиента за неделю)  \n",
    "Статистика - агрегирующая функция над метриками объектов (например, средняя выручка на клиента)    \n",
    "Выборка = случайный семпл из генеральной совокупности длины N; выборочая статистика T = T(x1, ... xN)  \n",
    "Ключевая задача - по выборочной статистике TN сделать выводы о статистике генеральной совокупности T.  \n",
    "Репрезентативность - обобщаемость используемой выборки на всю генеральную совокупность.  \n",
    "При нестационарном поведении генеральной совокупности во времени необходимо случайно семплировать выборку для теста также по времени  \n",
    "  \n",
    "Случайная величина = СВ - функция X которая принимает на вход случайный объект (или некоторую ситуацию) и сопоставляет ему число.  \n",
    "Таким образом x = X(obj). Например, выручка клиента X = X(случ. клиент) = СВ. Статистика T = T(x1, ...) также СВ.  \n",
    "  \n",
    "<u>Свойства случайных величин</u>  \n",
    "Ключевые описательные статистики для случайной величины X:\n",
    "- математическое ожидание выборки M(x) = p1 * x1 + p2 * x2 + ... = (x1 + ... + xN)/N при p=const  \n",
    "- дисперсия Var(X) = M((x - M)^2)\n",
    "- стандартное отклонение std(X) = sqrt(Var)\n",
    "- квантиль q(X, alpha) = q такое, что len(X[X < alpha]) / len(X) = q; медиана = квантиль 50\n",
    "  \n",
    "Независимые СВ - величины X, Y такие что P(X, Y) = P(X) * P(Y|X) = P(X) * P(Y)  \n",
    "Для независимых величин работают теоремы сложения и умножения вероятностей  \n",
    "  \n",
    "M(X + Y) = M(X) + M(Y)  \n",
    "M(const * X) = const * M(X)  \n",
    "M(X * Y) = SUM(X * Y * P(X, Y)); P(X, Y) - совместная вероятность появления величин  \n",
    "Для независимых СВ: M(X * Y) = M(X) * M(Y)  \n",
    "  \n",
    "VAR(X + Y) = VAR(X) + VAR(Y) + 2 * cov(X, Y)  \n",
    "cov = M((X - M(X))(Y - M(Y)) = ковариация (совместная вариация X, Y вокруг M)  \n",
    "Для независимых СВ: cov(X, Y) = 0 -> VAR(X + Y) = VAR(X) + VAR(Y)  \n",
    "VAR(const * X) = const^2 * VAR(X)  \n",
    "  \n",
    "PS. cov(X, X) = VAR(X); корреляция corr(X, Y) = cov(X, Y) / sqrt(VAR(X) * VAR(Y)) = безразмерная величина (-1;1)\n",
    "    \n",
    "Средневыборочное AVG - статистика по выборке x1, ... xN: AVG = SUM(X)/N  \n",
    "Среднее средневыборочного M_avg = M(SUM(X)/N)) = M  \n",
    "(!) В данном контексте под матожиданием понимаем средневзвешенное СВ по генеральной совокупности  \n",
    "Дисперсия средневыборочного M_var = VAR(SUM(X)/N) = N * VAR / N^2 = VAR / N  \n",
    "std_var = SE (standart error) = std / sqrt(N)  \n",
    "  \n",
    "<u>Оценки случайных величин</u>  \n",
    "Оценка случайной величины = статистика над выборкой, примерно оценивающая неизвестный параметр генеральной совокупности  \n",
    "Если не знаем параметр T, то его оценка T_est = T_est(x1, ... xN).  \n",
    "Пример: не знаем матожидание M генеральной совокупности, T_est = AVG(x1, ... xN) исходя из формул выше.    \n",
    "Можем оценивать различные численные параметры генеральной совокупности вроде матожидания, дисперсии, долей, квантилей итд.  \n",
    "  \n",
    "<u>Свойства выборочных оценок</u>  \n",
    "В зависимости от того какие будут попадаться выборки (СВ) - T_est будет иметь некоторое распределение.  \n",
    "Хорошие оценки T_est обладают следующими свойствами:  \n",
    "  \n",
    "1. Несмещенность. M(T_est) = T. Матожидание распределения T_est равно T генеральной совокупности.  \n",
    "Следствие этого, при бесконечном кол-ве выборок усредненное по ним T_est -> T (нет систематической ошибки)  \n",
    "PS. Асимптотическая несмещенность. M(T_est, N -> inf) -> T.  \n",
    "2. Состоятельность. VAR(T_est, N -> inf) -> 0. Дисперсия распределения T_est сокращается с ростом выборок N.  \n",
    "Т.е если возьмем 1000 выборок длины 100, построим по ним распределение T_est, оно будет шире, чем по 1000 выборок длины 1000 итд.  \n",
    "3. Эффективность. VAR = VAR_min(T_est1, ... T_estK). Распределение T_est среди семейства всех несмещенных оценок имеет минимальную дисперсию  \n",
    "  \n",
    "Виды оценок: точечные и интервальные. Интервальные - когда для оценки используется два числа A, B такие что A < T < B с некоторой вероятностью.  \n",
    "  \n",
    "<u>Степень свободы</u>  \n",
    "df = degrees of freedom = кол-во переменных от которых зависит статистика T и которые могут независимо изменяться при сохранении статистики.  \n",
    "Пример: T = x1^ 2 + x2^2 + ... xn^2. Это вектор, где T - его длина. Данный вектор имеет N-1 степень свободы  \n",
    "Для T-теста Стьюдента и выборок длины n1, n2: df = (n1 - 1) + (n2 - 1) = n1 + n2 - 2 (так как участвуют средние по двум выборкам)  \n",
    "Чем больше степень свободы, тем меньше колебания итоговой статистики на разных выборках -> точнее оценка  \n",
    "  \n",
    "<u>Bias Variance trade off</u>  \n",
    "Пусть у нас есть оценка T_est и мы хотим оценить ее качество через функцию потерь, усредняя по выборкам:  \n",
    "MSE = AVG((T_est - T)^2) = AVG((T_est - AVG(T_est) + AVG(T_est) - T)^2) = ... = VAR(T_est) + BIAS^2  \n",
    "Здесь BIAS = AVG(T_est) - T = смещенность оценки. Итак, MSE = VAR + BIAS^2.  \n",
    "Формула выражает дилемму смещения и разброса. Для одинаково качественных по MSE оценок - рост их разброса  \n",
    "вызывает снижение смещения и наоборот. Объяснение из ML:  \n",
    "чем умнее модель, тем меньше BIAS, но тем выше нестабильность при варьировании выборки -> растет VAR.  \n"
   ]
  },
  {
   "cell_type": "code",
   "execution_count": 3,
   "metadata": {
    "hidden": true
   },
   "outputs": [
    {
     "name": "stdout",
     "output_type": "stream",
     "text": [
      "0.22312549953503333 0.2234492233684627\n"
     ]
    }
   ],
   "source": [
    "# дисперсия средневыборочного по случайной выборке длины N\n",
    "x = stats.norm.rvs(scale=5, size=10000) # СВ\n",
    "N = 500 ; print(np.std([np.mean(np.random.choice(x, N)) for _ in range(1000)]), np.std(x) / np.sqrt(N))"
   ]
  },
  {
   "cell_type": "code",
   "execution_count": null,
   "metadata": {
    "hidden": true
   },
   "outputs": [],
   "source": [
    "# пример несмещенной состоятельной оценки - среднее арифметическое по выборке\n",
    "# смотрим на смещение и разброс семплируемой оценки\n",
    "real_mean = 10; total = stats.norm.rvs(loc=real_mean, size=1000)\n",
    "def sample_mean_bias_std(total, sample_size):\n",
    "    sample_mean_list = []\n",
    "    for j in range(1000):\n",
    "        sample_mean_list.append( np.mean(np.random.choice(total, sample_size, replace=True)) )\n",
    "    return np.mean(sample_mean_list) - np.mean(total), np.std(sample_mean_list)\n",
    "print(100, sample_mean_bias_std(total, sample_size=100))\n",
    "print(1000, sample_mean_bias_std(total, sample_size=1000))"
   ]
  },
  {
   "cell_type": "markdown",
   "metadata": {
    "heading_collapsed": true
   },
   "source": [
    "#### Закон больших чисел (ЗБЧ) и Центральная предельная теорема (ЦПТ)"
   ]
  },
  {
   "cell_type": "markdown",
   "metadata": {
    "hidden": true
   },
   "source": [
    "<u>Условие i.i.d</u>  \n",
    "independent and identically distributed = условие на группу случайных величин, когда каждое из СВ  \n",
    "имеет схожее с остальными распределения и сами события независимы. Далее в основном будем работать со статистиками над этими величинами.  \n",
    "\n",
    "<u>Закон больших чисел</u>  \n",
    "при n -> inf среднее арифметическое одинаково распределенных независимых (i.i.d.) случайных величин xi сходится к их матожиданию.  \n",
    "Y = (x1 + ... + xn)/n -> M(x). Это следует из неравенства Чебышева, интуиция: VAR(Y) = VAR(x)/sqrt(n) -> 0  \n",
    "С ростом числа n дисперсия средневыборочного сходится к нулю, само средневыборочное M(x) - следует из законов матожидания и дисперсии сумм СВ.  \n",
    "Одно из следствий: доля положительных исходов n/m -> (m->inf) p = p(n)/p(m). Частотная вероятность выборки сходится к классической при больших n.    \n",
    "  \n",
    "<u>Центральная предельная теорема</u>  \n",
    "СВ Y = x1 + x2 + ... xn , где группа xi - i.i.d, при n -> inf стремится к нормальному распределению N(mu_Y, std_Y).  \n",
    "mu, std - матожидание и дисперсия средневыборочного Y. mu_Y = mu, std_Y = std_X / sqrt(n).  \n",
    "Соответственно, чем выше n, тем меньше std_Y - распределение сжимается и в пределе наблюдается сходимость Y -> mu (ЗБЧ).  \n",
    "ЦПТ - расширяет закон больших чисел, указывая асимптотическую форму распределения для средневыборочного.  \n",
    "Доказательство ЦПТ из характеристических функций = по сути Фурье преобразование для сложной СВ Y. Гаусс здесь - это его спектр.    \n",
    "  \n",
    "Ограничения ЦПТ:  \n",
    "- выборка для средневыборочного i.i.d  \n",
    "- средневыборочная дисперсия конечна VAR -> 0. На практике, VAR мала для некоторого n с которого начинается асимптотика.  \n",
    "- достаточно большое n (как раз чтобы VAR ~ 0)\n",
    "  \n",
    "Проблема выбросов: когда в выборке присутствуют выбросы x_outl, то для недостаточно больших n средневыборочная будет отлична от нуля,  \n",
    "поэтому будут сильные флуктуации, что помешает сходимости Y к нормальному распределению. Скорость сходимости вообще зависит  \n",
    "от формы распределения x.  "
   ]
  },
  {
   "cell_type": "code",
   "execution_count": 17,
   "metadata": {
    "hidden": true
   },
   "outputs": [
    {
     "data": {
      "image/png": "[encoded data removed]",
      "text/plain": [
       "<Figure size 864x216 with 4 Axes>"
      ]
     },
     "metadata": {
      "needs_background": "light"
     },
     "output_type": "display_data"
    }
   ],
   "source": [
    "mu, std = 0, 1 # матожидание с отклонение для рандомных x\n",
    "y_list = [] # массив для средневыборочных\n",
    "ax = eda.get_subplots((12, 3), 1, 4); i = 0\n",
    "\n",
    "for n in (2, 5, 10, 15): # размер выборки для оценки средневыборочного\n",
    "    for j in range(2000): # кол-во выборок для семплирования\n",
    "        y_list.append(np.mean(stats.uniform.rvs(loc=mu, scale=std, size=n)))\n",
    "    eda.make_plot('hist', {'x' : y_list, 'kde' : True, 'title' : f'размер выборки n={n} \\n 100 выборок', 'ax' : ax[i]})\n",
    "    i+=1"
   ]
  },
  {
   "cell_type": "markdown",
   "metadata": {},
   "source": [
    "#### Распределения случайных величин"
   ]
  },
  {
   "cell_type": "markdown",
   "metadata": {},
   "source": [
    "<u>Описание распределений</u>  \n",
    "Пусть y - СВ. F_y(x) = P(y < x) = функция распределения = указывает для каждого x вероятность что y < x. В пределе F(inf) = 1.  \n",
    "Плотность распределения = f_y(x) = функция описывающая объем вероятностной массы y в окрестности каждого значения x.  \n",
    "F(x) = integral(f(x)dx). f(x) > 0.  \n",
    "Для дискретных величин плотность распределения может задаваться гистограмой (функция вероятности P(x))  \n",
    "в пределе она переходит в некоторую кривую.  \n",
    "  \n",
    "<u>Распределения и статистические тесты</u>  \n",
    "В следующем разделе по Статистическим тестам мы будем проверять гипотезы касательно различных выборочных статистик.  \n",
    "Зная как распределены выборочные статистики (т к это СВ), можно делать рассуждения касательно параметров генеральной совокупности  \n",
    "(в том числе осуществлять точечные и интервальные оценки)\n",
    "  \n",
    "<u>Схема Бернулли</u>  \n",
    "Пусть есть некоторое испытание. Вероятность успеха в нем p, неуспеха 1-p.  \n",
    "x = 1 когда успех, 0 когда не успех = СВ. M(x) = 1 * p + 0 * (1-p) = 0; VAR(x) = p * (1-p) \n",
    "  \n",
    "<u>Биномиальное распределение</u>  \n",
    "Пусть есть n испытаний, вероятность успеха в каждом p. Тогда Y = кол-во успехов n испытаниях = СВ.  \n",
    "У нее биномиальное распределение. P(Y) = C(Y|n) * p^Y * (1-p)^(n-Y)  \n",
    "C(Y|n) = сочетание из n по Y (см Комбинаторика).  \n",
    "Интуиция: чтобы реализовалось Y: должна Y раз произойти  удача p и (n-Y) неудача (1-p)  \n",
    "Все это может перемешиваться в порядке C способами.  \n",
    "Y = x1 + ... xn, где xi - СВ по схеме Бернулли (т.к Y = 1 + 1 + 0 + ... = кол-во удач).  \n",
    "M(Y) = n * p; VAR(Y) = VAR(x1) + VAR(x2) + ... = n * VAR(x) = n * p * (1-p)  \n",
    "  \n",
    "<u>Распределение Пуассона</u>  \n",
    "Предельный случай биномиального распределения, когда n -> inf, p * n = mu = const.  \n",
    "Кол-во успехов P(x = k) = mu^k * exp(-mu) / k!  \n",
    "Распределение описывает вероятность наступления k событий при условии что в среднем за некоторый  \n",
    "интервал времени они наступают с фиксированной частотой mu = p * n.  \n",
    "Пример: кол-во звонков в call центр за день. Зная среднее кол-во звоноков, если оно постоянно,  \n",
    "можно оценить вероятностное распределение их конкретного кол-ва в этот день P(x=k).  \n",
    "  \n",
    "<u>Нормальное распределение</u>  \n",
    "Как обсудили в разделе с ЦПТ: Y = x1 + x2 + ... xn при x=i.i.d и достаточно большом n: Y ~ N(mu, std)  \n",
    "Биномиальное распределениe Y = x1 + ... + xn схем Бернулли при большом n также сходится к нормальному.  \n",
    "f(x) = exp(-(x - mu)^2 / 2 * var) / sqrt(2pi * var), где var = std^2.  \n",
    "Это кривая Гаусса, симметричная с не очень широкими хвостами.  \n",
    "  \n",
    "<u>Хи квадрат распределение</u>  \n",
    "Статистика chi_sq = x1^2 + x2^2 + ... xn^2 , где xi ~ N(mu, std); xi = i.i.d  называется хи квадрат распределением с df=n    \n",
    "При df -> inf по ЦПТ очевидно chi_sq -> нормальному распределению N  \n",
    "Хи квадрат распределение используется в стат тестах связанных с дисперсией (VAR ~ X^2), а также в тестах на согласие:   \n",
    "близостью распределений друг к другу (метрики расстояний вроде MSE = (y1 - y2)^2 при delta_y ~ N)  \n",
    "  \n",
    "<u>Распределение Стьюдента (t-dist)</u>  \n",
    "Статистика T = (mu2 - mu1) / sqrt(var1 + var2) для сравнения средневыборочных двух выборок распределена по T-стюдента.  \n",
    "T ~ N / chi_sq. Здесь mu, var - параметры средневыборочных для двух выборок.  \n",
    "df = n1 - 1 + n2 - 1 = n1 + n2 - 2; единица вычитается так как в оценках фигурирует среднее, которое есть линейная комбинация выборки.  \n",
    "Частный случай: сравнений пропорций p1/q1 , p2/q2 где mu=p; std = p * q (схема Бернулли)  \n",
    "  \n",
    "<u>Распределение Фишера</u>  \n",
    "Статистика F = (chi_sq_n1 / n1 ) / (chi_sq_n2 / n2) имеет распределение Фишера (или F распределение)  \n",
    "В пределе F -> N1/N2 ~ N также распределено нормально (потому что частное норм распределений нормальное)  \n",
    "Возникает в задаче сравнения двух дисперсий F = var2 / var1 = (std1^2 / n1) / (std2^2 / n2)  \n",
    "В расширенном виде используется в ANOVA - поиск различия в группах наблюдений по дисперсиям.  \n",
    "Также используется при проверки значимости признаков в моделях - сравнение объясняемых моделью вариаций.  \n",
    "В регрессионных моделях RSS = квадраты остатков также распрелены как хи квадрат.  \n",
    "  \n",
    "<u>Логнормальное распределение</u>  \n",
    "Логнормальное распределение - это когда логарифм случайной величины распределен нормально.  \n",
    "Пусть случайная величина Y = x1 * x2 * ... xn, где xi = i.i.d; Тогда lnY = ln(x1) + ... + ln(xn)  \n",
    "При n -> inf получаем, что lnY ~ N(mu, std). Тогда Y ~ log_N  \n",
    "Логнормально распределены величины, мультипликативно зависящие от случайных составных факторов.  \n",
    "Пример: рост доходов. Часто доход Y = X0 * r1 * r2 ... , где X1 - исходный доход, а ri - случайные  \n",
    "множители отражающие факторы вроде инфляции, политики компании по росту, премиям и пр.  \n",
    "Если таких составных множителей очень много, то итоговая Y распределяется логнормально.  \n",
    "PS. Модель процентов от предыдущих состояний (доход растет процентно от предыдущего) мультипликативная.  \n",
    "\n",
    "<u>Геометрическое распределение</u>  \n",
    "Это распределение случайной величины n, отражающей вероятность успеха на n попытку в повторяющейся  \n",
    "схеме Бернулли. Предположим, что вероятность успеха события p, не успеха q = 1 - p  \n",
    "Вероятность получить успех на n-й иттерации: p(n) = p * q^(n-1). Пример: выбросить 1 ну кубике на 5 бросок.  \n",
    "Отсюда n_avg = ср кол-во попыток до первого успеха = sum(n * p(n)) = p * (1 + 2q + 3q^2 + ...)  \n",
    "Геометр. прогрессия S = 1 + q + q^2 + ... = 1 / (1 - q) = 1/p для q<1. При этом S' = 1 + 2q + ... = 1/p^2  \n",
    "Таким образом n_avg = p * S = 1 / p.  \n",
    "    \n",
    "---\n",
    "TODO гипергеометрическое, полиномиальное (обобщение биномиального, бутстрап)"
   ]
  },
  {
   "cell_type": "code",
   "execution_count": 34,
   "metadata": {},
   "outputs": [
    {
     "data": {
      "image/png": "[encoded data removed]",
      "text/plain": [
       "<Figure size 1080x144 with 7 Axes>"
      ]
     },
     "metadata": {
      "needs_background": "light"
     },
     "output_type": "display_data"
    }
   ],
   "source": [
    "ax = eda.get_subplots((15, 2), 1, 7)\n",
    "eda.make_plot('hist', {'x' : stats.binom.rvs(n=5, p=0.5, size=5000), 'ax' : ax[0], 'title' : 'Binomial N=5, p=0.5'})\n",
    "eda.make_plot('hist', {'x' : stats.binom.rvs(n=1000, p=0.5, size=5000), 'ax' : ax[1], 'title' : 'Binomial N=100, p=0.5'})\n",
    "eda.make_plot('hist', {'x' : stats.norm.rvs(loc=0.5, scale=1, size=5000), 'ax' : ax[2], 'kde' : True, 'title' : 'Normal mu=0.5 std=1'})\n",
    "eda.make_plot('hist', {'x' : stats.poisson.rvs(mu=50, size=5000), 'ax' : ax[3], 'kde' : True, 'title' : 'Poisson p=50/5000'})\n",
    "eda.make_plot('hist', {'x' : stats.chi2.rvs(df=5, size=5000), 'ax' : ax[4], 'kde' : True, 'title' : 'chi_sq df=2'})\n",
    "eda.make_plot('hist', {'x' : stats.t.rvs(df=4, size=5000), 'ax' : ax[5], 'kde' : True, 'title' : 't-dist df=4'})\n",
    "eda.make_plot('hist', {'x' : stats.f.rvs(dfn=15, dfd=15, size=5000), 'ax' : ax[6], 'title' : 'F-dist df1,df2=15'})"
   ]
  },
  {
   "cell_type": "markdown",
   "metadata": {
    "heading_collapsed": true
   },
   "source": [
    "#### Статистические тесты"
   ]
  },
  {
   "cell_type": "markdown",
   "metadata": {
    "hidden": true
   },
   "source": [
    "<u>Основная теория</u>  \n",
    "Стат тест - процедура проверки некоторой нулевой гипотезы касательно параметров или распределений.  \n",
    "Нулевая гипотеза - обычно утверждение об отсутствии различий (средних, дисперсий, двух распределений и пр)  \n",
    "Альтернативная гипотеза - сравниваемое больше/меньше или в целом отличается (двух или односторонние гипотезы)  \n",
    "В АБ тестах отклонение нулевой гипотезы = прокрас (есть значимое различие).  \n",
    "Ошибки первого и второго рода - вероятности ложного прокраса и ложного непрокраса.  \n",
    "Ошибка первого рода = уровень значимости, второго рода = betta. power = 1 - betta = мощность критерия, чувствительность.  \n",
    "p_val = вероятность отклонить нулевую гипотезу по выборочным данным когда на самом деле она верна.  \n",
    "Когда p_val < alpha, то на уровне alpha-значимости мы отклоняем нулевую гипотезу (=есть стат различие)  \n",
    "  Доверительные интервалы - случайные числа a,b такие, что оцениваемое значение T из генеральной совокупности с  \n",
    "вероятностью 1 - alpha лежит между ними.  \n",
    "  \n",
    "---\n",
    "<u>КРИТЕРИИ О СРЕДНИХ</u>  \n",
    "<u>Тест Стьюдента (T-test)</u>  \n",
    "Критерий сравнения средних двух выборок T = (mu2 - mu1) / sqrt(var2 + var1)  \n",
    "Бывает полезен в ab тестах где необходимо сравнивать средние метрики двух выборок.  \n",
    "Позволяет оценивать также доверительные интервалы. Работает когда mu1, mu2 распределены нормально (ЦПТ).     \n",
    "  \n",
    "<u>Критерий Манна Уитни</u>  \n",
    "Данный критерий не касается средних, но проверяет стохастическое доминирование одной выборки над другой в  \n",
    "условиях когда T-тест не работает (средневыборочные распределены не нормально).  \n",
    "Стохастическое доминирование - вероятность, что случайно выбранное значение из выборки X > случайного из Y.  \n",
    "Идея: объединяем выборки, сортируем, назначаем каждому семплу свой порядковый ранг.  \n",
    "Вычисляем статистику U = U(n1, n2, R1, R2), n - размеры выборок, R - суммы рангов.  \n",
    "Она показывает сколько раз элементы одной выборки больше по рангам чем элементы другой.  \n",
    "При n->inf U ~ N. Оцениваем по U имеется ли отличиие в распределении рангов.  \n",
    "PS. В частном случае когда два распределения X, Y одинаковы по формуле и отличаются только сдвигом -  \n",
    "тест позволяет сказать об отличии двух медиан.  \n",
    "  \n",
    "<u>ANOVA</u>  \n",
    "ANOVA = analysis of variation = расширение попарного критерия о средних на группу СВ x1, x2, ... xn.  \n",
    "Проверяется гипотеза: в данной выборке существует хотя бы пара СВ у которых средние отличаются.  \n",
    "Значительно мощнее чем группа попарных t-тестов с коррекцией на множественное сравнение (см тетрадь AB).  \n",
    "  \n",
    "Объединим выборки total = append(x1, x2, ... xn).    \n",
    "Пусть ss = sum of squares. Тогда var = avg(ss_group). ss_total = ss_between + ss_within  \n",
    "ss_between = межгрупповая сумма = разброс mu_x1, mu_x2 ... относительно mu_total  \n",
    "ss_within = внутригрупповая сумма = ssw1 + ssw2 + ...  sswn  \n",
    "Если во всех группах x1, x2 ... одинаковые средние, тогда ssb = 0. В реальности же мы проверяем чтобы  \n",
    "ssb был небольшим по сравнению с ssw (внутренний шум групп). Статистика F = ssb / ssw распределена по Фишеру.  \n",
    "На самом деле смотрят F = avg(ssb) / avg(ssw) = (ssb/M) / (ssw / N-M), M = число групп, N - число семплов.  \n",
    "  \n",
    "Условия применимости: независимость, нормальность, гомоскедастичность xi (иначе не будет F-распределения).\n",
    "  \n",
    "one-way anova - проверка различия средних в группах x1, x2, ... которые отличаются каким то одним фактором  \n",
    "например xi - это зарплаты сотрудников, а i - это предприятия в отрасли. Проверяем что i влияет на x.  \n",
    "two-way anova - когда у нас есть матрица СВ x11, x12, ... xnm , где i,j - это два каких то фактора.  \n",
    "проверяем здесь кроме того взаимодействие между этими факторами i, j   \n",
    "Взаимодействие = когда степень влияния эффекта i зависит от эффекта j (и наборот).  \n",
    "В two-way anova за это отвечает ss_interaction который также сравнивается с ssw.  \n",
    "\n",
    "\n",
    "---\n",
    "<u>ДИСПЕРСИОННЫЕ КРИТЕРИИ</u>    \n",
    "<u>Гомоскедастичность</u>  \n",
    "Гомоскедастичность - равенство дисперсий у разных случайных величин (aka группах).  \n",
    "Играет роль в некоторых статистических методах - этого требует ANOVA, линейная регрессия (ошибки гомоскедаст).  \n",
    "Кроме того гомоскедастичность временных рядов - одно из условий их стационарности (см. тетрадь Time Series)  \n",
    "  \n",
    "<u>Тест Фишера, F-test</u>  \n",
    "Тест на проверку равенства дисперсий для двух случайных величин. Пусть СВ x1, x2 имеют дисперсии var1, var2.  \n",
    "Статистика F = (n2 * var2) / (n1 * var1) имеет распределение Фишера, когда x1, x2 распределены нормально.    \n",
    "  \n",
    "<u>Критерий Барлетта</u>  \n",
    "F-test можно расширить на несколько случайных величин (>2) = тест Барлетта.  \n",
    "Также чувствителен к **нормальности** распределений, проверяет что среди СВ x1, x2, ... xn присутствует  \n",
    "хотя бы одна пара с разными дисперсиями. Статистика Барлетта имеет распределение хи квадрат.  \n",
    "\n",
    "<u>Критерий Левене</u>  \n",
    "Аналог критерия Барлетта для выборок **без необходимости нормального** распределения.  \n",
    "Идея: каждой СВ x1, x2, ... сопоставляется набор отклонений от среднего: x1 -> dx11, dx12, ...  \n",
    "А дальше применяется ANOVA для проверки гипотезы равенства средних среди отклонений от средних в группах.  \n",
    "Устойчивая модификация теста: dx = отклонение от медианы (также позволяет судить о дисперсиях)  \n",
    "PS. Работает, так как дисперсия = среднее отклонений от среднего.  \n",
    "  \n",
    "---\n",
    "<u>КРИТЕРИИ СОГЛАСИЯ</u>  \n",
    "<u>Критерий Хи квадрат</u>  \n",
    "Хотим проверить что два <u>выборочных</u> распредеделения случайных величин f1 и f2 идентичные.  \n",
    "Имеем выборочные реализации этих распределений - по сути гистограммы с частотами f1 = f1(xi); x = 0, 1, 2, ... n = бины.  \n",
    "Аналогично для f2. Тогда введем статистику H = SUM((f2 - f1)^2) / f1), сумма по всем бинам i  \n",
    "Здесь f1, f2 = выборочные <u>частоты</u> реализации распределений в бине xi. Когда n->inf, ширина бина xi -> 0,  \n",
    "в каждом бине частота f1(xi), f2(xi) -> 0, при этом mu(f1) = sum(xi * pi) = const. Это распределение Пуассона.  \n",
    "Значит в пределе частоты f1, f2 распределены нормально. Тогда H = SUM(t-score1^2 + t-score2^2 + ...) = SUM(N1^2 + N2^2 ...) = chi_sq.  \n",
    "Сумма относительных разниц частот H распределена как хи квадрат. Эта статистика - расстояние Пирсона.  \n",
    "Критерий согласия хи квадрат:  \n",
    "- берем выборки из исследуемых распределений f1, f2  \n",
    "- накидываем сетку из большого кол-ва бинов, получаем набор частот f11, f12, ... f21, ... попадания в эти бины (гистограмма)  \n",
    "- вычисляем по данным частотам H, проверяем по ней хи квадрат критерий (p_val, conf)  \n",
    "  \n",
    "Данных критерий лучше всего (из за бинаризации) использовать для дискретных распределений. Для непрерывных мощнее использовать  \n",
    "критерии Колмогорова-Смирнова или Дарлинга-Андерсона\n",
    "  \n",
    "Частный случай: критерий соответствия частот ожидаемым.  \n",
    "Пусть имеется некоторая таблица сопряженности - таблица совместного распределения двух номинативных величин.  \n",
    "К примеру: приходящие покупатели разных сегментов (Y=S,M,L) как то попадают в ветки экспериментов (X = 1,2,3)  \n",
    "Ожидаемые частоты = равномерное распределение, все бины в таблице сопряженности представлены равномерно.  \n",
    "Теперь используя наблюдаемые частоты (Obs) и ожидаемые (Exp) можно вычислить статистику H и применить хи квадрат критерий.  \n",
    "  \n",
    "<u>KS. Критерий Смирнова-Колмогорова</u>  \n",
    "Проверяет равенство двух выборочных распределений F1, F2 или соответствие выборочного распределения  \n",
    "некоторому аналитическому F0. Вычисляется максимум отклонений двух выборок, которые подчиняются статистике KS.  \n",
    "В частном случае можно использовать как критеррий проверки выборки на нормальность.  \n",
    "  \n",
    "<u>Критерий Андерсона-Дарлинга</u>  \n",
    "Модификация критерия Колмогорова, где статистика T = интеграл квадрата разницы функций (по сути мера площади расхождения)  \n",
    "нормированный на f * (1 - f) - то есть повышается вес в области где f = 0 и f = 1 (хвосты функции распределения)  \n",
    "Таким образом, фокус равномерно распространяется на хвосты распределений, где обычно амплитуды меньше.  \n",
    "  \n",
    "<u>Критерий Шапиро-Уилка</u>  \n",
    "Наиболее мощный критерий проверки на нормальность распределения F. При этом вычислительно сложный для больших n.  \n",
    "Идея: сравнение квантилей теоретического распределения с наблюдаемым. Лучше использовать для n < 5k.  "
   ]
  },
  {
   "cell_type": "code",
   "execution_count": 73,
   "metadata": {
    "hidden": true
   },
   "outputs": [
    {
     "name": "stdout",
     "output_type": "stream",
     "text": [
      "less ((-inf, 0.30463434777147014), 0.9999999979180496, 'less', None) 0.9999999980012535\n",
      "greater ((0.3046343477714702, inf), 2.0819503898650282e-09, 'greater', None) 1.9987464365903034e-09\n",
      "two-side (array([0.72283184, 0.97414058]), 0.0, 'two-sided', None) (0.7227689620734795, 0.9742034547057395)\n"
     ]
    }
   ],
   "source": [
    "# T-TEST. Проверка результатов для вычисления T-теста на случ выборках X, Y\n",
    "X = np.random.normal(1, 2, 1000); Y = np.random.normal(1.3, 1, 1000)\n",
    "print('less', ht.ttest_calc(X, Y, alternative='less'), stats.ttest_ind(Y, X, alternative = 'less').pvalue) # check\n",
    "print('greater', ht.ttest_calc(X, Y, alternative='greater'), stats.ttest_ind(Y, X, alternative = 'greater').pvalue)\n",
    "print('two-side', ht.ttest_calc(X, alternative='two-sided'), stats.t.interval(0.95, df=len(X)-1, loc=np.mean(X), scale=np.std(X, ddof=1)/np.sqrt(len(X))))"
   ]
  },
  {
   "cell_type": "code",
   "execution_count": 83,
   "metadata": {
    "hidden": true
   },
   "outputs": [
    {
     "name": "stdout",
     "output_type": "stream",
     "text": [
      "bootstrap (0.1825051372138922, 0.4132748535876942)\n",
      "confint_abs / mean_1 [0.18789771 0.40415089]\n",
      "confint_relative ((0.1808657651469867, 0.4111828336677728), 4.698186238427885e-07)\n"
     ]
    }
   ],
   "source": [
    "# T-test касательно относительных доверительных интервалов\n",
    "# грубая оценка относительного эффекта confint_abs/mean(control) -> confint_rel при выборках >7-8k\n",
    "# при меньших выборках оценка confint_abs/mean(control) может оказаться уже реальной\n",
    "n = int(7*1e3); X = np.random.normal(1, 2, n); Y = np.random.normal(1.3, 4, n)\n",
    "print('bootstrap', ht.bootstrap_calc(X, Y, diff_type='rel', iter = 10**4)[0])\n",
    "print('confint_abs / mean_1', ht.ttest_calc(X, Y)[0]/np.mean(X))\n",
    "print('confint_relative', ht.ttest_calc(X, Y)[3])"
   ]
  },
  {
   "cell_type": "code",
   "execution_count": 82,
   "metadata": {
    "hidden": true
   },
   "outputs": [
    {
     "name": "stdout",
     "output_type": "stream",
     "text": [
      "real diff =  0.20764264106346675\n",
      "two-side interval =  [0.06639244 0.34889284]\n",
      "greater interval =  (0.08912474976194487, inf)\n",
      "real diff =  -0.21755661959436778\n",
      "two-side interval =  [-0.36016417 -0.07494907]\n",
      "less interval =  (-inf, -0.0978994352868266)\n"
     ]
    }
   ],
   "source": [
    "# T-test рост мощности критерия для односторонних гипотез.  \n",
    "# Пусть есть две выборки и мы ЗАРАНЕЕ знаем что avg(Y) > avg(X)\n",
    "X = np.random.normal(1, 2, 1000); Y = np.random.normal(1.2, 1, 1000)\n",
    "print('real diff = ', np.mean(Y) - np.mean(X))\n",
    "print('two-side interval = ', ht.ttest_calc(X, Y, alternative='two-sided', alpha=0.05)[0])\n",
    "print('greater interval = ', ht.ttest_calc(X, Y, alternative='greater', alpha=0.05)[0])\n",
    "\n",
    "# Пусть есть две выборки и мы ЗАРАНЕЕ знаем что avg(Y) < avg(X)\n",
    "X = np.random.normal(1, 2, 1000); Y = np.random.normal(0.8, 1, 1000)\n",
    "print('real diff = ', np.mean(Y) - np.mean(X))\n",
    "print('two-side interval = ', ht.ttest_calc(X, Y, alternative='two-sided', alpha=0.05)[0])\n",
    "print('less interval = ', ht.ttest_calc(X, Y, alternative='less', alpha=0.05)[0])"
   ]
  },
  {
   "cell_type": "code",
   "execution_count": 152,
   "metadata": {
    "hidden": true
   },
   "outputs": [
    {
     "name": "stdout",
     "output_type": "stream",
     "text": [
      "пар городов с распределением отличным от нормального 0\n",
      "равенство дисперсий по Барлетту, p_val = 0.6564670643021056\n",
      "равенство дисперсий по Левене, p_val = 0.9744415772405349\n",
      "Наличие разности в средних по ANOVA: pval = 0.0002812242314534544\n"
     ]
    }
   ],
   "source": [
    "# ANOVA. Одновыборочный критерий\n",
    "# имеем некоторые метрики по городам, хотим понять одинаковые ли везде средние или есть отличия\n",
    "tillamook = [0.0571, 0.0813, 0.0831, 0.0976, 0.0817, 0.0859, 0.0735, 0.0659, 0.0923, 0.0836]\n",
    "newport = [0.0873, 0.0662, 0.0672, 0.0819, 0.0749, 0.0649, 0.0835, 0.0725]\n",
    "petersburg = [0.0974, 0.1352, 0.0817, 0.1016, 0.0968, 0.1064, 0.105]\n",
    "magadan = [0.1033, 0.0915, 0.0781, 0.0685, 0.0677, 0.0697, 0.0764, 0.0689]\n",
    "tvarminne = [0.0703, 0.1026, 0.0956, 0.0973, 0.1039, 0.1045]\n",
    "# petersburg = tillamook; tvarminne = newport # эмуляция когда у городов реально совпадают средние\n",
    "\n",
    "\n",
    "# проверим нормальность данных используя критерий Шапиро (т к малые выборки)\n",
    "p_val_list = []\n",
    "for j in [tillamook, newport, petersburg, magadan, tvarminne]:\n",
    "    p_val_list.append(stats.shapiro(j).pvalue)\n",
    "decision_list = ht.multitest_calc(p_val_list, alpha_type='fwer', alpha=0.05)[0] # FWER = % хотя бы один прокрас\n",
    "print(f'пар городов с распределением отличным от нормального {sum(decision_list)}')\n",
    "\n",
    "# так как все распределения городов нормальные, можно использовать критерий барлетта проверки равенства дисперсий:\n",
    "pval = stats.bartlett(tillamook, newport, petersburg, magadan, tvarminne).pvalue\n",
    "print(f'равенство дисперсий по Барлетту, p_val = {pval}')\n",
    "\n",
    "# на всякий случай выведем по Левене (не чувствителен к нормальности)\n",
    "pval = stats.levene(tillamook, newport, petersburg, magadan, tvarminne).pvalue\n",
    "print(f'равенство дисперсий по Левене, p_val = {pval}')\n",
    "\n",
    "# теперь можно применять ANOVA\n",
    "pval = stats.f_oneway(tillamook, newport, petersburg, magadan, tvarminne).pvalue\n",
    "print(f'Наличие разности в средних по ANOVA: pval = {pval}')"
   ]
  },
  {
   "cell_type": "code",
   "execution_count": 171,
   "metadata": {
    "hidden": true
   },
   "outputs": [
    {
     "data": {
      "text/plain": [
       "'branch sizes valid p_val = 0.1112'"
      ]
     },
     "execution_count": 171,
     "metadata": {},
     "output_type": "execute_result"
    }
   ],
   "source": [
    "# Хи квадрат критерий. Применение для оценки корректности сплитования аб тестов\n",
    "# Пусть мы запустили a/b/c тест и ожидает сплит трафика поровну между ветками\n",
    "real = [1000, 1070, 980] # если не указывать exp - то массив рассчитан поровну по веткам\n",
    "ht.check_branch_balance(real)"
   ]
  },
  {
   "cell_type": "markdown",
   "metadata": {
    "heading_collapsed": true
   },
   "source": [
    "#### Статистичесие тесты. Симуляции"
   ]
  },
  {
   "cell_type": "code",
   "execution_count": 40,
   "metadata": {
    "hidden": true
   },
   "outputs": [],
   "source": [
    "# Проверяемые ниже стат тесты\n",
    "def stat_test_ttest_greater(metric_arr):\n",
    "    alpha = 0.05\n",
    "    p_value = ht.ttest_calc(metric_arr[0], metric_arr[1], alpha=alpha, alternative='greater')[1]\n",
    "    return int(p_value < alpha)\n",
    "\n",
    "def stat_test_ttest(metric_arr):\n",
    "    alpha = 0.05\n",
    "    p_value = ht.ttest_calc(metric_arr[0], metric_arr[1], alpha=alpha)[1]\n",
    "    return int(p_value < alpha)\n",
    "\n",
    "def stat_test_mannwhitneyu(metric_arr):\n",
    "    alpha = 0.05\n",
    "    _, p_value = mannwhitneyu(metric_arr[0], metric_arr[1])\n",
    "    return int(p_value < alpha)"
   ]
  },
  {
   "cell_type": "code",
   "execution_count": 36,
   "metadata": {
    "hidden": true
   },
   "outputs": [
    {
     "name": "stdout",
     "output_type": "stream",
     "text": [
      "Доверительный интервал ошибок от кол-ва иттераций\n"
     ]
    },
    {
     "data": {
      "text/html": [
       "<div style=\"display: flex; gap: 20px;\"><div><table border=\"1\" class=\"dataframe\">\n",
       "  <thead>\n",
       "    <tr style=\"text-align: right;\">\n",
       "      <th></th>\n",
       "      <th>effect_shift</th>\n",
       "      <th>type I error</th>\n",
       "      <th>type I error conf</th>\n",
       "      <th>type II error</th>\n",
       "      <th>type II error conf</th>\n",
       "    </tr>\n",
       "  </thead>\n",
       "  <tbody>\n",
       "    <tr>\n",
       "      <th>0</th>\n",
       "      <td>0.00</td>\n",
       "      <td>4.6</td>\n",
       "      <td>[2.76, 6.44]</td>\n",
       "      <td></td>\n",
       "      <td></td>\n",
       "    </tr>\n",
       "    <tr>\n",
       "      <th>1</th>\n",
       "      <td>0.01</td>\n",
       "      <td></td>\n",
       "      <td></td>\n",
       "      <td>93.4</td>\n",
       "      <td>[91.22, 95.58]</td>\n",
       "    </tr>\n",
       "    <tr>\n",
       "      <th>2</th>\n",
       "      <td>0.05</td>\n",
       "      <td></td>\n",
       "      <td></td>\n",
       "      <td>79.6</td>\n",
       "      <td>[76.06, 83.14]</td>\n",
       "    </tr>\n",
       "    <tr>\n",
       "      <th>3</th>\n",
       "      <td>0.10</td>\n",
       "      <td></td>\n",
       "      <td></td>\n",
       "      <td>42.2</td>\n",
       "      <td>[37.86, 46.54]</td>\n",
       "    </tr>\n",
       "  </tbody>\n",
       "</table></div> <div><table border=\"1\" class=\"dataframe\">\n",
       "  <thead>\n",
       "    <tr style=\"text-align: right;\">\n",
       "      <th></th>\n",
       "      <th>effect_shift</th>\n",
       "      <th>type I error</th>\n",
       "      <th>type I error conf</th>\n",
       "      <th>type II error</th>\n",
       "      <th>type II error conf</th>\n",
       "    </tr>\n",
       "  </thead>\n",
       "  <tbody>\n",
       "    <tr>\n",
       "      <th>0</th>\n",
       "      <td>0.00</td>\n",
       "      <td>4.85</td>\n",
       "      <td>[3.91, 5.79]</td>\n",
       "      <td></td>\n",
       "      <td></td>\n",
       "    </tr>\n",
       "    <tr>\n",
       "      <th>1</th>\n",
       "      <td>0.01</td>\n",
       "      <td></td>\n",
       "      <td></td>\n",
       "      <td>94.5</td>\n",
       "      <td>[93.5, 95.5]</td>\n",
       "    </tr>\n",
       "    <tr>\n",
       "      <th>2</th>\n",
       "      <td>0.05</td>\n",
       "      <td></td>\n",
       "      <td></td>\n",
       "      <td>80.4</td>\n",
       "      <td>[78.66, 82.14]</td>\n",
       "    </tr>\n",
       "    <tr>\n",
       "      <th>3</th>\n",
       "      <td>0.10</td>\n",
       "      <td></td>\n",
       "      <td></td>\n",
       "      <td>41.6</td>\n",
       "      <td>[39.44, 43.76]</td>\n",
       "    </tr>\n",
       "  </tbody>\n",
       "</table></div> <div><table border=\"1\" class=\"dataframe\">\n",
       "  <thead>\n",
       "    <tr style=\"text-align: right;\">\n",
       "      <th></th>\n",
       "      <th>effect_shift</th>\n",
       "      <th>type I error</th>\n",
       "      <th>type I error conf</th>\n",
       "      <th>type II error</th>\n",
       "      <th>type II error conf</th>\n",
       "    </tr>\n",
       "  </thead>\n",
       "  <tbody>\n",
       "    <tr>\n",
       "      <th>0</th>\n",
       "      <td>0.00</td>\n",
       "      <td>5.58</td>\n",
       "      <td>[4.94, 6.22]</td>\n",
       "      <td></td>\n",
       "      <td></td>\n",
       "    </tr>\n",
       "    <tr>\n",
       "      <th>1</th>\n",
       "      <td>0.01</td>\n",
       "      <td></td>\n",
       "      <td></td>\n",
       "      <td>94.38</td>\n",
       "      <td>[93.74, 95.02]</td>\n",
       "    </tr>\n",
       "    <tr>\n",
       "      <th>2</th>\n",
       "      <td>0.05</td>\n",
       "      <td></td>\n",
       "      <td></td>\n",
       "      <td>78.96</td>\n",
       "      <td>[77.83, 80.09]</td>\n",
       "    </tr>\n",
       "    <tr>\n",
       "      <th>3</th>\n",
       "      <td>0.10</td>\n",
       "      <td></td>\n",
       "      <td></td>\n",
       "      <td>38.88</td>\n",
       "      <td>[37.53, 40.23]</td>\n",
       "    </tr>\n",
       "  </tbody>\n",
       "</table></div> </div>"
      ],
      "text/plain": [
       "<IPython.core.display.HTML object>"
      ]
     },
     "metadata": {},
     "output_type": "display_data"
    }
   ],
   "source": [
    "print('Доверительный интервал ошибок от кол-ва иттераций')\n",
    "df1 = ht.simulate_test(stat_test_ttest, metric_size = 1000, metric_dist = 'normal', effect_range=[0, 0.01, 0.05, 0.1], metric_cnt = 2, iter_cnt = 500)\n",
    "df2 = ht.simulate_test(stat_test_ttest, metric_size = 1000, metric_dist = 'normal', effect_range=[0, 0.01, 0.05, 0.1], metric_cnt = 2, iter_cnt = 2000)\n",
    "df3 = ht.simulate_test(stat_test_ttest, metric_size = 1000, metric_dist = 'normal', effect_range=[0, 0.01, 0.05, 0.1], metric_cnt = 2, iter_cnt = 5000)\n",
    "eda.display_df([df1, df2, df3])"
   ]
  },
  {
   "cell_type": "code",
   "execution_count": 43,
   "metadata": {
    "hidden": true
   },
   "outputs": [
    {
     "name": "stdout",
     "output_type": "stream",
     "text": [
      "t-test; t-test greater; mannwhitneyu\n"
     ]
    },
    {
     "data": {
      "text/html": [
       "<div style=\"display: flex; gap: 20px;\"><div><table border=\"1\" class=\"dataframe\">\n",
       "  <thead>\n",
       "    <tr style=\"text-align: right;\">\n",
       "      <th></th>\n",
       "      <th>effect_shift</th>\n",
       "      <th>type I error</th>\n",
       "      <th>type I error conf</th>\n",
       "      <th>type II error</th>\n",
       "      <th>type II error conf</th>\n",
       "    </tr>\n",
       "  </thead>\n",
       "  <tbody>\n",
       "    <tr>\n",
       "      <th>0</th>\n",
       "      <td>0.00</td>\n",
       "      <td>5.3</td>\n",
       "      <td>[3.91, 6.69]</td>\n",
       "      <td></td>\n",
       "      <td></td>\n",
       "    </tr>\n",
       "    <tr>\n",
       "      <th>1</th>\n",
       "      <td>0.01</td>\n",
       "      <td></td>\n",
       "      <td></td>\n",
       "      <td>93.3</td>\n",
       "      <td>[91.75, 94.85]</td>\n",
       "    </tr>\n",
       "    <tr>\n",
       "      <th>2</th>\n",
       "      <td>0.05</td>\n",
       "      <td></td>\n",
       "      <td></td>\n",
       "      <td>79.8</td>\n",
       "      <td>[77.31, 82.29]</td>\n",
       "    </tr>\n",
       "    <tr>\n",
       "      <th>3</th>\n",
       "      <td>0.10</td>\n",
       "      <td></td>\n",
       "      <td></td>\n",
       "      <td>37.8</td>\n",
       "      <td>[34.79, 40.81]</td>\n",
       "    </tr>\n",
       "  </tbody>\n",
       "</table></div> <div><table border=\"1\" class=\"dataframe\">\n",
       "  <thead>\n",
       "    <tr style=\"text-align: right;\">\n",
       "      <th></th>\n",
       "      <th>effect_shift</th>\n",
       "      <th>type I error</th>\n",
       "      <th>type I error conf</th>\n",
       "      <th>type II error</th>\n",
       "      <th>type II error conf</th>\n",
       "    </tr>\n",
       "  </thead>\n",
       "  <tbody>\n",
       "    <tr>\n",
       "      <th>0</th>\n",
       "      <td>0.00</td>\n",
       "      <td>4.9</td>\n",
       "      <td>[3.56, 6.24]</td>\n",
       "      <td></td>\n",
       "      <td></td>\n",
       "    </tr>\n",
       "    <tr>\n",
       "      <th>1</th>\n",
       "      <td>0.01</td>\n",
       "      <td></td>\n",
       "      <td></td>\n",
       "      <td>91.8</td>\n",
       "      <td>[90.1, 93.5]</td>\n",
       "    </tr>\n",
       "    <tr>\n",
       "      <th>2</th>\n",
       "      <td>0.05</td>\n",
       "      <td></td>\n",
       "      <td></td>\n",
       "      <td>69.2</td>\n",
       "      <td>[66.34, 72.06]</td>\n",
       "    </tr>\n",
       "    <tr>\n",
       "      <th>3</th>\n",
       "      <td>0.10</td>\n",
       "      <td></td>\n",
       "      <td></td>\n",
       "      <td>27.3</td>\n",
       "      <td>[24.54, 30.06]</td>\n",
       "    </tr>\n",
       "  </tbody>\n",
       "</table></div> <div><table border=\"1\" class=\"dataframe\">\n",
       "  <thead>\n",
       "    <tr style=\"text-align: right;\">\n",
       "      <th></th>\n",
       "      <th>effect_shift</th>\n",
       "      <th>type I error</th>\n",
       "      <th>type I error conf</th>\n",
       "      <th>type II error</th>\n",
       "      <th>type II error conf</th>\n",
       "    </tr>\n",
       "  </thead>\n",
       "  <tbody>\n",
       "    <tr>\n",
       "      <th>0</th>\n",
       "      <td>0.00</td>\n",
       "      <td>4.5</td>\n",
       "      <td>[3.21, 5.79]</td>\n",
       "      <td></td>\n",
       "      <td></td>\n",
       "    </tr>\n",
       "    <tr>\n",
       "      <th>1</th>\n",
       "      <td>0.01</td>\n",
       "      <td></td>\n",
       "      <td></td>\n",
       "      <td>94.4</td>\n",
       "      <td>[92.97, 95.83]</td>\n",
       "    </tr>\n",
       "    <tr>\n",
       "      <th>2</th>\n",
       "      <td>0.05</td>\n",
       "      <td></td>\n",
       "      <td></td>\n",
       "      <td>79.4</td>\n",
       "      <td>[76.89, 81.91]</td>\n",
       "    </tr>\n",
       "    <tr>\n",
       "      <th>3</th>\n",
       "      <td>0.10</td>\n",
       "      <td></td>\n",
       "      <td></td>\n",
       "      <td>40.4</td>\n",
       "      <td>[37.35, 43.45]</td>\n",
       "    </tr>\n",
       "  </tbody>\n",
       "</table></div> </div>"
      ],
      "text/plain": [
       "<IPython.core.display.HTML object>"
      ]
     },
     "metadata": {},
     "output_type": "display_data"
    }
   ],
   "source": [
    "print('t-test; t-test greater; mannwhitneyu')\n",
    "df1 = ht.simulate_test(stat_test_ttest, metric_size = 1000, metric_dist = 'normal', effect_range=[0, 0.01, 0.05, 0.1], metric_cnt = 2, iter_cnt = 1000)\n",
    "df2 = ht.simulate_test(stat_test_ttest_greater, metric_size = 1000, metric_dist = 'normal', effect_range=[0, 0.01, 0.05, 0.1], metric_cnt = 2, iter_cnt = 1000)\n",
    "df3 = ht.simulate_test(stat_test_mannwhitneyu, metric_size = 1000, metric_dist = 'normal', effect_range=[0, 0.01, 0.05, 0.1], metric_cnt = 2, iter_cnt = 1000)\n",
    "eda.display_df([df1, df2, df3])"
   ]
  },
  {
   "cell_type": "code",
   "execution_count": 73,
   "metadata": {
    "hidden": true
   },
   "outputs": [
    {
     "name": "stdout",
     "output_type": "stream",
     "text": [
      "Данные с выбросом; T-test VS mannwhitneyu\n"
     ]
    },
    {
     "data": {
      "text/html": [
       "<div style=\"display: flex; gap: 20px;\"><div><table border=\"1\" class=\"dataframe\">\n",
       "  <thead>\n",
       "    <tr style=\"text-align: right;\">\n",
       "      <th></th>\n",
       "      <th>effect_shift</th>\n",
       "      <th>type I error</th>\n",
       "      <th>type I error conf</th>\n",
       "      <th>type II error</th>\n",
       "      <th>type II error conf</th>\n",
       "    </tr>\n",
       "  </thead>\n",
       "  <tbody>\n",
       "    <tr>\n",
       "      <th>0</th>\n",
       "      <td>0.00</td>\n",
       "      <td>0</td>\n",
       "      <td>[0.0, 0.0]</td>\n",
       "      <td></td>\n",
       "      <td></td>\n",
       "    </tr>\n",
       "    <tr>\n",
       "      <th>1</th>\n",
       "      <td>0.01</td>\n",
       "      <td></td>\n",
       "      <td></td>\n",
       "      <td>100</td>\n",
       "      <td>[100.0, 100.0]</td>\n",
       "    </tr>\n",
       "    <tr>\n",
       "      <th>2</th>\n",
       "      <td>0.05</td>\n",
       "      <td></td>\n",
       "      <td></td>\n",
       "      <td>100</td>\n",
       "      <td>[100.0, 100.0]</td>\n",
       "    </tr>\n",
       "    <tr>\n",
       "      <th>3</th>\n",
       "      <td>0.10</td>\n",
       "      <td></td>\n",
       "      <td></td>\n",
       "      <td>100</td>\n",
       "      <td>[100.0, 100.0]</td>\n",
       "    </tr>\n",
       "  </tbody>\n",
       "</table></div> <div><table border=\"1\" class=\"dataframe\">\n",
       "  <thead>\n",
       "    <tr style=\"text-align: right;\">\n",
       "      <th></th>\n",
       "      <th>effect_shift</th>\n",
       "      <th>type I error</th>\n",
       "      <th>type I error conf</th>\n",
       "      <th>type II error</th>\n",
       "      <th>type II error conf</th>\n",
       "    </tr>\n",
       "  </thead>\n",
       "  <tbody>\n",
       "    <tr>\n",
       "      <th>0</th>\n",
       "      <td>0.00</td>\n",
       "      <td>2.1</td>\n",
       "      <td>[1.21, 2.99]</td>\n",
       "      <td></td>\n",
       "      <td></td>\n",
       "    </tr>\n",
       "    <tr>\n",
       "      <th>1</th>\n",
       "      <td>0.01</td>\n",
       "      <td></td>\n",
       "      <td></td>\n",
       "      <td>97.5</td>\n",
       "      <td>[96.53, 98.47]</td>\n",
       "    </tr>\n",
       "    <tr>\n",
       "      <th>2</th>\n",
       "      <td>0.05</td>\n",
       "      <td></td>\n",
       "      <td></td>\n",
       "      <td>88.5</td>\n",
       "      <td>[86.52, 90.48]</td>\n",
       "    </tr>\n",
       "    <tr>\n",
       "      <th>3</th>\n",
       "      <td>0.10</td>\n",
       "      <td></td>\n",
       "      <td></td>\n",
       "      <td>56.5</td>\n",
       "      <td>[53.42, 59.58]</td>\n",
       "    </tr>\n",
       "  </tbody>\n",
       "</table></div> </div>"
      ],
      "text/plain": [
       "<IPython.core.display.HTML object>"
      ]
     },
     "metadata": {},
     "output_type": "display_data"
    }
   ],
   "source": [
    "print('Данные с выбросом; T-test VS mannwhitneyu')\n",
    "def metric_dist(scale, loc, size): \n",
    "    # примесь выбросов = 10%\n",
    "    if isinstance(size, tuple): # a/a batch\n",
    "        size_outl = (int(0.1 * size[0]), size[1]) \n",
    "    else:\n",
    "        size_outl = int(0.1 * size) # a/b branch\n",
    "    return np.append(np.random.normal(loc = loc, scale=scale, size=size), np.random.normal(loc=500, size=size_outl))\n",
    "\n",
    "df1 = ht.simulate_test(stat_test_ttest, metric_size = 1000, metric_dist = metric_dist, effect_range=[0, 0.01, 0.05, 0.1], metric_cnt = 2, iter_cnt = 1000)\n",
    "df2 = ht.simulate_test(stat_test_mannwhitneyu, metric_size = 1000, metric_dist = metric_dist, effect_range=[0, 0.01, 0.05, 0.1], metric_cnt = 2, iter_cnt = 1000)\n",
    "eda.display_df([df1, df2])"
   ]
  },
  {
   "cell_type": "code",
   "execution_count": 89,
   "metadata": {
    "hidden": true
   },
   "outputs": [
    {
     "name": "stdout",
     "output_type": "stream",
     "text": [
      "6 гипотез, pair tests = no adj, FDR adj, FWER adj; ANOVA\n"
     ]
    },
    {
     "data": {
      "text/html": [
       "<div style=\"display: flex; gap: 20px;\"><div><table border=\"1\" class=\"dataframe\">\n",
       "  <thead>\n",
       "    <tr style=\"text-align: right;\">\n",
       "      <th></th>\n",
       "      <th>effect_shift</th>\n",
       "      <th>type I error</th>\n",
       "      <th>type I error conf</th>\n",
       "      <th>type II error</th>\n",
       "      <th>type II error conf</th>\n",
       "    </tr>\n",
       "  </thead>\n",
       "  <tbody>\n",
       "    <tr>\n",
       "      <th>0</th>\n",
       "      <td>0.00</td>\n",
       "      <td>60.7</td>\n",
       "      <td>[57.67, 63.73]</td>\n",
       "      <td></td>\n",
       "      <td></td>\n",
       "    </tr>\n",
       "    <tr>\n",
       "      <th>1</th>\n",
       "      <td>0.10</td>\n",
       "      <td></td>\n",
       "      <td></td>\n",
       "      <td>3</td>\n",
       "      <td>[1.94, 4.06]</td>\n",
       "    </tr>\n",
       "    <tr>\n",
       "      <th>2</th>\n",
       "      <td>0.15</td>\n",
       "      <td></td>\n",
       "      <td></td>\n",
       "      <td>0</td>\n",
       "      <td>[0.0, 0.0]</td>\n",
       "    </tr>\n",
       "  </tbody>\n",
       "</table></div> <div><table border=\"1\" class=\"dataframe\">\n",
       "  <thead>\n",
       "    <tr style=\"text-align: right;\">\n",
       "      <th></th>\n",
       "      <th>effect_shift</th>\n",
       "      <th>type I error</th>\n",
       "      <th>type I error conf</th>\n",
       "      <th>type II error</th>\n",
       "      <th>type II error conf</th>\n",
       "    </tr>\n",
       "  </thead>\n",
       "  <tbody>\n",
       "    <tr>\n",
       "      <th>0</th>\n",
       "      <td>0.00</td>\n",
       "      <td>3.9</td>\n",
       "      <td>[2.7, 5.1]</td>\n",
       "      <td></td>\n",
       "      <td></td>\n",
       "    </tr>\n",
       "    <tr>\n",
       "      <th>1</th>\n",
       "      <td>0.10</td>\n",
       "      <td></td>\n",
       "      <td></td>\n",
       "      <td>45.3</td>\n",
       "      <td>[42.21, 48.39]</td>\n",
       "    </tr>\n",
       "    <tr>\n",
       "      <th>2</th>\n",
       "      <td>0.15</td>\n",
       "      <td></td>\n",
       "      <td></td>\n",
       "      <td>7.2</td>\n",
       "      <td>[5.6, 8.8]</td>\n",
       "    </tr>\n",
       "  </tbody>\n",
       "</table></div> </div>"
      ],
      "text/plain": [
       "<IPython.core.display.HTML object>"
      ]
     },
     "metadata": {},
     "output_type": "display_data"
    },
    {
     "data": {
      "text/html": [
       "<div style=\"display: flex; gap: 20px;\"><div><table border=\"1\" class=\"dataframe\">\n",
       "  <thead>\n",
       "    <tr style=\"text-align: right;\">\n",
       "      <th></th>\n",
       "      <th>effect_shift</th>\n",
       "      <th>type I error</th>\n",
       "      <th>type I error conf</th>\n",
       "      <th>type II error</th>\n",
       "      <th>type II error conf</th>\n",
       "    </tr>\n",
       "  </thead>\n",
       "  <tbody>\n",
       "    <tr>\n",
       "      <th>0</th>\n",
       "      <td>0.00</td>\n",
       "      <td>2.9</td>\n",
       "      <td>[1.86, 3.94]</td>\n",
       "      <td></td>\n",
       "      <td></td>\n",
       "    </tr>\n",
       "    <tr>\n",
       "      <th>1</th>\n",
       "      <td>0.10</td>\n",
       "      <td></td>\n",
       "      <td></td>\n",
       "      <td>45.8</td>\n",
       "      <td>[42.71, 48.89]</td>\n",
       "    </tr>\n",
       "    <tr>\n",
       "      <th>2</th>\n",
       "      <td>0.15</td>\n",
       "      <td></td>\n",
       "      <td></td>\n",
       "      <td>6.7</td>\n",
       "      <td>[5.15, 8.25]</td>\n",
       "    </tr>\n",
       "  </tbody>\n",
       "</table></div> <div><table border=\"1\" class=\"dataframe\">\n",
       "  <thead>\n",
       "    <tr style=\"text-align: right;\">\n",
       "      <th></th>\n",
       "      <th>effect_shift</th>\n",
       "      <th>type I error</th>\n",
       "      <th>type I error conf</th>\n",
       "      <th>type II error</th>\n",
       "      <th>type II error conf</th>\n",
       "    </tr>\n",
       "  </thead>\n",
       "  <tbody>\n",
       "    <tr>\n",
       "      <th>0</th>\n",
       "      <td>0.00</td>\n",
       "      <td>5.3</td>\n",
       "      <td>[3.91, 6.69]</td>\n",
       "      <td></td>\n",
       "      <td></td>\n",
       "    </tr>\n",
       "    <tr>\n",
       "      <th>1</th>\n",
       "      <td>0.10</td>\n",
       "      <td></td>\n",
       "      <td></td>\n",
       "      <td>50.1</td>\n",
       "      <td>[47.0, 53.2]</td>\n",
       "    </tr>\n",
       "    <tr>\n",
       "      <th>2</th>\n",
       "      <td>0.15</td>\n",
       "      <td></td>\n",
       "      <td></td>\n",
       "      <td>10.2</td>\n",
       "      <td>[8.32, 12.08]</td>\n",
       "    </tr>\n",
       "  </tbody>\n",
       "</table></div> </div>"
      ],
      "text/plain": [
       "<IPython.core.display.HTML object>"
      ]
     },
     "metadata": {},
     "output_type": "display_data"
    }
   ],
   "source": [
    "# Гипотеза: среди группы веток x1,x2,.. xn есть хотя бы одна с отличным средним\n",
    "# сравниваем попарный t-test с коррекцией; ANOVA \n",
    "# множественные сравнения без коррекции и с коррекцией\n",
    "print('6 гипотез, pair tests = no adj, FDR adj, FWER adj; ANOVA')\n",
    "def stat_test_pair_ttest_no_adj(metric_arr):\n",
    "    pval_list = []\n",
    "    metric_cnt = len(metric_arr)\n",
    "    for i in range(metric_cnt):\n",
    "        for j in range(metric_cnt):\n",
    "            if i > j:\n",
    "                pval_list.append(ht.ttest_calc(metric_arr[i], metric_arr[j])[1])\n",
    "    return int(sum([int(j < 0.05) for j in pval_list]) > 0)\n",
    "\n",
    "\n",
    "def stat_test_pair_ttest_fwer(metric_arr):\n",
    "    pval_list = []\n",
    "    metric_cnt = len(metric_arr)\n",
    "    for i in range(metric_cnt):\n",
    "        for j in range(metric_cnt):\n",
    "            if i > j:\n",
    "                pval_list.append(ht.ttest_calc(metric_arr[i], metric_arr[j])[1])\n",
    "    pval_list = ht.multitest_calc(pval_list, alpha_type = 'fwer')[1] # holm\n",
    "    return int(sum([int(j < 0.05) for j in pval_list]) > 0)\n",
    "\n",
    "def stat_test_pair_ttest_fdr(metric_arr):\n",
    "    pval_list = []\n",
    "    metric_cnt = len(metric_arr)\n",
    "    for i in range(metric_cnt):\n",
    "        for j in range(metric_cnt):\n",
    "            if i > j:\n",
    "                pval_list.append(ht.ttest_calc(metric_arr[i], metric_arr[j])[1])\n",
    "    pval_list = ht.multitest_calc(pval_list, alpha_type = 'fdr')[1] # bh\n",
    "    return int(sum([int(j < 0.05) for j in pval_list]) > 0)\n",
    "\n",
    "\n",
    "def stat_test_anova(metric_arr):\n",
    "    pval = stats.f_oneway(*metric_arr).pvalue\n",
    "    return int(pval < 0.05)\n",
    "\n",
    "init_dict = {'metric_size' : 1000, 'metric_dist' : 'normal', 'effect_range' : [0, 0.1, 0.15], 'metric_cnt' : 10, 'iter_cnt' : 1000}\n",
    "\n",
    "df0 = ht.simulate_test(stat_test_pair_ttest_no_adj, **init_dict)\n",
    "df1 = ht.simulate_test(stat_test_pair_ttest_fdr, **init_dict)\n",
    "df2 = ht.simulate_test(stat_test_pair_ttest_fwer, **init_dict)\n",
    "df3 = ht.simulate_test(stat_test_anova, **init_dict)\n",
    "eda.display_df([df0, df1])\n",
    "eda.display_df([df2, df3])"
   ]
  },
  {
   "cell_type": "code",
   "execution_count": null,
   "metadata": {
    "hidden": true
   },
   "outputs": [],
   "source": []
  },
  {
   "cell_type": "markdown",
   "metadata": {
    "heading_collapsed": true
   },
   "source": [
    "#### Множественные критерии"
   ]
  },
  {
   "cell_type": "markdown",
   "metadata": {
    "hidden": true
   },
   "source": [
    "Частично описаны в тетради AB.  \n",
    "Когда мы принимаем решение на базе одного тесте T_statistic -> p_value  \n",
    "то ошибка первого рода (FPR = ложный прокрас) = alpha. Например alpha = 5%.    \n",
    "Если мы принимаем решение на базе нескольких тестов Decision = f(p_value1, p_value2, ... p_value_N)  \n",
    "возникает проблема множественного выбора - шанс что в группе хотя бы один тест ложно прокрасится растет.  \n",
    "FWER = Family wise error rate = вероятность найти хотя бы один ложный прокрас в группе из N тестов.  \n",
    "FWER = 1 - (1 - alpha)^N ~ alpha * N >> alpha для больших N. Если мы хотим ошибаться на группе  \n",
    "Пример: a/b/c/d тест где выбираем лучшую ветку, здесь N - кол-во всех попарных сравнений тестов.  \n",
    "  \n",
    "FDR = False Discovery Rate = доля ложных прокрасов среди всех прокрасов. Более мягкое условие:  \n",
    "готовы ошибаться  с вероятностью >alpha, но среди всех инсайтов хотим контролировать долю ложных.  \n",
    "Полезно, когда например делаем N тестов и мягко фильтруем из них K удачных в которых будет контролироваться  \n",
    "доля ложных тестов. Дальше эти тесты можно исследовать отдельно. Если же мы хотим сразу минимизировать риск  \n",
    "выбора ложного кандидата (например, когда ищем \"самый лучший вариант для прода\") - то лучше контролировать  \n",
    "более консервативный FWER.  \n",
    "  \n",
    "Итак, имеем выборку результатов тестов p_val1, p_val2, ... p_valN и хотим контролировать либо FWER, либо FDR.  \n",
    "Для этого имеются следующие поправки:  \n",
    "    \n",
    "<u>Основные идеи данных поправок</u>  \n",
    "1. Поправка Бонферрони. Контроль FWER. \n",
    "alpha_adj = alpha/N (или p_val = p_val * N)  \n",
    "Идея в том что при N большос FWER = 1 - (1 - alpha)^N ~ N * alpha -> FWER(alpha_adj) ~ alpha.  \n",
    "Жесткая потому что пессимизирует все p_val в массива одинаково не ориентируясь на их величины.  \n",
    "  \n",
    "  \n",
    "2. Поправка Холма. Контроль FWER для слабозависимых тестов.  \n",
    "Ранжируем все тесты по возрастанию: p_val1, ... p_val_N, назначаем ранги i.    \n",
    "Для каждого теста i: p_val_i_adj = p_val_i * (N - i + 1) и сравниваем с обычным alpha.   \n",
    "Тоже самое: сохраняя p_val, корректируем значимость alpha_i = alpha / (N - i + 1).  \n",
    "Можно доказать что FWER = 1 - (1 - alpha1) * (1 - alpha2) * ... <= alpha.    \n",
    "\n",
    "\n",
    "В итоге: Бонферрони контролирует малость p_val срезая равномерно мощность всем тестам.  \n",
    "Холм использует метод, где срезает мощность больше там где p_val меньше (строже проверяет наиболее  \n",
    "близкие к прокрасу тесты). Если тестов много или они сильно зависимые, то Холм консервативен, лучше переходить к FDR.  \n",
    "\n",
    "  \n",
    "3. Поправка Бенджамини-Хохберга. Контроль FDR  \n",
    "аналогично сортируем p_val1, ... p_valN по возрастанию -> назначаем ранги i.  \n",
    "Далее для каждого теста i: p_val_adj = N/i * p_val.  \n",
    "Данная коррекция контролирует итоговый FDR(p_val_adj_list) < alpha.  \n",
    "  \n",
    "PS. Поправки Холма и Хохберга универсальны для любых множественных сравнений.  \n",
    "Для более узких задач (например когда есть нормальность и гипотезы о сравнении средних) есть более  \n",
    "локально мощные поправки - например Тьюкки который контролирует FWER для задачи ANOVA.  "
   ]
  },
  {
   "cell_type": "code",
   "execution_count": 45,
   "metadata": {
    "hidden": true
   },
   "outputs": [
    {
     "name": "stdout",
     "output_type": "stream",
     "text": [
      "decision, no correction: [False, False, False, False, True, False]\n",
      "decision, bonferroni correction: [False, False, False, False, True, False]\n",
      "decision, holm correction: [False, False, False, False, True, False]\n",
      "decision, bh correction: [False, False, False, False, True, False]\n"
     ]
    }
   ],
   "source": [
    "# три версии сайта с разными метриками:\n",
    "a, b, c, d = np.random.normal(1, 1, 500), np.random.normal(1, 1, 600), np.random.normal(1.1, 1, 650), np.random.normal(1.1, 1, 670)\n",
    "p_val_list = []\n",
    "for i in (a, b, c, d): # попарные сравнения всех тестов друг с другом\n",
    "    for j in (a, b, c, d):\n",
    "        if len(i) > len(j):\n",
    "            p_val_list.append(ht.ttest_calc(i, j)[1])\n",
    "\n",
    "alpha = 0.05\n",
    "print(f'decision, no correction: {[j<alpha for j in p_val_list]}')\n",
    "print(f'decision, bonferroni correction: {[j<alpha/len(p_val_list) for j in p_val_list]}')\n",
    "print(f\"\"\"decision, holm correction: {list(ht.multitest_calc(p_val_list, alpha_type = 'fwer')[0])}\"\"\")\n",
    "print(f\"\"\"decision, bh correction: {list(ht.multitest_calc(p_val_list, alpha_type = 'fdr')[0])}\"\"\")\n",
    "\n",
    "# "
   ]
  },
  {
   "cell_type": "markdown",
   "metadata": {
    "heading_collapsed": true
   },
   "source": [
    "#### Преобразования к нормальному распределению. Box-Cox"
   ]
  },
  {
   "cell_type": "markdown",
   "metadata": {
    "hidden": true
   },
   "source": [
    "https://www.youtube.com/watch?v=D3AKcOun29s\n",
    "\n",
    "---\n",
    "Дано 1: Пусть у нас есть случ величина Y, которая как то распределена.  \n",
    "Цель: найти преобразование Y_transform = f(Y) которое будет распределено нормально.  \n",
    "Дано 2: У нас есть последовательность случайных величин Y_i (например, временной ряд или случ. вектор зависящий от ковариат i)  \n",
    "Цель: Сопоставить ему последовательность Y_transfrom_i с постоянной относительно i дисперсией (стабильной, получить гомоскедастичный ряд)  \n",
    "  \n",
    "(1) Основа Box-Cox преобразований - логарифрование log(Y)  \n",
    "Идея: логарифм быстро растет для малых Y и медленно для больших - то есть сжимает расстояния между точками log(Y) для больших Y.  \n",
    "Это приводит к устранению длинных хвостов вероятностных распределений (так как если раньше были бины Y=100 и Y=1000, то log(100) ~ 4, log(1000)~6.\n",
    "  \n",
    "Аналогично сглаживание работает для достижения гомоскедастичности. Если для больших i множество Y_i имеет большой разброс,  \n",
    "то log(Y_i) будет его сжимать. Аналогично, множества с малым разбросом алгоритм аффектит слабее.  \n",
    "Стабилизация дисперсий по сути = сглаживание хвостов, но по другой оси.  \n",
    "  \n",
    "(2) Cкорость роста log(Y) определяется производной и равна 1/Y. Понятно, что иногда это будет работать хорошо,  \n",
    "но для некоторых распределений (напр, экспоненциального) - логарифм убывает очень быстро при y->0  \n",
    "  \n",
    "(3) Отсюда мысль: нам нужно преобразование f(Y) скорость роста которого будет 1/Y^s, p<1  \n",
    "Тогда для малых Y функция роста будет медленнее, а для больших - быстрее -> сглаживаем дисбаланс логарифма.  \n",
    "По сути s - параметр, управляющих насколько быстрее должна расти f в зоне малых Y относительно больших.  \n",
    "df/dY = 1/Y^s -> интегрируем и получаем f. Получим f = (Y^p - 1) / p, где p = 1 - s. f = Box-Cox transform.  \n",
    "  \n",
    "Далее для нужного распределения Y, мы подбираем p по методу макс правдоподобия.  \n",
    "То есть получаем Y_transform = f(Y, p) ~ N(mu, std) = N(p), так как mu, std будут зависеть от p  \n",
    "Далее likehood(N(p)) -> max -> находим p при котором вероятность получить текущие данные при распределении N(p)  \n",
    "максимальна."
   ]
  },
  {
   "cell_type": "code",
   "execution_count": 27,
   "metadata": {
    "hidden": true
   },
   "outputs": [
    {
     "data": {
      "image/png": "[encoded data removed]",
      "text/plain": [
       "<Figure size 576x144 with 3 Axes>"
      ]
     },
     "metadata": {
      "needs_background": "light"
     },
     "output_type": "display_data"
    }
   ],
   "source": [
    "# (1) пример сжатия хвоста и как выглядит скорость роста логарифмической кривой\n",
    "Y = 100 * [1] + 50 * [2] + 20 * [10] + 10 * [100] + 5 * [500]\n",
    "Y_tr = np.log(Y); Y_log = np.log(np.arange(1, 100)) \n",
    "fig, ax = plt.subplots(nrows=1, ncols=3, figsize=(8, 2))\n",
    "ax[0].hist(Y, bins=10); ax[1].hist(Y_tr, bins=10); ax[2].plot(Y_log); plt.show()"
   ]
  },
  {
   "cell_type": "code",
   "execution_count": 29,
   "metadata": {
    "hidden": true
   },
   "outputs": [
    {
     "data": {
      "image/png": "[encoded data removed]",
      "text/plain": [
       "<Figure size 576x144 with 2 Axes>"
      ]
     },
     "metadata": {
      "needs_background": "light"
     },
     "output_type": "display_data"
    }
   ],
   "source": [
    "# (2) чистое логарифмирование не идеально выравнивает хвосты экспоненц распределение, \n",
    "# так как ЛОГАРИФМ УБЫВАЕТ ОЧЕНЬ БЫСТРО ПРИ Y->0 (образуется обратный хвост)\n",
    "y_logn = np.random.lognormal(mean=1, sigma=1, size=1000)\n",
    "y_exp = np.random.exponential(scale=1, size=1000)\n",
    "fig, ax = plt.subplots(nrows=1, ncols=2, figsize=(8, 2))\n",
    "ax[0].hist(np.log(y_logn), bins=10); ax[1].hist(np.log(y_exp), bins=10); plt.show()"
   ]
  },
  {
   "cell_type": "code",
   "execution_count": 48,
   "metadata": {
    "hidden": true
   },
   "outputs": [
    {
     "name": "stdout",
     "output_type": "stream",
     "text": [
      "lambda = 0.26612198525253433\n"
     ]
    },
    {
     "data": {
      "image/png": "[encoded data removed]",
      "text/plain": [
       "<Figure size 288x144 with 1 Axes>"
      ]
     },
     "metadata": {
      "needs_background": "light"
     },
     "output_type": "display_data"
    }
   ],
   "source": [
    "# (3) boxcox преобразование автоматически по likehood находит нужное lmbda (оно же p)\n",
    "y_exp = np.random.exponential(scale=1, size=1000)\n",
    "y_transform, lmbda = boxcox(y_exp); print(f'lambda = {lmbda}')\n",
    "fig, ax = plt.subplots(nrows=1, ncols=1, figsize=(4, 2))\n",
    "ax.hist(y_transform); plt.show()"
   ]
  },
  {
   "cell_type": "markdown",
   "metadata": {
    "heading_collapsed": true
   },
   "source": [
    "#### Метод максимального правдоподобия"
   ]
  },
  {
   "cell_type": "markdown",
   "metadata": {
    "hidden": true
   },
   "source": [
    "https://www.youtube.com/watch?v=bxHHxNsnRQs&list=PLCf-cQCe1FRycw91L5669T4Krk7_sS9WY&index=5\n",
    "  \n",
    "<u>Описание метода</u>  \n",
    "Пусть имеется совокупность X, хотим по случайной выборке Xn оценить неизвестный параметр tetta (статистику).  \n",
    "То есть хотим получить tetta_est по выборке Xn такое чтобы оценка была    \n",
    "ассимптотически несмещенной, состоятельной (сходилась по вероятности к tetta), эффективной  \n",
    "  \n",
    "Функция правдоподобия L = L(x1, ... xn, tetta) = вероятность извлечь данную выборку x1, ... xn  \n",
    "из совокупности X, если бы у совокупности распределение частот было бы F = F(x, tetta).  \n",
    "  \n",
    "Метод максимального правдоподобия (ММП, MLE = max likelihood):  \n",
    "Оценка tetta_est которая максимизирует правдоподобие L(x1, ... xn, tetta_est) -> max  \n",
    "является оценкой для tetta, которая при достаточно общих условиях обладает ассимптотической  \n",
    "несмещенностью, состоятельностью и эффективностью (последнее чуть реже). Об условиях см ниже.  \n",
    " \n",
    "<u>Расчет функции правдоподобия</u>  \n",
    "Пусть f(x, tetta) - плотность вероятности (или функция для дискретного распределения) получать x.  \n",
    "Тогда L(x1, ... xn, tetta) = f(x1, ... xn | tetta) =  f(x1|tetta) * ... f(xn|tetta), т.к x1, ... xn - i.i.d  \n",
    "Максимизация функции может выполняться через производную ее логарифма:  \n",
    "d_lnL/d_tetta = grad(lnL) = 0 -> SUM(d_ln(f(xi)) / d_tetta) = 0 -> корень уравнения tetta_est.  \n",
    "Если tetta = несколько статистик (например mu, std) -> решаем систему дифф уравнений относительно них.  \n",
    "  \n",
    "<u>Условия для получения хороших оценок по MLE</u>  \n",
    "Для ассимптотической состоятельности tetta_est по MLE необходимы условия:  \n",
    "- исходная совокупность имеет конечное tetta (например, распределение Коши не имеет матожидания)  \n",
    "- функция ln(L) гладкая, имеет единственный глобальный максимум  \n",
    "- функция L имеет предел при n->inf (это выполняется при выборке i.i.d и std<inf)  \n",
    "\n",
    "На деле это выполняется в подавляющем большинстве случаев. Аналогично при широких допущениях  \n",
    "выполняются условия ассимптотической несмещенности.  \n",
    "  \n",
    "<u>Оценка параметра p в схеме Бернулли через MLE</u>  \n",
    "Распределение Бернулли, x = (1, 0) = (p, 1 - p). Хотим оценить p. Выборка x_pool = x1, ... xn  \n",
    "f(1) = p; f(0) = 1 - p -> L = f(x1, ... xn | mu) = p^sum(x_pool) * (1 - p)^(n - sum(x_pool))  \n",
    "Дальше делаем d(lnL)/dp = 0, долго решаем и получаем p_est = sum(x_pool)/n = среднее.  \n",
    "Данная оценка - ассимптотически состоятельна для Бернулли.  \n",
    "  \n",
    "<u>Свойства оценок по MLE</u>  \n",
    "- ассимптотическая состоятельность и несмещенность при широких условиях\n",
    "- инвариантность, всегда (если tetta_est оценка для tetta, то g(tetta_est) - оценка для g(tetta))\n",
    "- ассимптотическая нормальность\n",
    "  \n",
    "Ассимптотическая нормальность доказывается так. tetta_est - это корень уравнения grad(logL) = 0  \n",
    "logL при больших n распределени нормально, как сумма логарифмов по отдельным семплам.  \n",
    "Дальше мы можем разложить grad(logL) в ряд Тейлора вблизи 0 и получить формулу для tetta_est:  \n",
    "tetta_est = func(gradlogL, grad2logL). Пренебрегая более старшими производными.  \n",
    "Производные нормального распределения распределены нормально -> можно в итоге получить tetta_est ~ N  \n",
    "причем можно показать что var(tetta_est) = func(grad2logL) -> усредняя по выборке как раз перейти к информации Фишера.  \n",
    "  \n",
    "<u>Ассимптотическое поведение правдоподобия</u>  \n",
    "При n -> inf: L(x1, ... xn | tetta) -> 0 (падает вероятность получить конкретно такую комбинацию чисел в выборке)  \n",
    "При этом вторая производная abs(grad2(L)) будет расти -> будет расти выпуклость функции L в районе экстремума.  \n",
    "Значит, что дисперсия выборочной оценки tetta_est из уравнения grad(L) = 0 будет уменьшаться.  \n",
    "Данное свойство отражает теорема Рао-Крамера: var(tetta_est) >= 1 / (n * -grad2L)  \n",
    "  \n",
    "<u>Информация Фишера</u>  \n",
    "Правдоподобие L = L(x1, ... xn, tetta) зависит от нашей выборки. Фиксируем выборку x1, ... xn, тогда  \n",
    "выборочное Ln = Ln(tetta). Тогда если данная Ln(tetta) имеет острый пик, значит небольшое изменение  \n",
    "параметра tetta уже сильно сказывается на вероятности извлечь данную выборку x1, ... xn.  \n",
    "Обратный крайний кейс: Ln(tetta) = const, значит данная выборка может быть получена при любых  \n",
    "tetta, а значит выборка x1, ... xn содержит **мало информации** позволяющей судить о tetta.  \n",
    "  \n",
    "Как правило, с ростом выборки n, функция Ln(tetta) становится все более резкой вокруг максимума.  \n",
    "Растет информативность нашей выборки.  \n",
    "  \n",
    "Уже знаем что logL = SUM(logL_i), где L_i = L(xi|tetta).  \n",
    "L_i - вклад в функцию правдоподобия каждого нового наблюдения. Чем более оно выпуклое около максимума,  \n",
    "тем более информативное, так как добавляет рост чувствительности в оценке максимума.  \n",
    "I = -d^2(logL)/d_tetta2 = -grad2(L) - информация Фишера (вторая производная по правдоподобию семпла)  \n",
    "Если tetta - вектор с несколькими статистиками, получаем матрицу I_ij = - d^2logL / d_tetta_i_tetta_j  \n",
    "Для i.i.d выборки I(x1, ... xn) = sum(I(xi)) - так как адитивность log(L) и второй производной.  \n",
    "Поэтому информация Фишера по выборке x1, ... xn это n * I(tetta) - где I(tetta) - ср инфа по одной точке.  \n",
    "  \n",
    "Среднее по выборке I(tetta) = I(f, tetta) = **ожидаемая** информация, которую вносит  \n",
    "в правдоподобие среднее дополнительное наблюдение. Зависеть будет от модели f - вероятностного распределения.  \n",
    "Ожидаемая информация I = насколько быстро с добавлением новых элементов в выборку уточняется наша оценка tetta  \n",
    "для конкретных моделей распределения f(x, tetta)  \n",
    "Скорость уточнения оценки = эффективность оценки на имеющихся данных. Информация Фишера позволяет  \n",
    "искать эффективные оценки - неравенство Рао-Крамера. var(tetta_est) >= 1 / I(x1 ... xn) = 1 / I(tetta) * n.   \n",
    "Для разных исходных tetta, I(tetta) разная -> на имеющейся выборке n точность оценок tetta_est будет разная.  \n",
    "(!) Ожидаемая информация I(tetta) - это усредненная по всем выборкам информация. При численной оценке нужно семплирование.   \n",
    "  \n",
    "<u>Построение дов интервалов с MLE</u>  \n",
    "Итак, выяснили что оценка по MLE это tetta_est которая максимизирует правдоподобие L.  \n",
    "При этом для больших n tetta_est ассимптотически нормальная с распределением N(tetta_est, 1/I(tetta_est))  \n",
    "Следует из ассимптотической сходимости var(tetta_est) к границе Рао-Крамера.  \n",
    "Отсюда уже после рассчета I(tetta_est) легко найти дов интервалы для нужных значимостей."
   ]
  },
  {
   "cell_type": "code",
   "execution_count": 72,
   "metadata": {
    "hidden": true
   },
   "outputs": [
    {
     "name": "stdout",
     "output_type": "stream",
     "text": [
      "6.181307309991782\n"
     ]
    }
   ],
   "source": [
    "# оцениваем информацию Фишера I aka вклад одного семпла в рост крутизны пика logL\n",
    "# при накоплении кол-ва семплов n крутизна пика aka информативность = устойчивость оценок растет как n * I\n",
    "I_exp_list = []\n",
    "n = 5 # размер выборки\n",
    "tetta = 0.8 # реальный параметр распределения\n",
    "grad_step = 0.01\n",
    "idx = np.argmin(np.abs(tetta_est - tetta)) # для оценки инфы Фишера в точке экстремума\n",
    "for j in range(100):\n",
    "    x = np.random.binomial(1, tetta, size = n) # схема бернулли\n",
    "    tetta_est = np.arange(0.1, 1.05, grad_step) # диапазон оцениваемых tetta\n",
    "    logL = n * np.mean(x) * np.log(tetta_est) + n * (1 - np.mean(x)) * np.log(1 - tetta_est)\n",
    "    gradL = np.gradient(logL, grad_step)\n",
    "    I_exp_pool = -np.gradient(gradL, grad_step) # выборочная вторая производная для оценки инфо Фишера\n",
    "    I_exp_list.append(I_exp_pool[idx])\n",
    "print(np.mean(I_exp_list) / n)"
   ]
  },
  {
   "cell_type": "code",
   "execution_count": 75,
   "metadata": {
    "hidden": true
   },
   "outputs": [
    {
     "name": "stdout",
     "output_type": "stream",
     "text": [
      "Абсолютное значение L ожидаемо падает с ростом n; градиент логарифма имеет экстремум в tetta\n"
     ]
    },
    {
     "data": {
      "image/png": "[encoded data removed]",
      "text/plain": [
       "<Figure size 1080x288 with 6 Axes>"
      ]
     },
     "metadata": {
      "needs_background": "light"
     },
     "output_type": "display_data"
    }
   ],
   "source": [
    "# Пример правдоподобия для схемы Бернулли\n",
    "i = 0\n",
    "ax = eda.get_subplots(size=(15, 4), rows=2, cols=3)\n",
    "tetta = 0.8\n",
    "print('Абсолютное значение L ожидаемо падает с ростом n; градиент логарифма имеет экстремум в tetta')\n",
    "for n in (10, 50):\n",
    "    \n",
    "    x = np.random.binomial(1, tetta, size = n) # схема бернулли\n",
    "    tetta_est = np.arange(0.1, 1.05, 0.05)\n",
    "    \n",
    "    # функция правдоподобия = вер-сть получить эту выборку при tetta = tetta_est (x1e6 для масштаба)\n",
    "    L = [1e6 * (t ** (sum(x))) * ((1 - t) ** (n - sum(x))) for t in tetta_est]\n",
    "        \n",
    "    # аналитическая лог функция для праводоподобия\n",
    "    logL = n * np.mean(x) * np.log(tetta_est) + n * (1 - np.mean(x)) * np.log(1 - tetta_est)\n",
    "        \n",
    "    # минимизируем для поиска оценки\n",
    "    gradL = np.gradient(logL, 0.05)\n",
    "    \n",
    "    eda.make_plot('line', {'ax' : ax[i,0], 'x' : tetta_est, 'y' : L, 'title' : f'L в масштабе 1e6, n={n}'})\n",
    "    eda.make_plot('line', {'ax' : ax[i,1], 'x' : tetta_est, 'y' : logL, 'title' : f'logL, n={n}'})\n",
    "    eda.make_plot('line', {'ax' : ax[i,2], 'x' : tetta_est, 'y' : abs(gradL), 'title' : f'abs(grad(logL)), n={n}'})\n",
    "    i+=1"
   ]
  },
  {
   "cell_type": "code",
   "execution_count": null,
   "metadata": {
    "hidden": true
   },
   "outputs": [],
   "source": []
  },
  {
   "cell_type": "code",
   "execution_count": null,
   "metadata": {
    "hidden": true
   },
   "outputs": [],
   "source": []
  },
  {
   "cell_type": "markdown",
   "metadata": {
    "heading_collapsed": true
   },
   "source": [
    "#### Частотный и байесовский статистические подходы"
   ]
  },
  {
   "cell_type": "markdown",
   "metadata": {
    "hidden": true
   },
   "source": [
    "https://education.yandex.ru/handbook/ml/article/bajesovskij-podhod-k-ocenivaniyu\n",
    "https://ux-journal.ru/bayesian-testing.html\n",
    "\n",
    "Классическая задача статистики - по имеющейся выборке Xn сделать вывод о генеральной совокупности X.  \n",
    "Это могут быть закон распределения, параметры в законе и пр. Давайте считать что мы по выборке Xn пытаемся  \n",
    "оценить параметр tetta = статистику по X (ср, дисперсию и пр). Пример: хотим оценить средний рост человека.  \n",
    "\n",
    "  \n",
    "<u>ДВА СТАТИСТИЧЕСКИХ ПОДХОДА</u>  \n",
    "  \n",
    "1. Частотный.  \n",
    "X - неизвестный реальный ряд, не случ величина.    \n",
    "f(x, tetta) - плотность вероятности - реальное распределение частот нахождения разных x внутри ряда X  \n",
    "tetta = const - оцениваемый параметр распределения f(x, tetta) - не случ величина.  \n",
    "Xn - <u>случайная</u> выборка элементов из X. Таким образом Xn - случ величина.  \n",
    "Полагая tetta_est -> вероятность извлечения выборки Xn из распределения частот f(x, tetta_est)  \n",
    "Это будет правдоподобием L = L(Xn, tetta_est). tetta_est = argmax(L).  \n",
    "Выборочные частоты fn(x) при n -> inf сходятся к классическим f(x).  \n",
    "По ЦПТ получим оценку tetta_est с хорошими асимптотическими свойствами.  \n",
    "L = L(xn, tetta) -> случ величина; tetta_est = argmax(L(xn, tetta)) - тоже случайная величина.  \n",
    "Соответственно получаем распределение tetta_est и ее интервальные оценки\n",
    "  \n",
    "  \n",
    "2. Байесовский (вероятностный)  \n",
    "Выборка Xn - не случайная величина, а фиксированная эмпирическая данность.  \n",
    "tetta - <u>случайная величина</u>. Мы не знаем истинную функцию частот -> неопределенность = вероятность.  \n",
    "Ген. совокупность X - тоже случайная, для выборки Xn возможны разные порождающие X с разными вероятностями.  \n",
    "Для вычисления оценок tetta_est используется апостериорное распределение p(tetta | x1, ... xn)    \n",
    "По формуле Байеса: p(tetta | Xn) = p(tetta) * p(Xn | tetta) / Const  \n",
    "p(tetta) - априорное знание (начальное предположение о распределении tetta).  \n",
    "p(Xn | tetta) - та же функция правдоподобия, что и в частотном подходе  \n",
    "Для оценок tetta_est максимизация апостериорной вероятности по формуле Байеса приводит к  \n",
    "аналогичной максимизации функции правдоподобия.\n",
    "  \n",
    "  \n",
    "PS. Байесовский подход более интуитивен, так как мы в обычной жизни также обновляем нашу  \n",
    "уверенность о некотором событии исходя из накапливаемого опыта.  \n",
    "\n",
    "---  \n",
    "<u>ПРИМЕР С ОЦЕНКОЙ РОСТА ЧЕЛОВЕКА</u>  \n",
    "1. Частотный  \n",
    "Есть все имеющиеся люди - X. Их средний рост tetta - конкретное число, неизвестное. F(X, tetta) - частоты.  \n",
    "Отсюда знаю вероятности получать конкретные x - значения роста у случайного человека.  \n",
    "Для выборки размера n знаю что по ЦПТ средневыборочное - <u>случайная величина</u> -   \n",
    "будет распределена нормально. Из этого считаю доверительный интервал - это такие два числа, которые если  \n",
    "я буду их считать по аналогичным выборкам много раз - в 95% случаях включают реальное tetta.  \n",
    "  \n",
    "  \n",
    "2. Байесовский  \n",
    "Есть люди - X, их средний рост (СВ) распределен как F(x, tetta) - это наша уверенность в том какой он.  \n",
    "Без всяких априорных знаний F(x, tetta) = uniform(-inf, inf)    \n",
    "Добавляем априорное знание: люди не выше 3 метров, рост не отрициательный: F = uniform(0, 3)  \n",
    "Накапливаем выборку Xn, утоняем наши знания F -> F_next ... в конце приходим к более  \n",
    "релевантному нашим знаниям распределению вероятностей = уверенностей в tetta.  \n",
    "Пересчет F -> F_next построен на теореме Байеса и часто аналитически сложен.  \n",
    "Здесь доверительный интервал - два числа, отсекающие 95% вероятностной массы финального F\n",
    "\n",
    "---\n",
    "<u>ТЕОРЕМА БАЙЕСА</u>  \n",
    "Мы знаем что вероятность совместного наступления двух событий P(AB) = P(A|B) * P(B) = P(B|A) * P(A)  \n",
    "Отсюда P(A|B) = P(B|A) * P(A) / P(B) = P(B|A) * P(A) / SUM(P(B|Ai) * P(Ai))  \n",
    "Последняя сумма - это разложение P(B) по базису всех возможных предварительных событий Ai.  \n",
    "  \n",
    "Данная формула позволяет в оценке параметра по имеющимся данным переходить из априорного в апостериорную форму  \n",
    "P(tetta|x) = P(x|tetta) * P(tetta) / Integral(p(x|tetta) * p(tetta) * d_tetta  \n",
    "  \n",
    "Теперь можно задать априорную форму распределения p(tetta) - наше суждение о распределении параметра  \n",
    "без наличия информации из данных, посчитать правдоподобие, а также полное правдоподобие (интеграл) и  \n",
    "получить формулу для вычисления апостериорного распределения для tetta.  \n",
    "  \n",
    "---\n",
    "<u>АПРИОРНАЯ ИНФОРМАЦИЯ</u>  \n",
    "Итак, для наших данных x и оцениваемого параметра tetta мы получили, что  \n",
    "p(tetta|x) = p(x|tetta) * p(tetta) / p(x)  \n",
    "Множитель p(x) по сути нормирует формулу приводя вероятность в диапазон 0, 1.  \n",
    "При этом p(tetta) влияет на конечное значение p(tetta|x) - однако его влияние падает с ростом данных n.  \n",
    "Это объясняется тем, что при n -> inf правдоподобие L = p(x|tetta) становится все более узким около   \n",
    "реального tetta и статичный спектр p(tetta) перестает сильно влиять на форму итоговой кривой.  \n",
    "  \n",
    "Однако, на малых выборках вид кривой p(tetta) может сильно определять исходную апостериорную кривую.  \n",
    "\n",
    "---\n",
    "<u>ПРИМЕР С ВЕРОЯТНОСТЯМИ</u>  \n",
    "Допустим у нас есть данные x = x1, .. xn и мы оцениваем параметр tetta.  \n",
    "Хотим ответить на вопрос - какая вероятность что tetta > a? Т.е посчитать P(tetta>a|x)  \n",
    "В частотном подходе: полагая tetta = const -> получаем распределение tetta_est(x1, ... xn).  \n",
    "Но это распределение оценок при каком то tetta. Дов. интервалы - это случ числа такие, что  \n",
    "в N% выборок x1 ... xn они накрывают реальное значение tetta. Про вероятность tetta ничего нет.  \n",
    "  \n",
    "А в байесовском подходе посчитаем прямо f(tetta) -> можно будет найти шанс что tetta > a.  \n",
    "\n",
    "---\n",
    "<u>РАБОТА С АПОСТЕРИОРНЫМИ РАСПРЕДЕЛЕНИЯМИ</u>  \n",
    "Итак, мы ищем распределение f(tetta|x). Мы задали априорное распределение f_prior(tetta) и дальше считаем:  \n",
    "f_posterior(tetta|x) = f(x|tetta) * f_prior(tetta) / Integral(f(x|t) f_prior(t) dt)  \n",
    "Если интеграл считать оч сложно, то можно его отбросить, так как это константа не зависящая от tetta,  \n",
    "и просто максимизировать функцию f(tetta|x) с точностью до множителя - при этом норм искать tetta_est.  \n",
    "  \n",
    "Aposterior_prob_hist = Likelihood * Aprior_prob_dist / Const  \n",
    "ln(aposterior) = ln(likelihood) + ln(aprior)  \n",
    "С ростом объема выборки вклад ln(likelihood) увеличивается по сравнению с априорным знанием  \n",
    "(действительно для i.i.d ln(likelihood_n) = ln(likelihood_n-1) + ln(likelinooh_1)\n",
    "\n",
    "---\n",
    "Аналитически вычислять апостериорные распределения можно для узкого семейства функций вероятности.  \n",
    "Например, для схемы бернулли или нормальных распределений. После вычисления можно получать формулу  \n",
    "апостериорной вероятности наступления некоторого события при условии что произошли x1, x2 ... xn  \n",
    "событий до этого (и смотреть динамику накопления).  \n",
    "Пример: хотим оценивать вероятность поставить лайк коммменту при условии что ему уже поставили x лайков  \n",
    "и y дизлайков. Априорное распределение f_apr = U(0, 1); правдоподобие через схему Бернулли,  \n",
    "полное правдоподобие (знаменатель). - выражается через Бетта функцию. Для пары (x,y) можем легко  \n",
    "получить f_aposterior -> дов интервалы, среднее и любые статистики.  \n",
    "  \n",
    "Если плотность вероятности имеет более сложный закон - то сложно интегрировать полное правдоподобие ->  \n",
    "апостериорная вероятность с точностью до константы (полезно для точечных оценок, но не более того)  \n",
    "  \n",
    "<u>MCMC алгоритмы для семплирования апостериорной вероятности</u>  \n",
    "https://www.youtube.com/watch?v=xTW-ysw0HIE&list=PLCf-cQCe1FRwiYgceWhZL3AkDhJzSLkEU&index=9  \n",
    "MCMC = markov chain monte carlo.  \n",
    "Итак, у нас есть выборка x1, ... xn  \n",
    "Имеем статистику tetta, наше априорное знание о форме ее распределения f_prior(tetta)  \n",
    "Likelihood = L(x|tetta) = f(x1|tetta) * ... * f(xn|tetta)  \n",
    "Тогда f_posterior(tetta|x)  = L(x|tetta) * f_prior(tetta) / Integral(L(X|t) * f_prior(t) dt)  \n",
    "Integral сложно посчитать аналитически и часто сложно посчитать эффективно численно.  \n",
    "  \n",
    "Альтернативный путь - симуляция через марковские цепи (**MCMC**)  \n",
    "Введем функцию f_unnormalized_posterior = f_up = L(x|tetta) * f_prior(tetta)  \n",
    "Тогда f_posterior = f_up / Integral(f_up(t) dt)  \n",
    "Задаем изначальное tetta, инициируем список tetta_list - будущая цепь.  \n",
    "Строим цепь Маркова: tetta' = prop(tetta) - см ниже, например tetta' = tetta + eps  \n",
    "Вычисляем r = f_up(tetta') / f_up(tetta) - на сколько tetta' лучше tetta описывает ситуацию  \n",
    "Добавляем tetta' в наш tetta_list с вероятностью p_add = min(1, r)  \n",
    "\n",
    "Делаем следующий шаг итд - получаем tetta_list - цепь Маркова, где следующий шаг зависит только от предыдущего.  \n",
    "tetta_list = tetta_list(N:) - отбрасываем первые значения (несколько тысяч для разогрева)  \n",
    "остальное - и есть целевое распределение f_posterior(tetta) который хотим получить  \n",
    "  \n",
    "Proposal_function = prop(tetta) - правило по которому генерим следующее значение  \n",
    "влияет на скорость сходимости алгоритма. tetta' = tetta + eps частный случай  \n",
    "Если здесь ассиметричная функция - то MCMC надо модифицировать итд.  \n",
    "\n",
    "Алгоритм сошелся к целевому распределению, когда получаемая цепь Маркова сошлась к стационарному ряду  \n",
    "(см тетрадку Time Series)  \n",
    "  \n",
    "PS. Алгоритм построен на теореме о сходимости цепи Маркова.  \n",
    "Пусть у нас есть возможные состояния y1, ... ym в которых может оказаться x на каждом шаге цепи.  \n",
    "Пусть они как то вероятностно распределены p_y1, p_y2, ...  \n",
    "Тогда если цепь не циклична, все состояния p_yi достижимы спустя сколько-то шагов из любых других состояний,  \n",
    "то при n -> inf вероятность спустя столько шагов из x достигнуть yi сходится к p_yi.\n",
    "\n",
    "---\n",
    "<u>Байесовские методы и нейронные сети</u>  \n",
    "https://habr.com/ru/companies/yandex/articles/321434/  \n",
    "Нейронная сеть по сути это система, обладающая набором весов, которая принимает семплы и возвращает таргет.  \n",
    "Задача обучения в классическом варианте - это задача поиска оптимальных весов на тренировочном датасете.  \n",
    "В Байесовской парадигме можно представить ее так:  \n",
    "-- у весов есть априорное распределение f_prior.  \n",
    "-- правдоподобие - вероятность получить данные таргеты от датасета на данных весах  \n",
    "-- мы ищем апостериор f_post - распределение вероятностей для весов при условии что получены train-таргеты.  \n",
    "  \n",
    "f_post ~ f_prior * likelyhood  \n",
    "Кроме того возможен удобный стекинг моделей - когда f_post на выходе одной - это f_prior на вход другой.  \n",
    "Модели как бы уточняют информацию касательно распределения вероятностей весов.  \n",
    "Также задавая разный f_prior - возможно ввести регуляризацию нейросети, контролируя переобучения  \n",
    "drop out метод (когда сигнал от нейрона берется с вероятностью p) - частный случай регуляризации  \n",
    "Подробнее про классический стекинг см. в тетрадке \"ML\"  \n",
    "  \n",
    "При обучении байесовских моделей используется вариационные методы - это быстрее хоть и менее точно, чем  \n",
    "вычислять f_post через MCMC или другие подобные методы. Пример вариационного приближения:  \n",
    "пусть у нас f_post = f(w|D), w - веса модели, D - тренировочные данные = const.  \n",
    "Пытаемся найти такую функцию f_post_aprox = f(w), чтобы div(f_post, f_post_aprox) -> 0 (близки).  \n",
    "При этом f_post_aprox -известная аналитически функция, например нормальное распр N(mu1, ... std1, .. w1, ...)  \n",
    "Варьируя mu-std параметры - ищем оптимум чтобы интегральное произведение по весам w было близко.  \n",
    "  \n",
    "div - мера расстояния между распределениями, т.е чем ближе f(x) к g(x) - тем ближе div(f,g) к нулю.  \n",
    "Один из вариантов подобного расстояния - дивергенция Кульбака-Лейблера KL.  \n",
    "KL = intergal(f * log(f / g) dx.  log(f / g) = log f - log g. То есть считается интегральная разница  \n",
    "в логарифмическом масштабе - при этом множитель f - аналог веса, то есть оцениваем отличие g от f в лог  \n",
    "машстабе в точках где существенное значение вероятности f. В данном случае мы проверяем насколько  \n",
    "функция g аппроксимирует распределение f"
   ]
  },
  {
   "cell_type": "code",
   "execution_count": null,
   "metadata": {
    "hidden": true
   },
   "outputs": [],
   "source": []
  },
  {
   "cell_type": "markdown",
   "metadata": {
    "heading_collapsed": true
   },
   "source": [
    "#### Бутстрап"
   ]
  },
  {
   "cell_type": "markdown",
   "metadata": {
    "hidden": true
   },
   "source": [
    "https://habr.com/ru/companies/X5Tech/articles/679842/  ; https://habr.com/ru/articles/762648/  \n",
    "Имеем случайную величину X и хотим оценить ее статистику T = T(X) на генеральной совокупности.  \n",
    "Нам доступна выборка Xn длины n из данной совокупности. Tn = T(Xn) - выборочная статистика.  \n",
    "В общем случае мы можем не знать закона распределения T для случайной величины X.  \n",
    "  \n",
    "<u>Семплирование выборки</u>  \n",
    "Xn -> X_s (случайная подвыборка длины Xn с возвращением, чтобы сохранять изначальное распределение) извлекается iter раз.  \n",
    "При достаточно большом n выборка Xn репрезентативна X -> Ts = T(X_s) распределение проксирует закон распределения T.  \n",
    "Это следует из ЦПТ. Если n слишком мало, то возникает кризис репрезентативности выборки.  \n",
    "В итоге имея распределение Ts - мы можем получать оценки, например доверительные интервалы или квантили для оценки T.  \n",
    "При малом n все многообразие генеральной совокупности X не будет захвачено - оценки могут получиться зауженными.  \n",
    "Одна из проблем бутстрапа - плохая точность оценок старших квантилей - там мало данных.  \n",
    "  \n",
    "<u>Гиперпараметры бутстрапа</u>  \n",
    "Два основных гиперпараметра - размер семлпируемой выборки s = len(Xs) и количество иттераций iter.  \n",
    "Размер выборки максимально имеет смысл брать len(Xn) или меньше. При len(Xs) = len(Xn) можно показать, что  \n",
    "в выборку Xs будут попадать примерно 63% всех элементов Xn (вероятность элемента не попасть в выборку (1-1/n)^n  \n",
    "сходится к 1/e ~ 37%). Можно брать меньше, если выборка большая. Кол-во иттераций iter обычно 10^3-10^4  \n",
    "от величины зависит точность перцентильных оценок -> устойчивость оцениваемых квантилей распределения.  \n",
    "Чем выше (iter, s) при условии что s < len(Xn) - тем меньше дисперсия квантилей оценок. \n",
    "  \n",
    "<u>Смещение на малых выборках</u>  \n",
    "https://math.montana.edu/jobo/thainp/boot.pdf ; https://garstats.wordpress.com/2018/01/23/bias-correction/  \n",
    "Итак, у нас есть исходная совокупность X и T = T(X) которую хотим оценить.  \n",
    "Когда мы имеем выборку Xn то, в разных случаях это будет какое то (неизвестное нам) распределение Tn = T(Xn)  \n",
    "и статистика Tn будет смещена от T на случайное delta = T - Tn. При больших n: delta ~ 0, но если n не достаточно большое  \n",
    "(но при этом достаточное для ЦПТ) то Xn иногда будет смещенное на bias = T - Tn и все семплирования Ts также будут смещены.  \n",
    "  \n",
    "Если же семплировать выборки n и вычислять boot_bias = Ts - T(Xn), то получится смоделировать данное исходное смещение boot_delta ~ delta.  \n",
    "Итак, систематическое смещение bias = T(Xn) - avg(Ts); тогда T_adj_s = Ts - bias = Ts - Tn + avg(Ts)  \n",
    "Распределение T_adj_s центрируется на boot_delta и снижает смещение оценок. Имеет смысл при n < 100-200, дальше bias ~ 0.  \n",
    "\n",
    "<u>Бутстрап Пуассона</u>  \n",
    "https://www.unofficialgoogledatascience.com/2015/08/an-introduction-to-poisson-bootstrap26.html  \n",
    "Хотим быстро семплировать с возвращением Xs из Xn где len(Xs) = len(Xn)  \n",
    "Для выборки длины N элемент x появится в повторной выборке Xs: stats.binom.rvs(N, p=1/N) раз  \n",
    "При N -> inf: stats.binom.rvs(N, 1/N) -> stats.poisson.rvs(mu=N * 1/N = 1)  \n",
    "То есть при семплировании достаточно больших исходных выборок, можно осуществлять  \n",
    "это семплирование поэлементно с весами Пуассоновского распределения.  \n",
    "Само распределение можно обсчитать заранее и использовать для разных статистик.  \n",
    "Т.е если у нас есть выборка Xn = a1 a2 a3 ... an, то можно ей противопоставить  \n",
    "P = p1 p2 ... pn; pi = сколько раз в среднем в нашей выборке будет элемент i.  \n",
    "Т.к mu=1 -> sum(P) ~ len(Xn); pi = веса каждого элемента в вычисляемой статистике."
   ]
  },
  {
   "cell_type": "code",
   "execution_count": 173,
   "metadata": {
    "hidden": true
   },
   "outputs": [],
   "source": [
    "# Пуассон vs Стандартный бутстрап. необходимые для сравнения метрики\n",
    "metric_1 = np.random.normal(1, 1, 10**4); metric_2 = np.random.normal(4, 1, 10**4); n_iter = 10**4\n",
    "# генерируем заранее пуассоновские веса\n",
    "X1 = np.random.poisson(lam=1, size=(n_iter, len(metric_1))); X2 = np.random.poisson(lam=1, size=(n_iter, len(metric_2)))"
   ]
  },
  {
   "cell_type": "code",
   "execution_count": 181,
   "metadata": {
    "hidden": true
   },
   "outputs": [
    {
     "data": {
      "text/plain": [
       "((2.973293868920504, 3.0278056044237065), array([2.97286445, 3.05147821]))"
      ]
     },
     "execution_count": 181,
     "metadata": {},
     "output_type": "execute_result"
    }
   ],
   "source": [
    "# Пуассон vs Стандартный бутстрап. сравнение результатов\n",
    "ht.bootstrap_calc(metric_1, metric_2, iter = n_iter)[0], ht.bootstrap_poisson_calc(metric_1, metric_2, n_iter, X1, X2)"
   ]
  },
  {
   "cell_type": "code",
   "execution_count": 175,
   "metadata": {
    "hidden": true
   },
   "outputs": [
    {
     "name": "stdout",
     "output_type": "stream",
     "text": [
      "3.96 s ± 224 ms per loop (mean ± std. dev. of 7 runs, 1 loop each)\n"
     ]
    }
   ],
   "source": [
    "%%timeit\n",
    "ht.bootstrap_calc(metric_1, metric_2, iter=n_iter)"
   ]
  },
  {
   "cell_type": "code",
   "execution_count": 179,
   "metadata": {
    "hidden": true
   },
   "outputs": [
    {
     "name": "stdout",
     "output_type": "stream",
     "text": [
      "1.27 s ± 354 ms per loop (mean ± std. dev. of 7 runs, 1 loop each)\n"
     ]
    }
   ],
   "source": [
    "%%timeit\n",
    "ht.bootstrap_poisson_calc(metric_1, metric_2, n_iter, X1, X2)"
   ]
  },
  {
   "cell_type": "code",
   "execution_count": 51,
   "metadata": {
    "hidden": true
   },
   "outputs": [
    {
     "name": "stdout",
     "output_type": "stream",
     "text": [
      "real mu diff = 2.0110857208898487\n",
      "boot mu diff = [1.9238 2.098 ]\n",
      "adj boot mu diff = [1.9264 2.0995]\n"
     ]
    }
   ],
   "source": [
    "# Коррекция смещения на малых выборках\n",
    "n = 1000 # при малых числах видна коррекция, при n>100-200 разницы почти нет\n",
    "X, Y = np.random.normal(1, 1, n), np.random.normal(3, 1, n)\n",
    "print(f'real mu diff = {np.mean(Y) - np.mean(X)}')\n",
    "print(f'boot mu diff = {np.round(ht.bootstrap_calc(X, Y, stat_func=np.mean)[0], 4)}')\n",
    "print(f'adj boot mu diff = {np.round(ht.bootstrap_calc(X, Y, stat_func=np.mean, adj_small=True)[0], 4)}')"
   ]
  },
  {
   "cell_type": "markdown",
   "metadata": {
    "heading_collapsed": true
   },
   "source": [
    "#### Корреляции"
   ]
  },
  {
   "cell_type": "markdown",
   "metadata": {
    "hidden": true
   },
   "source": [
    "В разделе \"Случайные величины\" обсудили что для двух случайных величин X, Y:  \n",
    "var(X + Y) = var(X) + var(Y) + 2 * M((X - M(X))(Y - M(Y)) = var(X) + var(Y) + 2 * cov(X, Y)  \n",
    "cov - совместная вариация двух случайных величин  \n",
    "Когда X, Y - независимы, M(X * Y) = M(X) * M(Y) -> cov(X, Y) = 0  \n",
    "При этом обратное неверно: X, Y могут быть зависимы нелинейно, но линейная ковариация будет 0  \n",
    "\n",
    "<u>Корреляция Пирсона</u>  \n",
    "pearson_corr(X, Y) = cov(X, Y) / sqrt(var(X)var(Y)) - безразмерная величина, -1 <= pearson_corr <= 1  \n",
    "Геометрическая интерпретация: X, Y - два случайных вектора, var(X) = |X|^2 ...  \n",
    "Тогда pearson_corr = cos(alpha_X_Y) = (X, Y) / |X| * |Y|  \n",
    "Выборочный коэффициент корреляции pearson_corr_pooled распределен по R-распределению Фишера  \n",
    "Для больших n форма распределения медленно сходится к нормальной.  \n",
    "  \n",
    "<u>Корреляция Спирмена</u>  \n",
    "Непараметрический ранговый аналог - spearman_corr(X, Y) = pearson_corr(R_x, R_y), где R - ранги случайных величин.  \n",
    "Этот критерий поиска корреляции менее мощный (так как теряется часть информации), однако более устойчив  \n",
    "к выбросам и отклонениям от строго линейной зависимости.  \n",
    "Формула spearman_corr = func(n, dR); n, dR - размер выборки и разность рангов  \n",
    "может быть получена из pearson_corr(R_x, R_y) если поработать с суммами рангов и квадратами значений.  \n",
    "  \n",
    "<u>Корреляция Кендалла</u>  \n",
    "Аналог корреляции Спирмена, но построенный не на рангах, а на согласованности пар (что то вроде критерия знаков)  \n",
    "Пары значений (x1, y1) и (x2, y2) считаются согласованными, если при x2>x1 следует y2>y1 и наоборот.  \n",
    "С = кол-во конкордантных пар (то есть согласованных), D - кол-во дискордантных пар (обратно согласованных)  \n",
    "kendall_corr = (C - D) / (C + D). Если зависимость монотонная, то либо D ~ 0 (возрастание) либо C ~ 0 (убывание)  \n",
    "В этом случае kendall_corr = 1. Если зависимости нет, то C ~ D и коэффициент нулевой.  \n",
    "Больше заточен на общую монотонность чем на линейную зависимость, обладает лучшей мощностью для малых выборок.  "
   ]
  },
  {
   "cell_type": "code",
   "execution_count": 28,
   "metadata": {
    "hidden": true
   },
   "outputs": [
    {
     "data": {
      "image/png": "[encoded data removed]",
      "text/plain": [
       "<Figure size 432x288 with 1 Axes>"
      ]
     },
     "metadata": {
      "needs_background": "light"
     },
     "output_type": "display_data"
    }
   ],
   "source": [
    "x = np.arange(100); y = 0.08 * x**3 + np.random.normal(0, 1000, len(x))\n",
    "s, p, k = np.round((spearmanr(x, y).correlation, pearsonr(x, y)[0], kendalltau(x, y).correlation), 2)\n",
    "eda.make_plot('line', {'x' : x, 'y' : y, 'title' : f'pearson = {p}, spearman = {s}, kendall = {k}'})"
   ]
  },
  {
   "cell_type": "markdown",
   "metadata": {
    "hidden": true
   },
   "source": [
    "<u>Mutual information</u>  \n",
    "https://www.kaggle.com/code/ryanholbrook/mutual-information  \n",
    "(аналогичный материал есть в тетрадке ML в разделе с feature selection)  \n",
    "    \n",
    "---\n",
    "При оценки приоритетов новых признаков - можно пробовать оценить насколько от данных признаков зависит таргет.  \n",
    "Если зависимость отсутствует, то признак будет бесполезен для обучения модели.  \n",
    "Коэф. корреляции полезен, но показывает только линейную взаимосвязь (частный случай)\n",
    "  \n",
    "Более общий инструмент - Mutual Information (MI) = насколько знание о переменной X увеличивает знание  \n",
    "о переменной Y (общая функция взаимосвязи X, Y).  \n",
    "MI = SUM_xy(p(x,y) * log(p(x,y)/p(x)p(y))   \n",
    "Здесь p(x), p(y) - вероятности = частоты появления значений переменных x, y  \n",
    "p(x,y) = частота появления пары x,y в датасете (= совместная вероятность)  \n",
    "  \n",
    "!!! Формула выводится из концепции MI = S(X) - S(X|Y) = чистая энтропия X - энтропия при условии Y.  \n",
    "Т.е мы оцениваем как меняется мера информации, когда добавляем в систему знание про Y.\n",
    "  \n",
    "Реализация расчета MI в sklearn позволяет работать с дискретными и непрерывными величинами, эмулируя распределение вероятностей p(x, y). Оценку можно вести через kNN - находим для каждой точки K соседей, оцениваем в каком это  \n",
    "радиусе - плотность po = 1/r (т е прям физически по плотности точек оцениваем распредление)  \n",
    "PS. Если значения X - дискретные, то p(x,y) вычисляется прямо и здесь не нужен kNN.  \n",
    "Для проблемы одинаковых расстояний в KNN используется случайный шум в X - поэтому для стабильного вывода надо фиксировать random_state. mutual_info_classif - для дискретного <u>таргета</u>,  \n",
    "а mutual_info_regression для непрерывного. При этом в обеих сценариях X - может содержать непрерывные признаки.     Дискретность можно задавать через опцию  discrete_features  \n",
    "\n",
    "<u>Применимость MI</u>  \n",
    "1. MI помогает оценить изолированно информативность X для понимания Y (оценивает любые взаимосвязи)\n",
    "2. При этом НЕ учитывает, что в связке X+Z+... могут иметь объясняющую способность для Y (MI = univariate)\n",
    "3. В зависимости от модели признак может иметь разную значимость - не обязательно высокую (т.е MI = потенциал)"
   ]
  },
  {
   "cell_type": "code",
   "execution_count": null,
   "metadata": {
    "hidden": true
   },
   "outputs": [],
   "source": [
    "from sklearn.feature_selection import mutual_info_classif, mutual_info_regression\n",
    "# генерация данных с разными зависимостями\n",
    "y = np.random.choice([1,2,3,4, 5], 60, replace=True)\n",
    "inc = np.random.choice([1, 2,3,4,5], 60, replace=True)\n",
    "df = pd.DataFrame({'y' : y, 'x1' : y**2 + 15, 'x2': 2 * y + 13, 'x3' : y+inc, 'x4' : inc})\n",
    "dfx = df.drop(columns='y')\n",
    "\n",
    "# оценки через регрессию (непрерывный таргет) и классификацию (дискретный)\n",
    "mi_regr = pd.DataFrame({'features' : dfx.columns, 'mi': mutual_info_regression(dfx, y, random_state=1)})\n",
    "mi_class = pd.DataFrame({'features' : dfx.columns, 'mi': mutual_info_classif(dfx, y, random_state=1)})\n",
    "display(HTML(f\"<div style='display: flex;'><div style='margin-right: 20px;'>{mi_regr.to_html()}</div><div>{mi_class.to_html()}</div></div>\"))"
   ]
  },
  {
   "cell_type": "markdown",
   "metadata": {
    "heading_collapsed": true
   },
   "source": [
    "#### Регрессионный анализ"
   ]
  },
  {
   "cell_type": "markdown",
   "metadata": {
    "hidden": true
   },
   "source": [
    "<u>Линейная регрессия*</u>  \n",
    "Также см раздел про регрессию на страницу \"Causal inference & AB\"  \n",
    "\n",
    "Y = A + BX + Err    \n",
    "A, B - сдвиг и наклон кривой; Err - остатки (ошибка интерполяции кривой и данных)  \n",
    "L = Loss_func(E) - функция потерь, минимизация которой и дает аппроксимацию A,B.  \n",
    "\n",
    "Метод наименьших квадратов (OLS) минимизирует сумму квадратов остатков E = Y_approx - Y.  \n",
    "График остатков позволяет судить насколько хорошо удалось провести аппроксимацию.   \n",
    "Линейная регрессия сильно связана с понятием корреляции. Минимизация дает коэффициенты:  \n",
    "$B = r_{xy} s_y s_x $  \n",
    "$A = Y_m - B X_m $\n",
    "\n",
    "R^2 = 1 - SS_err / SS_total - **коэффициент детерминации** для линейной модели.  \n",
    "Объясняет какая доля собственной дисперсии признака \"объяснена\" моделью.  \n",
    "SS = Sum Squares.  \n",
    "SS_total - дисперсия Y относительно своего среднего.  \n",
    "SS_err - сумма квадратов остатков типа (Y_estimate-Y)  \n",
    "Можно показать, что R^2 = r_xy^2 "
   ]
  },
  {
   "cell_type": "code",
   "execution_count": null,
   "metadata": {
    "hidden": true
   },
   "outputs": [],
   "source": [
    "import statsmodels.api as sm\n",
    "# данные для однофакторного метода\n",
    "x = np.array(range(1, 11))\n",
    "y = 2 * x + 3\n",
    "df = pd.DataFrame({'y' : y, 'x' : x})\n",
    "X, Y = df['x'], df['y']\n",
    "df['x'], df['y'] = X, Y\n",
    "Y = Y.apply(lambda x: x + 1*np.random.randint(5)) # noise\n",
    "\n",
    "X=sm.add_constant(X) # добавляем поиск ненулевого пересечения\n",
    "result = sm.OLS(Y, X).fit()\n",
    "print(result.summary())\n",
    "# check coefs\n",
    "df['x'], df['y']= X.x, Y \n",
    "df.plot.scatter(x='x', y='y')\n",
    "plt.plot(df.x.values, result.params.x * df.x.values + result.params.const)\n",
    "plt.title(f\"\"\"slope = {round(result.params.x,2)}, intersect = {round(result.params.const,2)}, R_sq = {round(result.rsquared, 3)}\"\"\")\n",
    "plt.grid();"
   ]
  },
  {
   "cell_type": "code",
   "execution_count": null,
   "metadata": {
    "hidden": true
   },
   "outputs": [],
   "source": [
    "text = f\"\"\"F = ss_explained / ss_not_explained\n",
    "Значимость объясненной дисперсии остатков по F-критерию  pval={round(result.f_pvalue, 6)}\n",
    "pval для t-теста проверки гипотезы равенства нулю параметров регрессии:\n",
    "slope - {round(result.pvalues.x, 6)}, intersect - {round(result.pvalues.x, 6)}\"\"\"\n",
    "print(text)"
   ]
  },
  {
   "cell_type": "code",
   "execution_count": null,
   "metadata": {
    "hidden": true
   },
   "outputs": [],
   "source": [
    "# экстраполяция с погрешностями\n",
    "x_for_predict = [3,4,5]\n",
    "result.get_prediction(sm.add_constant(x_for_predict)).summary_frame(alpha=0.05)"
   ]
  },
  {
   "cell_type": "code",
   "execution_count": null,
   "metadata": {
    "hidden": true
   },
   "outputs": [],
   "source": []
  },
  {
   "cell_type": "code",
   "execution_count": null,
   "metadata": {
    "hidden": true
   },
   "outputs": [],
   "source": []
  },
  {
   "cell_type": "code",
   "execution_count": null,
   "metadata": {
    "hidden": true
   },
   "outputs": [],
   "source": []
  }
 ],
 "metadata": {
  "kernelspec": {
   "display_name": "Python 3",
   "language": "python",
   "name": "python3"
  },
  "language_info": {
   "codemirror_mode": {
    "name": "ipython",
    "version": 3
   },
   "file_extension": ".py",
   "mimetype": "text/x-python",
   "name": "python",
   "nbconvert_exporter": "python",
   "pygments_lexer": "ipython3",
   "version": "3.7.3"
  },
  "toc": {
   "base_numbering": 1,
   "nav_menu": {},
   "number_sections": false,
   "sideBar": true,
   "skip_h1_title": false,
   "title_cell": "Table of Contents",
   "title_sidebar": "Contents",
   "toc_cell": false,
   "toc_position": {},
   "toc_section_display": true,
   "toc_window_display": false
  },
  "varInspector": {
   "cols": {
    "lenName": 16,
    "lenType": 16,
    "lenVar": 40
   },
   "kernels_config": {
    "python": {
     "delete_cmd_postfix": "",
     "delete_cmd_prefix": "del ",
     "library": "var_list.py",
     "varRefreshCmd": "print(var_dic_list())"
    },
    "r": {
     "delete_cmd_postfix": ") ",
     "delete_cmd_prefix": "rm(",
     "library": "var_list.r",
     "varRefreshCmd": "cat(var_dic_list()) "
    }
   },
   "types_to_exclude": [
    "module",
    "function",
    "builtin_function_or_method",
    "instance",
    "_Feature"
   ],
   "window_display": false
  }
 },
 "nbformat": 4,
 "nbformat_minor": 5
}
