{
 "cells": [
  {
   "cell_type": "markdown",
   "metadata": {},
   "source": [
    "https://medium.com/user-research/never-ask-what-they-want-3-better-questions-to-ask-in-user-interviews-aeddd2a2101e  \n",
    "[userinterviews.com/ux-research-field-guide-module/ux-research-basics](http://userinterviews.com/ux-research-field-guide-module/ux-research-basics)  \n",
    "https://www.nngroup.com/articles/  \n",
    "https://gopractice.ru/course/growth/front/task/1221906 \n",
    "\n",
    "---\n",
    "<u>Проблема генерации фичей для продукта без user research</u>  \n",
    "  \n",
    "Ключевая задача продукта - успешно решать определенную задачу (или задачи) стоящие перед клиентом  \n",
    "в определенном контексте событий (см jobs to be done).  \n",
    "Основные понятия фреймворка - задача (job), контекст и добавочная ценность относительно конкурентов.  \n",
    "\n",
    "По мере развития компании - она часто отдаляется от пользователя и начинает оптимизировать   \n",
    "абстрактный продукт, что приводит к ухудшению product-market fit для пользователей.  \n",
    "\n",
    "Пути приоритезации улучшений продукта:\n",
    "1. Только на основе метрик - плохая идея. Если у нас есть список гипотез -  \n",
    "то можно почти каждую \"подогнать\" под идею о том, что  она может улучшить  \n",
    "некоторую метрику (например, конверсию либо ARPU)  \n",
    "2. На основе понимания задачи и добавочной ценности (см ниже) - лучший вариант.  \n",
    "Гипотезы и идеи не должны идти вразрез с создаваемой добавочной ценностью продукта, которая  \n",
    "субъективна и зависит только от пользователя.\n",
    "\n",
    "---\n",
    "<u>UX research techniques</u>  \n",
    "  \n",
    "- UX researches helps to generate and filter hypothesis for AB testing\n",
    "- We can be closer to “Jobs to be done” concept, finding useful user values\n",
    "\n",
    "- customer interviews\n",
    "- polls, NPS\n",
    "- data analysis (CJM, funnels)\n",
    "\n",
    "*The number of users is often a tradeoff against what type of detail you can get.  \n",
    "For example, logs usually have user actions at-scale but not “why” a user acts  \n",
    "a particular way that you might get in a UER field study*\n",
    "\n",
    "\n",
    "\n"
   ]
  },
  {
   "cell_type": "markdown",
   "metadata": {
    "heading_collapsed": true
   },
   "source": [
    "#### Jobs to be done"
   ]
  },
  {
   "cell_type": "markdown",
   "metadata": {
    "hidden": true
   },
   "source": [
    "https://hbr.org/2016/09/know-your-customers-jobs-to-be-done  \n",
    "The “Jobs to be Done” Theory of Innovation (book)  \n",
    "Love problem, not solution  \n",
    "\n",
    "---\n",
    "**Идея**  \n",
    "Cегментация не по типам клиентов, а по типам задач (jobs) которые клиенты решают продуктом.  \n",
    "Разные по профилю клиенты могут \"нанимать\" продукт для решения схожих задач и наоборот.\n",
    "\n",
    "1. Определяем задачи (jobs) которые решает клиент продуктом  \n",
    "2. Определяем контекст (context) решения задачи и альтернативные способы (competitors)  \n",
    "3. Находим блокеры, мешающие клиентам решать задачу продуктом эффективнее и устраняем их  \n",
    "\n",
    "---\n",
    "**Что считаем задачей**  \n",
    "Определение задачи не должно быть слишком общим, в нем должна быть конкретизация с учетом **контекста**.  \n",
    "\"Человек хочет коктейль\" - общая и плохая формулировка  \n",
    "\"Человек хочет утолить голод по дороге на работу\" - практичная формулировка с контекстом.  \n",
    "\n",
    "Также в формулировке не должно быть скрыто решение этой задачи (поиск решений - отдельный этап).  \n",
    "Если под сформулированную задачу находится только одно решение - надо подниматься вверх и обобщать.  \n",
    "\n",
    "PS. Задачи людей редко меняются (как и 100 лет назад - перемещение, развлечение, общение, еда...)   \n",
    "Продукты растут за счет более эффективных предлагаемых способов решения этих задач.  \n",
    "\n",
    "https://hbr.org/2005/12/marketing-malpractice-the-cause-and-the-cure  \n",
    "Каждая работа имеет социальное, эмоциональное и функциональное измерение  \n",
    "Example: pet owner want to serve to cats taste wet food (emotional),  \n",
    "but this food is not comfortable to prepare as a dry food (functional).\n",
    "Solution: dry feed with wet center\n",
    "\n",
    "---\n",
    "**Добавочная ценность**  \n",
    "То насколько данный продукт эффективнее решает задачу пользователя по сравнению с альтернативными способами.  \n",
    "Если добавочная ценность слишком мала - то нельзя преодолеть инерцию - пользователь не будет  \n",
    "переключаться на новый способ решения своей задачи.  \n",
    "\n",
    "Добавочная ценность - **субъективна**. Она зависит от того, какие альтернативные способы клиент знает,  \n",
    "а также то как он воспринимает получаемый профит. \n",
    "<u> Примеры </u>  \n",
    "1. Гороскопы решают задачи клиента, вне зависимости от того объективно ли они прогнозируют реальность  \n",
    "2. Teams победил на рынке microsoft по сравнению со Slack, так как конкурировал там не с ним (о нем мало  \n",
    "кто и ЦА знал), а с почтой, скайпом и другими альтернативными продуктами.\n",
    "\n",
    "\n",
    "---\n",
    "<u> Пример с молочными коктейлями </u>.  \n",
    "Две частые задачи:  \n",
    "1. купить детям, как средство вознаграждения за хорошее поведение и.т.д\n",
    "2. купить по пути на работу в автомобиль для того чтобы быстро подкрепиться за рулем  \n",
    "\n",
    "Блокеры первой задачи:  \n",
    "1.1 высокое содержание сахара в коктейле (потенциальный вред)  \n",
    "1.2 слишком большой размер коктейля    \n",
    "1.3 альтернативные варианты поощрения (поход в магазин игрушек итд)   \n",
    "\n",
    "Блокеры второй задачи:  \n",
    "2.1 малая сытность коктейля  \n",
    "2.2 долгое время приготовления  \n",
    "\n",
    "Продуктовые решения для первой задачи:  \n",
    "1.1 Сделать более полезные коктейли небольшого размера  \n",
    "1.2 Предлагать в подарок игрушку, какие то комбо итд.\n",
    "\n",
    "Продуктовые решения для второй задачи:  \n",
    "2.1 Сделать большие и более питательные коктейли  \n",
    "2.2 Приготавливать их заранее, реализовать варианты оплат и получения вроде \"мак авто\"  \n",
    "\n",
    "---\n",
    "**Приложение**  \n",
    "\n",
    "<u> Stakeholders chain </u>    \n",
    "Когда за конечным решение стоит несколько лиц, важно понимать что их \"работы\" могут отличаться.  \n",
    "К примеру при решении о покупке вакансии иногда принимают участие: руководитель компании (согл. бюджета),  \n",
    "главный hr менеджер компании, сотрудник обладающий конечными квотами на найм.  \n",
    "\n",
    "<u> Инерция </u>  \n",
    "Чтобы клиенты поменяли способ решения своей задачи на альтернативный - тот должен быть в несколько  \n",
    "раз эффективнее чем старый. Ключевой вызов для продукта:  \n",
    "\"стать лучше для определенных людей в определенных обстоятельствах (job to be done)\". \n",
    "\n",
    "---\n",
    "Customer “hire” service (product) to solve his problem in specific circumstances.  \n",
    "The **circumstances** and **problem** is more important than customer parameters.  \n",
    "\n",
    "After jobs definition - use this list to prioritise your projects (must dedicated to jobs)\n",
    "\n",
    "https://hbr.org/2005/12/marketing-malpractice-the-cause-and-the-cure\n",
    "- the job, not customer is the fundamental unit fo analysis for a marketer\n",
    "- every job has a social, functional and emotional dimension\n",
    "\n",
    "Job drivers:\n",
    "\n",
    "- attitude (personal relation to the problem)\n",
    "- background (context, long term factor)\n",
    "- circumstances (immediate context, short term)"
   ]
  },
  {
   "cell_type": "markdown",
   "metadata": {
    "heading_collapsed": true
   },
   "source": [
    "#### Customer interviews"
   ]
  },
  {
   "cell_type": "markdown",
   "metadata": {
    "hidden": true
   },
   "source": [
    "\"Runnig Lean, Runnig UX (O’Relly)\"  \n",
    "https://zamesin.ru/books/product-howto/problem-interview/  \n",
    "\n",
    "---\n",
    "\n",
    "**Цель**: получить максимально подробную картину задач, которые решают пользователи продукта  \n",
    "На этом этапе важно собрать качественный сет гипотез, которые потом можно проверять количественно.  \n",
    "\n",
    "1. наиболее ценны факты (кто что делал), а не мнения  \n",
    "2. вопрос \"что бы вы хотели в продукте\" плохой - лучше узнать об альтернативных методах и сравнении  \n",
    "3. \"dont tip your hand\" не наводите клиента на ответ, формулировки должны быть открытыми  \n",
    "\n",
    "<u> Пример </u>: в одной фокус группе презентовали черную коробку со старой моделью техники, и новую желтую с  \n",
    "прогрессивным дизайном. Клиенты в опроснике лучше оценивали новый дизайн, но когда им на выбор предложили  \n",
    "забрать домой одну из коробок - большая часть выбрала черную.\n",
    "\n",
    "\n",
    "<u> Кол-во интервью </u> ~5 клиентов из репрезентативной выборки дадут понимание 85% имеющихся проблем  \n",
    "Интервью можно повторять до тех пор, пока инсайты не начнут повторяться.  \n",
    "\n",
    "---\n",
    "Рекомендации от go practise:\n",
    "1. Записывайте интервью или проводите его в паре (два человека, шире интерпретации + не отвл. на записи)\n",
    "2. Задавайте вопросы о прошлом: просите приводить примеры из жизни (люди плохо предсказывают будущее)\n",
    "3. Не надо ничего объяснять и продавать на интервью\n",
    "4. Докапывайтесь до причины (метод \"пять почему\")\n",
    "\n",
    "---\n",
    "Ожидаемые результаты на **выходе** качественных интервью при исследовании задач клиента:  \n",
    "1. Какую задачу (job) выполняет клиент с помощью вашего продукта, а также при каких условиях (context)  \n",
    "2. Доволен ли он качеством выполнения этой работы, насколько задача решается  \n",
    "3. Какие клиент использует или использовал альтернативные методы (competitors)  \n",
    "4. Какие есть преимущества/недостатки текущего продукта относительно альтернативных (добавочная ценность)  \n",
    "  \n",
    "---\n",
    "books: Runnig Lean, Runnig UX (O’Relly)\n",
    "\n",
    "**Facts** helps to make decision what problems user have.\n",
    "Don’t ask user what he want - there will bi bias. Ask about problem (pain) and tools to solve it.\n",
    "\n",
    "- what tools did you try to solve your problem?\n",
    "- how do you solve a problem right now?\n",
    "- what will be better for problem solution? (open question for ideas)\n",
    "\n",
    "Customer interview its about open questions about facts.\n",
    "Actions speak louder than words.\n",
    "\n",
    "People by nature **try** **to find right answer.\n",
    "”**Don’t tip your hand” - you need to avoid triggers to bias\n",
    "\n",
    "*A well-known example of this phenomenon occurred when Philips Electronics ran a focus group to gain insight into teenagers’ preferences for boom box features. The focus group attendees expressed a strong preference for yellow boom boxes during the focus group, characterizing black boom boxes as “conservative.” Yet when the attendees exited the room and were given the chance to take home a boom box as a reward for their participation, most chose black*\n",
    "\n",
    "Jacob Nielsen: 5 random users could help you to understand about 85% of problems.\n",
    "Ask users until problems begin repeats. Most common way about 5-10 interviews.\n",
    "\n",
    "Some positive interview patterns:\n",
    "- users ready to pay you right now\n",
    "- already tried to solve this problem\n",
    "- ask more questions about"
   ]
  },
  {
   "cell_type": "markdown",
   "metadata": {
    "heading_collapsed": true
   },
   "source": [
    "#### Опросы, NPS"
   ]
  },
  {
   "cell_type": "markdown",
   "metadata": {
    "hidden": true
   },
   "source": [
    "Опросы помогают количественно частотность гипотез/задач из качественных интервью.  \n",
    "1. Опросы с открытым ответом (для большей генерации вариантов)\n",
    "2. Опросы со списками вариантов для оценки частотности\n",
    "\n",
    "Рандомно показываются 1/N части органического трафика  \n",
    "Важно перемешивать порядок ответов, чтобы не вносить систематическое искажение.   \n",
    "\n",
    "Лучше всего работает контекстный опрос внутри продукта, когда мы спрашиваем клиента о фидбеке  \n",
    "\"по следам\" действия которое он только что совершил.  \n",
    "Опросы внутри продукта также могут быть перманентными и оценивать удовлетворенность клиента сервисом итд.  \n",
    "\n",
    "Также важно установить задержку относительно последнего опроса, чтобы клиент не получал их слишком часто.  \n",
    "К примеру, на странице может находиться много опросов от разных команд, но если клиент (user_id)  \n",
    "уже получил какой-то из опросов -> в течение, например неск дней, не стоит показывать другие."
   ]
  },
  {
   "cell_type": "markdown",
   "metadata": {
    "heading_collapsed": true
   },
   "source": [
    "#### Поиск клиентов для интервью"
   ]
  },
  {
   "cell_type": "markdown",
   "metadata": {
    "hidden": true
   },
   "source": [
    "Возможные каналы для приглашения клиентов на интервью:\n",
    "- email, sms - низкая конверсия\n",
    "- messengers - иногда работает лучше\n",
    "- прозвоны, опросы на сайте - наиболее рабочий способ  \n",
    "\n",
    "При составлении письменного приглашения клиента на опрос работают правила:\n",
    "- персонализация, если возможно\n",
    "- краткий заголовок письма, мб в нем прям вопрос\n",
    "- неплохо работают \"помогите нам стать лучше\", \"мы хотим вас услышать\"\n",
    "- управление ожиданиями (это займет 5-10 минут)  \n",
    "\n",
    "Также можно устраивать ab тестирование опросам"
   ]
  },
  {
   "cell_type": "markdown",
   "metadata": {
    "heading_collapsed": true
   },
   "source": [
    "#### Связь задач пользователя (jobs) и метрик"
   ]
  },
  {
   "cell_type": "markdown",
   "metadata": {
    "hidden": true
   },
   "source": [
    "Чтобы понять какую долю в бизнесе занимают задачи, надо решить это в терминах ключевых метрик.  \n",
    "Например, какой % выручки, GMV, клиентов связано с решением задачи X.  \n",
    "\n",
    "Способы сделать это:\n",
    "1. напрямую, где это возможно (uber: задача = поездки в аэропорт; считается напрямую в базе)  \n",
    "2. опросы при онбординге, ключевых действиях внутри продукта (связка с клиентом -> его метриками)  \n",
    "3. прямые опросы через рассылки или звонки\n",
    "\n",
    "Связать задачи и метрики - сложная проблема, для решения которой в томм числе используют ML алгоритмы итд."
   ]
  },
  {
   "cell_type": "code",
   "execution_count": null,
   "metadata": {
    "hidden": true
   },
   "outputs": [],
   "source": []
  }
 ],
 "metadata": {
  "kernelspec": {
   "display_name": "Python 3",
   "language": "python",
   "name": "python3"
  },
  "language_info": {
   "codemirror_mode": {
    "name": "ipython",
    "version": 3
   },
   "file_extension": ".py",
   "mimetype": "text/x-python",
   "name": "python",
   "nbconvert_exporter": "python",
   "pygments_lexer": "ipython3",
   "version": "3.7.3"
  },
  "varInspector": {
   "cols": {
    "lenName": 16,
    "lenType": 16,
    "lenVar": 40
   },
   "kernels_config": {
    "python": {
     "delete_cmd_postfix": "",
     "delete_cmd_prefix": "del ",
     "library": "var_list.py",
     "varRefreshCmd": "print(var_dic_list())"
    },
    "r": {
     "delete_cmd_postfix": ") ",
     "delete_cmd_prefix": "rm(",
     "library": "var_list.r",
     "varRefreshCmd": "cat(var_dic_list()) "
    }
   },
   "types_to_exclude": [
    "module",
    "function",
    "builtin_function_or_method",
    "instance",
    "_Feature"
   ],
   "window_display": false
  }
 },
 "nbformat": 4,
 "nbformat_minor": 4
}
