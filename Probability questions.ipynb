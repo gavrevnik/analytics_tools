{
 "cells": [
  {
   "cell_type": "markdown",
   "metadata": {},
   "source": [
    "#### ТЕОРИЯ"
   ]
  },
  {
   "cell_type": "markdown",
   "metadata": {},
   "source": [
    "**Комбинаторика**  \n",
    "1) Permutation m=1  \n",
    "способов выбрать list=n из n = возможные комбинации n элементов  \n",
    "P = n * (n-1) * ... = n!\n",
    "\n",
    "2) Permutation=перестановки, no replacement  \n",
    "способов выбрать list=m из n; выбор без возвращения  \n",
    "A = n * (n-1) * ... (n-m+1) = n! / (n-m)!  ; P = $A_{nn}$ = n!\n",
    "\n",
    "3) Permutation, with replacement  \n",
    "A_r = n * n * ... = $n^m$  \n",
    "  \n",
    "4) Combination=комбинации, no replacement    \n",
    "способов выбрать set=m из n  \n",
    "C = A / m! = n! / (n-m)!m!  \n",
    "\n",
    "5) Combination, with replacement  \n",
    "C_r = TODO сложное объяснение с нулями\n",
    "\n",
    "6) Кол-во подмножеств множества n элементов  \n",
    "Q = сколько видов set есть в общем set вкл пустое множество и себя.  \n",
    "Множество n = a1 a2 ... an\n",
    "Подмножества = 1/0, 1/0, ... = включаем или нет элемент -> Q = 2 * 2 *... = $2^n$\n",
    "\n",
    "\n",
    "\n",
    "---\n",
    "**Классические вероятности**\n",
    "\n",
    "\n",
    "\n",
    "\n",
    "\n",
    "---"
   ]
  },
  {
   "cell_type": "markdown",
   "metadata": {},
   "source": [
    "#### ЗАДАЧИ"
   ]
  },
  {
   "cell_type": "code",
   "execution_count": null,
   "metadata": {},
   "outputs": [],
   "source": []
  },
  {
   "cell_type": "code",
   "execution_count": null,
   "metadata": {},
   "outputs": [],
   "source": []
  },
  {
   "cell_type": "markdown",
   "metadata": {},
   "source": [
    "#### Ответы на задачи"
   ]
  },
  {
   "cell_type": "code",
   "execution_count": null,
   "metadata": {},
   "outputs": [],
   "source": []
  }
 ],
 "metadata": {
  "kernelspec": {
   "display_name": "Python 3",
   "language": "python",
   "name": "python3"
  },
  "language_info": {
   "codemirror_mode": {
    "name": "ipython",
    "version": 3
   },
   "file_extension": ".py",
   "mimetype": "text/x-python",
   "name": "python",
   "nbconvert_exporter": "python",
   "pygments_lexer": "ipython3",
   "version": "3.7.3"
  },
  "varInspector": {
   "cols": {
    "lenName": 16,
    "lenType": 16,
    "lenVar": 40
   },
   "kernels_config": {
    "python": {
     "delete_cmd_postfix": "",
     "delete_cmd_prefix": "del ",
     "library": "var_list.py",
     "varRefreshCmd": "print(var_dic_list())"
    },
    "r": {
     "delete_cmd_postfix": ") ",
     "delete_cmd_prefix": "rm(",
     "library": "var_list.r",
     "varRefreshCmd": "cat(var_dic_list()) "
    }
   },
   "types_to_exclude": [
    "module",
    "function",
    "builtin_function_or_method",
    "instance",
    "_Feature"
   ],
   "window_display": false
  }
 },
 "nbformat": 4,
 "nbformat_minor": 4
}
