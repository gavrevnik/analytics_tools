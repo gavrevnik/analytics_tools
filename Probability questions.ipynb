{
 "cells": [
  {
   "cell_type": "code",
   "execution_count": 1,
   "metadata": {},
   "outputs": [],
   "source": [
    "import eda_tools as eda\n",
    "import numpy as np"
   ]
  },
  {
   "cell_type": "markdown",
   "metadata": {},
   "source": [
    "#### Полезные ссылки"
   ]
  },
  {
   "cell_type": "markdown",
   "metadata": {},
   "source": [
    "- Ace of data interview - data science book\n",
    "- https://github.com/sinclam2/fifty-challenging-problems-in-probability/blob/master/01-Solution.ipynb\n",
    "- https://www.nicksingh.com/posts/40-probability-statistics-data-science-interview-questions-asked-by-fang-wall-street\n",
    "- примеры задач компаний из check-папки"
   ]
  },
  {
   "cell_type": "markdown",
   "metadata": {},
   "source": [
    "### На что обращать внимание"
   ]
  },
  {
   "cell_type": "markdown",
   "metadata": {},
   "source": [
    "1) Частая ошибка - забываем множитель сочетаний при расчете вероятностей. Обратить внимание является ли схема биноминальной.  \n",
    "2) при сложных расчетах обращать внимание на возможность симметрии - мб это упростит задачу  \n",
    "3) задачи с условными вероятностями - иногда кажется что конкретная вероятность зависит от предыдущих, но  \n",
    "если мы не фиксируем условную вероятность то возможно считать как независимые (задача 15)\n",
    "Особенно это актуально при расчете среднего (см пояснения к этой задаче)"
   ]
  },
  {
   "cell_type": "markdown",
   "metadata": {},
   "source": [
    "**Tips**:\n",
    "пусть p(xi) - вероятность посадки на i-м месте (до этого люди как то уже сели)  \n",
    "xi_avg = xi * p(xi|prev1) * p(prev1) + ... xi * p(xi | prevk) * p(prevk)  \n",
    "ср значение xi - взвешено по всем вероятностям наступления xi при условии пред конфигураций посадки prev  \n",
    "Но тогда xi_avg = xi * sum(p(xi|prevk)p(prevk)) = xi * p(xi) по формуле полной вероятности  \n",
    "Пред. конфигурации складываются в независимую безусловную вероятность наступления xi"
   ]
  },
  {
   "cell_type": "markdown",
   "metadata": {},
   "source": [
    "#### fifty-challenging-problems"
   ]
  },
  {
   "cell_type": "code",
   "execution_count": 23,
   "metadata": {},
   "outputs": [
    {
     "name": "stdout",
     "output_type": "stream",
     "text": [
      "dist sum  0.9998681382170593\n",
      "avg N untill success  5.9927476019382695\n"
     ]
    },
    {
     "data": {
      "image/png": "[encoded data removed]",
      "text/plain": [
       "<Figure size 432x288 with 1 Axes>"
      ]
     },
     "metadata": {
      "needs_background": "light"
     },
     "output_type": "display_data"
    }
   ],
   "source": [
    "# 3) сколько в ср раз кинуть кубик пока не выпадет 6\n",
    "# аналог распределения бернулли\n",
    "p, q = 1/6, 5/6\n",
    "x = list(range(1, 50))\n",
    "dist = []\n",
    "for j in x:\n",
    "    dist.append(p * q**(j-1))\n",
    "print('dist sum ', sum(dist))\n",
    "print('avg N untill success ', np.sum(np.array(x) * np.array(dist)))\n",
    "print('чтобы суммировать аналитичически достаточно вспомить что 1/(1-x) производная даст нужный ряд')\n",
    "eda.make_plot('bar', {'x' : x, 'y' : dist})"
   ]
  },
  {
   "cell_type": "code",
   "execution_count": 14,
   "metadata": {},
   "outputs": [
    {
     "name": "stdout",
     "output_type": "stream",
     "text": [
      "res 0.4995000000000076\n"
     ]
    }
   ],
   "source": [
    "# 10) У вашего друга есть много чёрных и белых шаров, и он кладёт в урну чёрные и белые шары по своему усмотрению. \n",
    "# Вы выбираете «чёрный» или «белый». Из урны случайно вытаскивается один шар. \n",
    "# Запишите максимальную сумму, которую вы готовы заплатить за участие в этой игре. \n",
    "# Игра проводится только один раз.\n",
    "\n",
    "# p(w) = 2 * p(белый) * p = p (из за симметрии, домножаем на 2 для кейса с черным выбором) \n",
    "# p = sum(p(вытащить белый из N когда X белых) * p(друг запланировал X белых) * p(друг запланировал N шаров))  \n",
    "# p = sum(x/N * 1/(N+1)) суммируем по N = 1, inf; x = 0, N (поэтому n+1 вариант для каждого N)\n",
    "p = 0\n",
    "Max_N = 1000 # с ростом выходим на насыщение\n",
    "for N in range(1, Max_N): # число шаров в корзине\n",
    "    for x in range(0, N+1): # число белых шаров\n",
    "        p += x/N * 1/(N+1) * 1/Max_N # тотал шанс угадать белый шар\n",
    "print('res', p)\n",
    "\n",
    "# или еще проще - здесь полная симметрия, а значит нет преимуществ выбора белого/черного. p = 1/2\n",
    "# чуть сложнее - пусть СВ f_b - доля выбора черных шаров. тогда доля белых 1 - f_b\n",
    "# p(win) = p(black) * f_b + p(white) * (1-f_b) = 1/2, т к p(white) = p(black) = 1/2"
   ]
  },
  {
   "cell_type": "code",
   "execution_count": 9,
   "metadata": {},
   "outputs": [
    {
     "name": "stdout",
     "output_type": "stream",
     "text": [
      "5.499990981991038\n"
     ]
    }
   ],
   "source": [
    "# 14) Купоны в коробках с хлопьями пронумерованы от 1 до 5, и для получения приза \n",
    "# нужно собрать по одному экземпляру каждого номера.В каждой коробке — один купон. \n",
    "# Сколько коробок в среднем нужно купить, чтобы собрать полный набор?\n",
    "\n",
    "# если я купил x коробок, то шанс что соберу 1-5 купонов: p = 1 * 1/(x-1) * ... 1/(x-4)\n",
    "# тогда <x> = sum(x * p), x = (5, inf)  \n",
    "x_max = 1000\n",
    "p = 0\n",
    "for x in range(5, x_max+1):\n",
    "    p += x / ((x-1) * (x-2) * (x-3) * (x-4))\n",
    "print(p / 0.05555555522021383)"
   ]
  },
  {
   "cell_type": "markdown",
   "metadata": {},
   "source": [
    "15) Восемь подходящих женихов и семь красивых моделей случайно купили одиночные билеты \n",
    "в один и тот же 15-местный ряд театра. \n",
    "В среднем, сколько пар соседних мест окажутся заняты \"брачными парами\"?\n",
    "\n",
    "Итак, у нас 15 мест, а значит 14 пар мест которые друг рядом с другом. Пусть хi - это состояние i-пары.  \n",
    "Если xi=1 то там есть матч, если xi=0 то нет.  Тогда cnt = x1 + ... + x14 - случайное число матчей.  \n",
    "(!) вероятность матча xi не зависит от других j!=i (у нас НЕТ условия на то как они распределены)  \n",
    "Поэтому для любого i: xi_avg = 1 * (7/14 * 8/15 + 8/14 * 7/15) = 8/15  \n",
    "Тогда cnt_avg = 14 * xi_avg = 8 * 14 / 15 ~ 7.4  \n",
    "\n",
    "**Tips**:\n",
    "пусть p(xi) - вероятность посадки на i-м месте (до этого люди как то уже сели)  \n",
    "xi_avg = xi * p(xi|prev1) * p(prev1) + ... xi * p(xi | prevk) * p(prevk)  \n",
    "ср значение xi - взвешено по всем вероятностям наступления xi при условии пред конфигураций посадки prev  \n",
    "Но тогда xi_avg = xi * sum(p(xi|prevk)p(prevk)) = xi * p(xi) по формуле полной вероятности  \n",
    "Пред. конфигурации складываются в независимую безусловную вероятность наступления xi"
   ]
  },
  {
   "cell_type": "code",
   "execution_count": 19,
   "metadata": {},
   "outputs": [
    {
     "data": {
      "text/plain": [
       "7.466666666666667"
      ]
     },
     "execution_count": 19,
     "metadata": {},
     "output_type": "execute_result"
    }
   ],
   "source": [
    "8 * 14 / 15 "
   ]
  },
  {
   "cell_type": "code",
   "execution_count": null,
   "metadata": {},
   "outputs": [],
   "source": []
  }
 ],
 "metadata": {
  "kernelspec": {
   "display_name": "Python 3",
   "language": "python",
   "name": "python3"
  },
  "language_info": {
   "codemirror_mode": {
    "name": "ipython",
    "version": 3
   },
   "file_extension": ".py",
   "mimetype": "text/x-python",
   "name": "python",
   "nbconvert_exporter": "python",
   "pygments_lexer": "ipython3",
   "version": "3.7.3"
  },
  "varInspector": {
   "cols": {
    "lenName": 16,
    "lenType": 16,
    "lenVar": 40
   },
   "kernels_config": {
    "python": {
     "delete_cmd_postfix": "",
     "delete_cmd_prefix": "del ",
     "library": "var_list.py",
     "varRefreshCmd": "print(var_dic_list())"
    },
    "r": {
     "delete_cmd_postfix": ") ",
     "delete_cmd_prefix": "rm(",
     "library": "var_list.r",
     "varRefreshCmd": "cat(var_dic_list()) "
    }
   },
   "types_to_exclude": [
    "module",
    "function",
    "builtin_function_or_method",
    "instance",
    "_Feature"
   ],
   "window_display": false
  }
 },
 "nbformat": 4,
 "nbformat_minor": 4
}
