{
 "cells": [
  {
   "cell_type": "code",
   "execution_count": null,
   "metadata": {},
   "outputs": [],
   "source": [
    "todo: уточнения из ACE; перекопировать все из notion"
   ]
  },
  {
   "cell_type": "code",
   "execution_count": null,
   "metadata": {},
   "outputs": [],
   "source": []
  },
  {
   "cell_type": "markdown",
   "metadata": {
    "heading_collapsed": true
   },
   "source": [
    "#### Ask your own questions"
   ]
  },
  {
   "cell_type": "markdown",
   "metadata": {
    "hidden": true
   },
   "source": [
    "Also you should think about what company questions will you ask on interview.\n",
    "**Ask to recruiter**:\n",
    "- what topics to expect (sql, algorithms, metric’s, ml and so on)\n",
    "- how long the interview is\n",
    "- exact order of conducting interview (and who will be the interviewer)\n",
    "\n",
    "Your questions after interview should be based on your company research. So, it can show your preparation before interview and your motivation as well.\n",
    "\n",
    "**Ask after interview**\n",
    "\n",
    "- future vision of the company\n",
    "- types of projects you would be working on (short, long term)\n",
    "- structure of your team, technical stack\n",
    "\n",
    "“Ask different questions to the different people. Write your questions\n",
    "Use different question levels to different positions”"
   ]
  },
  {
   "cell_type": "markdown",
   "metadata": {
    "heading_collapsed": true
   },
   "source": [
    "#### Negotiation"
   ]
  },
  {
   "cell_type": "markdown",
   "metadata": {
    "hidden": true
   },
   "source": [
    "You should always negotiate about your compensations\n",
    "https://haseebq.com/my-ten-rules-for-negotiating-a-job-offer/\n",
    "\n",
    "- protect concrete information \n",
    "(about compensation. Its about competitive salary or you are in the decision process now)\n",
    "- wanna discuss with my family or partners and so on (redirect final responsibility)\n",
    "- have a good evidence of your desirable compensation level\n",
    "check if its lower or higher than average level (can use https://www.levels.fyi/)\n",
    "\n",
    "Some tips about negotiation about numbers:\n",
    "\n",
    "- not allowed to reveal my previous salary by company\n",
    "- know about market range but wanna find out your company specific numbers\n",
    "- need time to discuss with my family about suggestion\n",
    "- want to know about your official offer in written form to investigate a details\n",
    "\n",
    "- Do you have some benefits besides the compensation? (RSU, 401k and so on)\n",
    "Calculate the total compensation per year to be able to compare offers.\n",
    "\n",
    "Negotiation the offer\n",
    "I wanna make sure that i have fair market salary for my skills.\n",
    "I’m excited about my team and company, so want to be in this for a number of years and so i want to get good compensations with no need to focus on this problem and trying to dedicade myself just \n",
    "in useful company impact (in a **long term**)"
   ]
  },
  {
   "cell_type": "code",
   "execution_count": null,
   "metadata": {
    "hidden": true
   },
   "outputs": [],
   "source": []
  }
 ],
 "metadata": {
  "kernelspec": {
   "display_name": "Python 3",
   "language": "python",
   "name": "python3"
  },
  "language_info": {
   "codemirror_mode": {
    "name": "ipython",
    "version": 3
   },
   "file_extension": ".py",
   "mimetype": "text/x-python",
   "name": "python",
   "nbconvert_exporter": "python",
   "pygments_lexer": "ipython3",
   "version": "3.7.3"
  },
  "varInspector": {
   "cols": {
    "lenName": 16,
    "lenType": 16,
    "lenVar": 40
   },
   "kernels_config": {
    "python": {
     "delete_cmd_postfix": "",
     "delete_cmd_prefix": "del ",
     "library": "var_list.py",
     "varRefreshCmd": "print(var_dic_list())"
    },
    "r": {
     "delete_cmd_postfix": ") ",
     "delete_cmd_prefix": "rm(",
     "library": "var_list.r",
     "varRefreshCmd": "cat(var_dic_list()) "
    }
   },
   "types_to_exclude": [
    "module",
    "function",
    "builtin_function_or_method",
    "instance",
    "_Feature"
   ],
   "window_display": false
  }
 },
 "nbformat": 4,
 "nbformat_minor": 4
}
